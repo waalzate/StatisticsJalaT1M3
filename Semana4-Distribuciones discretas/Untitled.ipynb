{
 "cells": [
  {
   "cell_type": "markdown",
   "id": "3f259954",
   "metadata": {},
   "source": [
    "### Ejemplo: (Binomial) \n",
    "\n",
    "El  examen  parcial de estadística es un examen de  selección  múltiple que contiene  7  preguntas y  \n",
    "se  dan  5  opciones  a  cada  pregunta,  solo una de ellas es correcta. \n",
    "Si un estudiante responde al azar, hallar la probabilidad que:\n",
    "\n",
    "- a) 7 respuestas estén correctas\n",
    "- b) Al menos 3 respuestas estén correctas\n",
    "- c) Entre 5 y 7 estén correctas.\n",
    "\n"
   ]
  },
  {
   "cell_type": "code",
   "execution_count": null,
   "id": "bf6302ab",
   "metadata": {},
   "outputs": [],
   "source": [
    "#importar librerias\n",
    "\n",
    "from scipy.stats import binom"
   ]
  },
  {
   "cell_type": "code",
   "execution_count": null,
   "id": "fc593599",
   "metadata": {},
   "outputs": [],
   "source": [
    "p=0.2\n",
    "n=7\n",
    "k=7\n",
    "prob_X_igual_7 =binom.pmf(n,k,p)\n",
    "prob_X_igual_7"
   ]
  },
  {
   "cell_type": "code",
   "execution_count": null,
   "id": "6d930a4d",
   "metadata": {},
   "outputs": [],
   "source": [
    "print(f\"P(X=7) = {prob_X_igual_7:.6f}\")"
   ]
  },
  {
   "cell_type": "code",
   "execution_count": null,
   "id": "4ff6b45c",
   "metadata": {},
   "outputs": [],
   "source": [
    "# Al menos tres respuestas correctas:\n",
    "#P(X>=3)=1-P(X<=2)\n",
    "prob_X_mayor_igual_3 = 1-binom.cdf(2,7,0.2)"
   ]
  },
  {
   "cell_type": "code",
   "execution_count": null,
   "id": "cf0ef413",
   "metadata": {},
   "outputs": [],
   "source": [
    "print(prob_X_mayor_igual_3)"
   ]
  },
  {
   "cell_type": "code",
   "execution_count": null,
   "id": "3b554cae",
   "metadata": {},
   "outputs": [],
   "source": [
    "#problema de arrivos\n",
    "from scipy.stats import poisson\n",
    "\n",
    "prob_X_igual_4 = poisson.pmf(4,5)\n"
   ]
  },
  {
   "cell_type": "code",
   "execution_count": null,
   "id": "0d552581",
   "metadata": {},
   "outputs": [],
   "source": [
    "print(prob_X_igual_4)"
   ]
  },
  {
   "cell_type": "code",
   "execution_count": null,
   "id": "324cd957",
   "metadata": {},
   "outputs": [],
   "source": [
    "prob_X_al_menos_4 = 1- poisson.cdf(3,5)\n",
    "print(prob_X_al_menos_4)"
   ]
  },
  {
   "cell_type": "code",
   "execution_count": null,
   "id": "4fb8de5c",
   "metadata": {},
   "outputs": [],
   "source": [
    "#importar librerias\n",
    "\n",
    "from scipy.stats import binom\n",
    "\n"
   ]
  },
  {
   "cell_type": "code",
   "execution_count": null,
   "id": "4864fe86",
   "metadata": {},
   "outputs": [],
   "source": [
    "n = 20\n",
    "p = 0.2\n"
   ]
  },
  {
   "cell_type": "code",
   "execution_count": null,
   "id": "cb6165f7",
   "metadata": {},
   "outputs": [],
   "source": [
    "Prob_X_igual_10 =binom.pmf(k,n,p)"
   ]
  },
  {
   "cell_type": "code",
   "execution_count": null,
   "id": "06633ff8",
   "metadata": {},
   "outputs": [],
   "source": [
    "print(Prob_X_igual_10)"
   ]
  },
  {
   "cell_type": "code",
   "execution_count": null,
   "id": "470fdc5c",
   "metadata": {},
   "outputs": [],
   "source": [
    "Prob_X_menor_o_igual_2 = binom.cdf(2,n,p)\n",
    "print(Prob_X_menor_o_igual_2)"
   ]
  },
  {
   "cell_type": "code",
   "execution_count": 5,
   "id": "8582ca40",
   "metadata": {},
   "outputs": [],
   "source": [
    "import scipy.stats as stats"
   ]
  },
  {
   "cell_type": "code",
   "execution_count": 1,
   "id": "95253c31",
   "metadata": {},
   "outputs": [],
   "source": [
    "n = 20\n",
    "p = 0.2\n"
   ]
  },
  {
   "cell_type": "code",
   "execution_count": 3,
   "id": "41ead972",
   "metadata": {},
   "outputs": [],
   "source": [
    "Prob_X_menorq_9_y_mayorq_2 = stats.binom.cdf(9,20,0.2) - stats.binom.cdf(1,20,0.2)"
   ]
  },
  {
   "cell_type": "code",
   "execution_count": 4,
   "id": "63f158ae",
   "metadata": {},
   "outputs": [
    {
     "name": "stdout",
     "output_type": "stream",
     "text": [
      "0.928229882322915\n"
     ]
    }
   ],
   "source": [
    "print(Prob_X_menorq_9_y_mayorq_2)"
   ]
  },
  {
   "cell_type": "code",
   "execution_count": 7,
   "id": "fd0f1628",
   "metadata": {},
   "outputs": [
    {
     "data": {
      "text/plain": [
       "0.17546736976785063"
      ]
     },
     "execution_count": 7,
     "metadata": {},
     "output_type": "execute_result"
    }
   ],
   "source": [
    "stats.poisson.pmf(4,5)"
   ]
  },
  {
   "cell_type": "code",
   "execution_count": 8,
   "id": "37582997",
   "metadata": {},
   "outputs": [],
   "source": [
    "Prob_X_mayor_que_4 = 1- stats.poisson.cdf(k = 3,mu = 5)"
   ]
  },
  {
   "cell_type": "code",
   "execution_count": 9,
   "id": "774b1725",
   "metadata": {},
   "outputs": [
    {
     "name": "stdout",
     "output_type": "stream",
     "text": [
      "0.7349740847026385\n"
     ]
    }
   ],
   "source": [
    "print(Prob_X_mayor_que_4)"
   ]
  },
  {
   "cell_type": "code",
   "execution_count": null,
   "id": "37bec3af",
   "metadata": {},
   "outputs": [],
   "source": []
  }
 ],
 "metadata": {
  "kernelspec": {
   "display_name": "Python 3 (ipykernel)",
   "language": "python",
   "name": "python3"
  },
  "language_info": {
   "codemirror_mode": {
    "name": "ipython",
    "version": 3
   },
   "file_extension": ".py",
   "mimetype": "text/x-python",
   "name": "python",
   "nbconvert_exporter": "python",
   "pygments_lexer": "ipython3",
   "version": "3.9.12"
  }
 },
 "nbformat": 4,
 "nbformat_minor": 5
}
