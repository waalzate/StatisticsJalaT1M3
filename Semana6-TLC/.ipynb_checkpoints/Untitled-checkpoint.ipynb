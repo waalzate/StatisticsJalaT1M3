{
 "cells": [
  {
   "cell_type": "markdown",
   "id": "662a7c75",
   "metadata": {},
   "source": [
    "# Cuartiles"
   ]
  },
  {
   "cell_type": "code",
   "execution_count": 1,
   "id": "886d3041",
   "metadata": {},
   "outputs": [],
   "source": [
    "# Import numpy package\n",
    "import numpy as np"
   ]
  },
  {
   "cell_type": "code",
   "execution_count": 2,
   "id": "7513a92d",
   "metadata": {
    "scrolled": true
   },
   "outputs": [
    {
     "name": "stdout",
     "output_type": "stream",
     "text": [
      "[49.  53.  54.5 59. ]\n"
     ]
    }
   ],
   "source": [
    "#Ejemplo :\n",
    "values = [46, 47, 49, 49, 51, 53, 54, 54, 55, 55, 59]\n",
    "\n",
    "q = np.quantile(values, [0.25,0.5,0.75,1])\n",
    "print(q)\n"
   ]
  },
  {
   "cell_type": "code",
   "execution_count": 3,
   "id": "9b570da2",
   "metadata": {
    "scrolled": false
   },
   "outputs": [
    {
     "name": "stdout",
     "output_type": "stream",
     "text": [
      "[2.48 3.1  4.27]\n"
     ]
    }
   ],
   "source": [
    "#Ejemplo :\n",
    "values = [5, 4.2, 2.3, 2.2, 5, 4.3, 0.1, 1.4, 3.1, 1.8, \n",
    "          3.3, 2.5, 3.9, 2.2, 3.7, 3.1, 3, 3.4, 2.7, 3, 2.7, 3.1, 1.9, 3.9]\n",
    "\n",
    "\n",
    "q = np.quantile(values, [0.3,0.6,0.9])\n",
    "print(q)"
   ]
  },
  {
   "cell_type": "markdown",
   "id": "ab32dbea",
   "metadata": {},
   "source": [
    "# Tablas de Frecuencias.\n",
    "Ejemplo:\n",
    "\n",
    "Un estudio sobre el comportamiento de consumo de una familia en un centro comercial se llevó a cabo durante varias semanas. Se registraron los montos de gastos en diferentes categorías de productos, como ropa, alimentos y artículos para el hogar. Los datos recopilados incluyen las siguientes cantidades en dólares:\n",
    "\n",
    "77, 18, 63, 84, 38, 54, 50, 59, 54, 56, 36, 26, 50,\n",
    "34, 44, 41, 58, 58, 53, 51, 62, 43, 52, 53, 63, 62,\n",
    "62, 65, 61, 52, 60, 60, 45,\n",
    "\n",
    "\n",
    "\n",
    "\n",
    "Para analizar el patrón de gastos, se organizaron los datos en una distribución de frecuencias con siete clases y un límite inferior de la primera clase de $15. Este enfoque permitió identificar los rangos de gastos más comunes y brindó una visión detallada de cómo la familia distribuye su presupuesto durante sus visitas al centro comercial. La información obtenida será valiosa para comprender mejor las preferencias de compra y tomar decisiones informadas en estrategias de gestión financiera familiar.\n",
    "\n"
   ]
  },
  {
   "cell_type": "code",
   "execution_count": 4,
   "id": "962b43f4",
   "metadata": {},
   "outputs": [],
   "source": [
    "import pandas as pd\n",
    "import matplotlib.pyplot as plt\n",
    "\n",
    "# Datos de ejemplo\n",
    "data = [77, 18, 63, 84, 38, 54, 50, 59, 54, 56, 36, 26, 50, 34, 44, \n",
    "        41, 58, 58, 53, 51, 62, 43, 52, 53, 63, 62, 62, 65, 61, 52, 60, 60, 45, 66, 83, 71, 63, 58, 61]\n",
    "#definimos el número de clases:\n",
    "num_clases = 7\n",
    "\n",
    "#hallamos el valor mínimo: \n",
    "val_min = min(data)\n",
    "\n",
    "#hallamos el valor máximo: \n",
    "val_max = max(data)\n",
    "\n",
    "#hallamos el ancho o amplitud de la clase\n",
    "A= (val_max-val_min)/num_clases\n"
   ]
  },
  {
   "cell_type": "markdown",
   "id": "9a997552",
   "metadata": {},
   "source": [
    "*Dado que A=9.42, podemos tomar el ancho de clases igual a 10*\n",
    "*y considerar el primer intervalo de  clase partiendo de 16 con el*\n",
    "*fin de que el ultimo intervalo tenga como limite superior a 86.*"
   ]
  },
  {
   "cell_type": "code",
   "execution_count": 6,
   "id": "a4fcb74c",
   "metadata": {},
   "outputs": [
    {
     "name": "stdout",
     "output_type": "stream",
     "text": [
      "  Intervalo  Frecuencia  Frecuencia acumulada  Frecuencia relativa  \\\n",
      "0  [16, 26)           1                     1             0.025641   \n",
      "1  [26, 36)           2                     3             0.051282   \n",
      "2  [36, 46)           6                     9             0.153846   \n",
      "3  [46, 56)           9                    18             0.230769   \n",
      "4  [56, 66)          16                    34             0.410256   \n",
      "5  [66, 76)           2                    36             0.051282   \n",
      "6  [76, 86)           3                    39             0.076923   \n",
      "\n",
      "   Frecuencia relativa acumulada  \n",
      "0                       0.025641  \n",
      "1                       0.076923  \n",
      "2                       0.230769  \n",
      "3                       0.461538  \n",
      "4                       0.871795  \n",
      "5                       0.923077  \n",
      "6                       1.000000  \n"
     ]
    },
    {
     "data": {
      "image/png": "[encoded data removed]",
      "text/plain": [
       "<Figure size 432x288 with 1 Axes>"
      ]
     },
     "metadata": {
      "needs_background": "light"
     },
     "output_type": "display_data"
    }
   ],
   "source": [
    "# Definir los límites de clase\n",
    "limites = [16 + 10 * i for i in range(num_clases+1)]\n",
    "\n",
    "# Crear el DataFrame con las frecuencias\n",
    "df = pd.cut(data, bins=limites, include_lowest=True, right=False)\n",
    "df = pd.value_counts(df, sort=False).reset_index()\n",
    "df.columns = ['Intervalo', 'Frecuencia']\n",
    "\n",
    "# Calcular la frecuencia acumulada\n",
    "df['Frecuencia acumulada'] = df['Frecuencia'].cumsum()\n",
    "\n",
    "# Calcular la frecuencia relativa\n",
    "df['Frecuencia relativa'] = df['Frecuencia'] / len(data)\n",
    "\n",
    "# Calcular la frecuencia relativa acumulada\n",
    "df['Frecuencia relativa acumulada'] = df['Frecuencia relativa'].cumsum()\n",
    "\n",
    "# Mostrar la tabla de frecuencias\n",
    "print(df)\n",
    "\n",
    "bins=limites\n",
    "# Graficar el histograma\n",
    "plt.hist(data, bins=bins, edgecolor='black', alpha=0.7)\n",
    "plt.title('Histograma con Frecuencias')\n",
    "plt.xlabel('Intervalos de Clase')\n",
    "plt.ylabel('Frecuencia')\n",
    "plt.show()\n"
   ]
  },
  {
   "cell_type": "markdown",
   "id": "50d133f7",
   "metadata": {},
   "source": [
    "# Diagrama de Barras"
   ]
  },
  {
   "cell_type": "code",
   "execution_count": null,
   "id": "86265d73",
   "metadata": {},
   "outputs": [],
   "source": [
    "import matplotlib.pyplot as plt\n",
    "\n",
    "# Datos de ejemplo (categorías y frecuencias)\n",
    "categorias = ['Amarillo', 'Verde', 'Morado', 'Azul']\n",
    "frecuencias = [12, 8, 22, 16]\n",
    "\n",
    "# Colores para cada barra\n",
    "colores = ['yellow', 'green', 'purple', 'blue']\n",
    "\n",
    "# Crear el diagrama de barras\n",
    "plt.bar(categorias, frecuencias, color=colores)\n",
    "\n",
    "# Personalizar el gráfico (opcional)\n",
    "plt.title('Diagrama de Barras para las Ventas de Bufandas')\n",
    "plt.xlabel('Color')\n",
    "plt.ylabel('Cantidad')\n",
    "plt.grid(axis='y', linestyle='--', alpha=0.7)\n",
    "\n",
    "# Mostrar el gráfico\n",
    "plt.show()\n"
   ]
  },
  {
   "cell_type": "markdown",
   "id": "f80c3ad8",
   "metadata": {},
   "source": [
    "# Diagrama circular"
   ]
  },
  {
   "cell_type": "code",
   "execution_count": null,
   "id": "99d845ad",
   "metadata": {},
   "outputs": [],
   "source": [
    "import matplotlib.pyplot as plt\n",
    "\n",
    "# Datos de ejemplo\n",
    "categorias = ['Amarillo', 'Verde', 'Morado', 'Azul']\n",
    "frecuencias = [12, 8, 22, 16]\n",
    "\n",
    "\n",
    "# Colores para cada cada categoría\n",
    "colores = ['yellow', 'green', 'purple', 'blue']\n",
    "# Crear el gráfico de pastel\n",
    "plt.pie(frecuencias, labels=categorias, autopct='%1.1f%%', startangle=90, colors= colores)\n",
    "\n",
    "# Personalizar el gráfico (opcional)\n",
    "plt.title('Diagrama Circular para las Ventas de Bufandas')\n",
    "\n",
    "# Mostrar el gráfico\n",
    "plt.show()\n"
   ]
  },
  {
   "cell_type": "code",
   "execution_count": null,
   "id": "9df0109b",
   "metadata": {},
   "outputs": [],
   "source": [
    "import matplotlib.pyplot as plt\n",
    "\n",
    "# Datos de ganancia y frecuencia\n",
    "ganancias = [\"$200 a $600\", \"$600 a $1,000\", \"$1,000 a $1,400\", \"$1,400 a $1,800\", \"$1,800 a $2,200\", \"$2,200 a $2,600\", \"$2,600 a $3,000\", \"$3,000 a $3,400\"]\n",
    "frecuencias = [8, 11, 23, 38, 45, 32, 19, 4]\n",
    "\n",
    "# Crear el histograma\n",
    "plt.bar(ganancias, frecuencias, color='skyblue')\n",
    "\n",
    "# Personalizar el gráfico (opcional)\n",
    "plt.title('Histograma de Ganancias por Venta de Vehículos')\n",
    "plt.xlabel('Ganancia')\n",
    "plt.ylabel('Frecuencia')\n",
    "plt.grid(axis='y', linestyle='--', alpha=0.7)\n",
    "\n",
    "# Mostrar el gráfico\n",
    "plt.show()\n"
   ]
  },
  {
   "cell_type": "code",
   "execution_count": null,
   "id": "cd68fe17",
   "metadata": {},
   "outputs": [],
   "source": [
    "import matplotlib.pyplot as plt\n",
    "\n",
    "# Datos de sesiones de entrenamiento\n",
    "sesiones_entrenamiento = [83, 51, 66, 61, 82, 65, 54, 56, 92, 60,\n",
    "                           65, 87, 68, 64, 51, 70, 75, 66, 74, 68,\n",
    "                           44, 55, 78, 69, 98, 67, 82, 77, 79, 62,\n",
    "                           38, 88, 76, 99, 84, 47, 60, 42, 66, 74,\n",
    "                           91, 71, 83, 80, 68, 65, 51, 56, 73, 55]\n",
    "\n",
    "# Crear el histograma\n",
    "plt.hist(sesiones_entrenamiento, bins=10, color='skyblue', edgecolor='black')\n",
    "\n",
    "# Personalizar el gráfico (opcional)\n",
    "plt.title('Histograma de Sesiones de Entrenamiento')\n",
    "plt.xlabel('Sesiones de Entrenamiento')\n",
    "plt.ylabel('Frecuencia')\n",
    "plt.grid(axis='y', linestyle='--', alpha=0.7)\n",
    "\n",
    "# Mostrar el gráfico\n",
    "plt.show()\n"
   ]
  },
  {
   "cell_type": "markdown",
   "id": "40d11f33",
   "metadata": {},
   "source": [
    "# Gráfico de Dispersión"
   ]
  },
  {
   "cell_type": "code",
   "execution_count": null,
   "id": "5e65af5d",
   "metadata": {
    "scrolled": true
   },
   "outputs": [],
   "source": [
    "import matplotlib.pyplot as plt\n",
    "import numpy as np\n",
    "\n",
    "# Datos de horas de estudio y calificaciones finales\n",
    "horas_de_estudio = [2, 3, 5, 1, 6, 4, 7, 8, 9, 10]\n",
    "calificaciones_finales = [60, 65, 75, 50, 80, 70, 85, 90, 95, 100]\n",
    "\n",
    "# Crear el diagrama de dispersión\n",
    "plt.scatter(horas_de_estudio, calificaciones_finales, color='blue', label='Estudiantes')\n",
    "\n",
    "# Personalizar el gráfico\n",
    "plt.title('Diagrama de Dispersión: Horas de Estudio vs. Calificaciones Finales')\n",
    "plt.xlabel('Horas de Estudio')\n",
    "plt.ylabel('Calificaciones Finales')\n",
    "plt.legend()\n",
    "plt.grid(True)\n",
    "\n",
    "# Mostrar el gráfico\n",
    "plt.show()\n"
   ]
  },
  {
   "cell_type": "markdown",
   "id": "ca3ba4be",
   "metadata": {},
   "source": [
    "# Distribucion Normal: Ejemplo 2\n",
    "\n",
    "\n",
    "Suponga que una máquina de café  ofrece tazas de café de 12 onzas. La cantidad real de café vertida en la taza por la máquina varía según una distribución normal, con una media igual a 13 onzas y una desviación estándar igual a 0,6 onzas. Para cada pregunta que se presenta a continuación, es necesario crear un gráfico en el cual se destaque la media, sombrear la región correspondiente a la respuesta y calcular el porcentaje asociado.\n",
    "\n",
    "\n",
    "a. ¿Qué porcentaje de tazas se llenará con menos de 12 onzas?\n",
    "\n",
    "b. ¿Qué porcentaje de tazas se llenará con más de 12.5 onzas?\n",
    "\n",
    "c. ¿Qué porcentaje de tazas tendrá entre 12 y 13 onzas de café?\n"
   ]
  },
  {
   "cell_type": "code",
   "execution_count": null,
   "id": "54d45dd0",
   "metadata": {
    "scrolled": true
   },
   "outputs": [],
   "source": [
    "import numpy as np\n",
    "import matplotlib.pyplot as plt\n",
    "from scipy.stats import norm\n",
    "\n",
    "# Parámetros de la distribución normal\n",
    "media = 13\n",
    "desviacion_estandar = 0.6\n",
    "\n",
    "# Valor para el cual queremos calcular la probabilidad (X < 12)\n",
    "valor_limite = 12\n",
    "\n",
    "# Calcula la probabilidad utilizando la función de distribución acumulativa (CDF)\n",
    "probabilidad = norm.cdf(valor_limite, loc=media, scale=desviacion_estandar)\n",
    "\n",
    "# Genera datos para el gráfico\n",
    "x = np.linspace(media - 3 * desviacion_estandar, media + 3 * desviacion_estandar, 1000)\n",
    "y = norm.pdf(x, loc=media, scale=desviacion_estandar)\n",
    "\n",
    "# Grafica la distribución normal\n",
    "plt.plot(x, y, label='Distribución Normal')\n",
    "\n",
    "# Sombréa la región P(X < 12)\n",
    "x_fill = np.linspace(media - 3 * desviacion_estandar, valor_limite, 1000)\n",
    "y_fill = norm.pdf(x_fill, loc=media, scale=desviacion_estandar)\n",
    "plt.fill_between(x_fill, y_fill, color='lightblue', alpha=0.5, label='P(X < 12)')\n",
    "\n",
    "# Resalta la media\n",
    "plt.axvline(media, color='red', linestyle='--', label='Media')\n",
    "\n",
    "# Configura el gráfico\n",
    "plt.title('Distribución Normal y P(X < 12)')\n",
    "plt.xlabel('X')\n",
    "plt.ylabel('Densidad de Probabilidad')\n",
    "plt.legend()\n",
    "\n",
    "# Muestra el porcentaje asociado\n",
    "plt.text(11.8, 0.3, f'P(X < 12) = {probabilidad:.1%}', fontsize=10, color='darkblue')\n",
    "\n",
    "# Muestra el gráfico\n",
    "plt.show()\n"
   ]
  },
  {
   "cell_type": "code",
   "execution_count": null,
   "id": "58aeadf6",
   "metadata": {},
   "outputs": [],
   "source": [
    "import numpy as np\n",
    "import matplotlib.pyplot as plt\n",
    "from scipy.stats import norm\n",
    "\n",
    "# Parámetros de la distribución normal\n",
    "media = 13\n",
    "desviacion_estandar = 0.6\n",
    "\n",
    "# Valores para los límites de la región P(12 < X < 13)\n",
    "limite_inferior = 12\n",
    "limite_superior = 13\n",
    "\n",
    "# Calcula las probabilidades utilizando la función de distribución acumulativa (CDF)\n",
    "probabilidad_inferior = norm.cdf(limite_inferior, loc=media, scale=desviacion_estandar)\n",
    "probabilidad_superior = norm.cdf(limite_superior, loc=media, scale=desviacion_estandar)\n",
    "\n",
    "# Calcula la probabilidad de la región P(12 < X < 13)\n",
    "probabilidad_region = probabilidad_superior - probabilidad_inferior\n",
    "\n",
    "# Genera datos para el gráfico\n",
    "x = np.linspace(media - 3 * desviacion_estandar, media + 3 * desviacion_estandar, 1000)\n",
    "y = norm.pdf(x, loc=media, scale=desviacion_estandar)\n",
    "\n",
    "# Grafica la distribución normal\n",
    "plt.plot(x, y, label='Distribución Normal')\n",
    "\n",
    "# Sombréa la región P(12 < X < 13)\n",
    "x_fill = np.linspace(limite_inferior, limite_superior, 1000)\n",
    "y_fill = norm.pdf(x_fill, loc=media, scale=desviacion_estandar)\n",
    "plt.fill_between(x_fill, y_fill, color='lightblue', alpha=0.5, label='P(12 < X < 13)')\n",
    "\n",
    "# Resalta la media\n",
    "plt.axvline(media, color='red', linestyle='--', label='Media')\n",
    "\n",
    "# Configura el gráfico\n",
    "plt.title('Distribución Normal y P(12 < X < 13)')\n",
    "plt.xlabel('X')\n",
    "plt.ylabel('Densidad de Probabilidad')\n",
    "plt.legend()\n",
    "\n",
    "# Muestra el porcentaje asociado\n",
    "plt.text(12.2, 0.3, f'P(12 < X < 13) = {probabilidad_region:.1%}', fontsize=10, color='darkblue')\n",
    "\n",
    "# Muestra el gráfico\n",
    "plt.show()\n"
   ]
  },
  {
   "cell_type": "markdown",
   "id": "5afb4f49",
   "metadata": {},
   "source": [
    "# Lanzamiento de un dado 5 veces.\n",
    "\n",
    "Considere el lanzamiento de un dado 5 veces.\n",
    "\n"
   ]
  },
  {
   "cell_type": "code",
   "execution_count": 2,
   "id": "83fd88ee",
   "metadata": {},
   "outputs": [],
   "source": [
    "import pandas as pd\n",
    "caras_dados = pd.Series([1,2,3,4,5,6])"
   ]
  },
  {
   "cell_type": "code",
   "execution_count": 3,
   "id": "efdb7251",
   "metadata": {},
   "outputs": [
    {
     "data": {
      "text/plain": [
       "0    1\n",
       "1    2\n",
       "2    3\n",
       "3    4\n",
       "4    5\n",
       "5    6\n",
       "dtype: int64"
      ]
     },
     "execution_count": 3,
     "metadata": {},
     "output_type": "execute_result"
    }
   ],
   "source": [
    "caras_dados"
   ]
  }
 ],
 "metadata": {
  "kernelspec": {
   "display_name": "Python 3 (ipykernel)",
   "language": "python",
   "name": "python3"
  },
  "language_info": {
   "codemirror_mode": {
    "name": "ipython",
    "version": 3
   },
   "file_extension": ".py",
   "mimetype": "text/x-python",
   "name": "python",
   "nbconvert_exporter": "python",
   "pygments_lexer": "ipython3",
   "version": "3.11.5"
  }
 },
 "nbformat": 4,
 "nbformat_minor": 5
}
