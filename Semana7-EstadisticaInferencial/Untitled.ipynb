{
 "cells": [
  {
   "cell_type": "code",
   "execution_count": 1,
   "id": "f81b722a",
   "metadata": {},
   "outputs": [],
   "source": [
    "import scipy.stats as stats\n"
   ]
  },
  {
   "cell_type": "code",
   "execution_count": 4,
   "id": "9961e3a0",
   "metadata": {},
   "outputs": [
    {
     "name": "stdout",
     "output_type": "stream",
     "text": [
      "-1.9599639845400545\n"
     ]
    }
   ],
   "source": [
    "z1 = stats.norm.ppf(0.05/2)\n",
    "print(z1)\n"
   ]
  },
  {
   "cell_type": "code",
   "execution_count": 5,
   "id": "e6c68326",
   "metadata": {},
   "outputs": [
    {
     "name": "stdout",
     "output_type": "stream",
     "text": [
      "1.959963984540054\n"
     ]
    }
   ],
   "source": [
    "z2 = stats.norm.ppf(1-0.05/2)\n",
    "print(z2)\n"
   ]
  },
  {
   "cell_type": "code",
   "execution_count": 14,
   "id": "8f1d3989",
   "metadata": {},
   "outputs": [],
   "source": [
    "n=100,\n",
    "sigma = 3.0\n",
    "media_muestral = 58.3\n",
    "\n",
    "z= stats.norm.ppf(1-0.05/2)\n",
    "\n",
    "limite_izquierdo = media_muestral - z*sigma /10\n",
    "limite_derecho = media_muestral + z*sigma /10"
   ]
  },
  {
   "cell_type": "code",
   "execution_count": 15,
   "id": "4c145580",
   "metadata": {},
   "outputs": [
    {
     "name": "stdout",
     "output_type": "stream",
     "text": [
      "57.712010804637984 58.88798919536201\n"
     ]
    }
   ],
   "source": [
    "print(limite_izquierdo, limite_derecho)"
   ]
  },
  {
   "cell_type": "code",
   "execution_count": 18,
   "id": "0f5f52fe",
   "metadata": {},
   "outputs": [
    {
     "data": {
      "text/plain": [
       "2.5758293035489004"
      ]
     },
     "execution_count": 18,
     "metadata": {},
     "output_type": "execute_result"
    }
   ],
   "source": [
    "z= stats.norm.ppf((1+0.99)/2)\n",
    "z"
   ]
  },
  {
   "cell_type": "code",
   "execution_count": 19,
   "id": "99db56c6",
   "metadata": {},
   "outputs": [],
   "source": [
    "n = (2*z*sigma/1)**2"
   ]
  },
  {
   "cell_type": "code",
   "execution_count": 20,
   "id": "c2ff88dc",
   "metadata": {},
   "outputs": [
    {
     "data": {
      "text/plain": [
       "238.85627763676368"
      ]
     },
     "execution_count": 20,
     "metadata": {},
     "output_type": "execute_result"
    }
   ],
   "source": [
    "n"
   ]
  },
  {
   "cell_type": "code",
   "execution_count": 27,
   "id": "414ee67c",
   "metadata": {},
   "outputs": [],
   "source": [
    "import scipy.stats as stats\n",
    "import math\n",
    "valor_t = stats.t.ppf((1+0.95)/2,9)\n",
    "\n",
    "error_estandar = 0.09 / math.sqrt(10)\n",
    "media_muestral=0.32"
   ]
  },
  {
   "cell_type": "code",
   "execution_count": 28,
   "id": "517b2794",
   "metadata": {},
   "outputs": [],
   "source": [
    "intervalo = (media_muestral - valor_t * error_estandar, media_muestral + valor_t * error_estandar)\n"
   ]
  },
  {
   "cell_type": "code",
   "execution_count": 29,
   "id": "2683e6b9",
   "metadata": {},
   "outputs": [
    {
     "data": {
      "text/plain": [
       "(0.25561787846426853, 0.3843821215357315)"
      ]
     },
     "execution_count": 29,
     "metadata": {},
     "output_type": "execute_result"
    }
   ],
   "source": [
    "intervalo"
   ]
  },
  {
   "cell_type": "code",
   "execution_count": 1,
   "id": "ee622560",
   "metadata": {},
   "outputs": [],
   "source": [
    "import scipy.stats as stats\n",
    "import math"
   ]
  },
  {
   "cell_type": "code",
   "execution_count": 2,
   "id": "99dfde13",
   "metadata": {},
   "outputs": [],
   "source": [
    "n = 50\n",
    "desv = 0.8\n",
    "\n",
    "nivel_de_confianza = 0.95\n",
    "\n",
    "prom_muestra = 4.2\n"
   ]
  },
  {
   "cell_type": "code",
   "execution_count": 3,
   "id": "3e35c292",
   "metadata": {},
   "outputs": [],
   "source": [
    "# Calculemos el valor de z\n",
    "\n",
    "z = stats.norm.ppf(0.975)"
   ]
  },
  {
   "cell_type": "code",
   "execution_count": 4,
   "id": "63c41d7b",
   "metadata": {},
   "outputs": [
    {
     "data": {
      "text/plain": [
       "1.959963984540054"
      ]
     },
     "execution_count": 4,
     "metadata": {},
     "output_type": "execute_result"
    }
   ],
   "source": [
    "z"
   ]
  },
  {
   "cell_type": "code",
   "execution_count": 12,
   "id": "208f3650",
   "metadata": {},
   "outputs": [],
   "source": [
    "limite_izquierdo = prom_muestra - z* desv/math.sqrt(n)"
   ]
  },
  {
   "cell_type": "code",
   "execution_count": 13,
   "id": "a628005d",
   "metadata": {},
   "outputs": [
    {
     "data": {
      "text/plain": [
       "3.978255388104052"
      ]
     },
     "execution_count": 13,
     "metadata": {},
     "output_type": "execute_result"
    }
   ],
   "source": [
    "limite_izquierdo"
   ]
  },
  {
   "cell_type": "code",
   "execution_count": 14,
   "id": "140378ce",
   "metadata": {},
   "outputs": [],
   "source": [
    "limite_derecho = prom_muestra + z* desv/math.sqrt(n)"
   ]
  },
  {
   "cell_type": "code",
   "execution_count": 15,
   "id": "7099839a",
   "metadata": {},
   "outputs": [
    {
     "data": {
      "text/plain": [
       "4.4217446118959485"
      ]
     },
     "execution_count": 15,
     "metadata": {},
     "output_type": "execute_result"
    }
   ],
   "source": [
    "limite_derecho"
   ]
  },
  {
   "cell_type": "code",
   "execution_count": 16,
   "id": "d12ec193",
   "metadata": {},
   "outputs": [],
   "source": [
    "import scipy.stats as stats\n",
    "import math\n",
    "valor_t = stats.t.ppf((1+0.95)/2,9)\n",
    "\n",
    "error_estandar = 0.09 / math.sqrt(10)\n",
    "media_muestral=0.32"
   ]
  },
  {
   "cell_type": "code",
   "execution_count": 17,
   "id": "c301028e",
   "metadata": {},
   "outputs": [],
   "source": [
    "intervalo = (media_muestral - valor_t * error_estandar, media_muestral + valor_t * error_estandar)\n"
   ]
  },
  {
   "cell_type": "code",
   "execution_count": 18,
   "id": "de79f540",
   "metadata": {},
   "outputs": [
    {
     "data": {
      "text/plain": [
       "(0.25561787846426853, 0.3843821215357315)"
      ]
     },
     "execution_count": 18,
     "metadata": {},
     "output_type": "execute_result"
    }
   ],
   "source": [
    "intervalo"
   ]
  },
  {
   "cell_type": "code",
   "execution_count": null,
   "id": "ff4b42db",
   "metadata": {},
   "outputs": [],
   "source": []
  }
 ],
 "metadata": {
  "kernelspec": {
   "display_name": "Python 3 (ipykernel)",
   "language": "python",
   "name": "python3"
  },
  "language_info": {
   "codemirror_mode": {
    "name": "ipython",
    "version": 3
   },
   "file_extension": ".py",
   "mimetype": "text/x-python",
   "name": "python",
   "nbconvert_exporter": "python",
   "pygments_lexer": "ipython3",
   "version": "3.9.12"
  }
 },
 "nbformat": 4,
 "nbformat_minor": 5
}
