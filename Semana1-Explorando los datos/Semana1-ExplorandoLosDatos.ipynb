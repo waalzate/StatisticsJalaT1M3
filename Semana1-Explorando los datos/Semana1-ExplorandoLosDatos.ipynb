{
 "cells": [
  {
   "cell_type": "markdown",
   "id": "1e3d355a",
   "metadata": {},
   "source": [
    "<img src=\"jalalogo.png\">\n",
    "\n",
    "# Semana 1: Explorando los datos\n",
    "\n",
    "## Tipos de datos:\n",
    "\n",
    "\n",
    "\n",
    "Numérico (Cuantitativo)\n",
    "- Continuo (Rango)\n",
    "  - Velocidad del un tren\n",
    "  - Estatura de una persona\n",
    "  - Tiempo en cargar una página\n",
    "\n",
    "- Discreto (Conteo)\n",
    "  - Número de visitantes en un centro comercial\n",
    "  - Número de personas trabajando en una empresa\n",
    "\n",
    "Categórico (Cualitativo)\n",
    "- Nominal (No ordenado)\n",
    "  - Casado/soltero\n",
    "  - País de residencia\n",
    "\n",
    "- Ordinal (Ordenado)\n",
    "  -Primero, segundo, tercero.  \n",
    "\n",
    "\n",
    "\n",
    "\n",
    "## Medidas de centro: \n",
    "\n",
    "### Media: \n",
    " \n",
    "Tambien conocido como promedio. La media es la suma de todos los puntos de datos dividida por el número total de puntos de datos.\n",
    "\n",
    "### Mediana:\n",
    "La mediana es el valor medio del conjunto de datos donde el 50% de los datos es mayor que la mediana y el 50% de los datos es menor que la mediana. Es un punto que está en mitad de la\n",
    "muestra, y no tiene por qué coincidir con la media.\n",
    "\n",
    "### Moda: \n",
    "El dato que más se repite."
   ]
  },
  {
   "cell_type": "markdown",
   "id": "a0ab101f",
   "metadata": {},
   "source": [
    "## Ejemplo:(Media) \n",
    "\n",
    "En un juego de baloncesto entre un grupo de 10 amigos, la escena se complica cuando Juan, un aficionado a la estadística, plantea su descontento respecto a la conformación de los equipos. Con un ojo agudo para los números, argumenta que el promedio de estatura en uno de los equipos supera al del otro. Enfrentados a este dilema, el reto consiste en calcular de manera meticulosa el promedio de estatura tanto del grupo completo como de cada uno de los equipos por separado. A partir de los datos proporcionados, calcular el promedio de estatura de todos los integrantes y de cada uno de los equipos con el fin de confirmar o refutar la hipótesis de Juan.\n",
    "\n",
    "Equipo 1: 170, 165, 178, 160, 175\n",
    "\n",
    "Equipo 2: 175, 179, 168, 178, 163\n"
   ]
  },
  {
   "cell_type": "code",
   "execution_count": 3,
   "id": "b162a4b4",
   "metadata": {},
   "outputs": [
    {
     "name": "stdout",
     "output_type": "stream",
     "text": [
      "La media del equipo 1 es 169.6 y la media del equipo 2 es 172.6\n"
     ]
    }
   ],
   "source": [
    "import numpy as np\n",
    "\n",
    "# Estaturas de los equipos\n",
    "estaturas_equipo_1 = [170, 165, 178, 160, 175]\n",
    "estaturas_equipo_2 = [175, 179, 168, 178, 163]\n",
    "\n",
    "# Cálculo de la media de estaturas para cada equipo\n",
    "media_equipo_1 = np.mean(estaturas_equipo_1)\n",
    "media_equipo_2 = np.mean(estaturas_equipo_2)\n",
    "\n",
    "# Imprimir resultados\n",
    "print(f'La media del equipo 1 es {media_equipo_1:.1f} y la media del equipo 2 es {media_equipo_2:.1f}')"
   ]
  },
  {
   "cell_type": "markdown",
   "id": "8a1c030d",
   "metadata": {},
   "source": [
    "### Ejemplo General: \n",
    "\n",
    "Considere la base de datos tomado de Kaggle:(Students Performance in Exams) sobre la cual se realizarán diferentes cálculos a traves del resto del Notebook.\n",
    "\n",
    "https://www.kaggle.com/datasets/spscientist/students-performance-in-exams\n"
   ]
  },
  {
   "cell_type": "code",
   "execution_count": 4,
   "id": "354ed394",
   "metadata": {},
   "outputs": [
    {
     "data": {
      "text/html": [
       "<div>\n",
       "<style scoped>\n",
       "    .dataframe tbody tr th:only-of-type {\n",
       "        vertical-align: middle;\n",
       "    }\n",
       "\n",
       "    .dataframe tbody tr th {\n",
       "        vertical-align: top;\n",
       "    }\n",
       "\n",
       "    .dataframe thead th {\n",
       "        text-align: right;\n",
       "    }\n",
       "</style>\n",
       "<table border=\"1\" class=\"dataframe\">\n",
       "  <thead>\n",
       "    <tr style=\"text-align: right;\">\n",
       "      <th></th>\n",
       "      <th>gender</th>\n",
       "      <th>race/ethnicity</th>\n",
       "      <th>parental level of education</th>\n",
       "      <th>lunch</th>\n",
       "      <th>test preparation course</th>\n",
       "      <th>math score</th>\n",
       "      <th>reading score</th>\n",
       "      <th>writing score</th>\n",
       "    </tr>\n",
       "  </thead>\n",
       "  <tbody>\n",
       "    <tr>\n",
       "      <th>0</th>\n",
       "      <td>female</td>\n",
       "      <td>group B</td>\n",
       "      <td>bachelor's degree</td>\n",
       "      <td>standard</td>\n",
       "      <td>none</td>\n",
       "      <td>72</td>\n",
       "      <td>72</td>\n",
       "      <td>74</td>\n",
       "    </tr>\n",
       "    <tr>\n",
       "      <th>1</th>\n",
       "      <td>female</td>\n",
       "      <td>group C</td>\n",
       "      <td>some college</td>\n",
       "      <td>standard</td>\n",
       "      <td>completed</td>\n",
       "      <td>69</td>\n",
       "      <td>90</td>\n",
       "      <td>88</td>\n",
       "    </tr>\n",
       "    <tr>\n",
       "      <th>2</th>\n",
       "      <td>female</td>\n",
       "      <td>group B</td>\n",
       "      <td>master's degree</td>\n",
       "      <td>standard</td>\n",
       "      <td>none</td>\n",
       "      <td>90</td>\n",
       "      <td>95</td>\n",
       "      <td>93</td>\n",
       "    </tr>\n",
       "    <tr>\n",
       "      <th>3</th>\n",
       "      <td>male</td>\n",
       "      <td>group A</td>\n",
       "      <td>associate's degree</td>\n",
       "      <td>free/reduced</td>\n",
       "      <td>none</td>\n",
       "      <td>47</td>\n",
       "      <td>57</td>\n",
       "      <td>44</td>\n",
       "    </tr>\n",
       "    <tr>\n",
       "      <th>4</th>\n",
       "      <td>male</td>\n",
       "      <td>group C</td>\n",
       "      <td>some college</td>\n",
       "      <td>standard</td>\n",
       "      <td>none</td>\n",
       "      <td>76</td>\n",
       "      <td>78</td>\n",
       "      <td>75</td>\n",
       "    </tr>\n",
       "  </tbody>\n",
       "</table>\n",
       "</div>"
      ],
      "text/plain": [
       "   gender race/ethnicity parental level of education         lunch  \\\n",
       "0  female        group B           bachelor's degree      standard   \n",
       "1  female        group C                some college      standard   \n",
       "2  female        group B             master's degree      standard   \n",
       "3    male        group A          associate's degree  free/reduced   \n",
       "4    male        group C                some college      standard   \n",
       "\n",
       "  test preparation course  math score  reading score  writing score  \n",
       "0                    none          72             72             74  \n",
       "1               completed          69             90             88  \n",
       "2                    none          90             95             93  \n",
       "3                    none          47             57             44  \n",
       "4                    none          76             78             75  "
      ]
     },
     "execution_count": 4,
     "metadata": {},
     "output_type": "execute_result"
    }
   ],
   "source": [
    "#Ejemplo 1: \n",
    "#importar librerias\n",
    "import pandas as pd\n",
    "import numpy as np\n",
    "import statistics\n",
    "import matplotlib.pyplot as plt\n",
    "from scipy.stats import skewnorm # Necesario para realizar el gráfico de los sesgos\n",
    "from scipy import stats\n",
    "\n",
    "#Cargamos la base de datos previamente descargada en la carpeta de trabajo.\n",
    "data = pd.read_csv(\"StudentsPerformance.csv\")\n",
    "data.head()"
   ]
  },
  {
   "cell_type": "markdown",
   "id": "5e588cf3",
   "metadata": {},
   "source": [
    "### Clasifiquemos cada una de las variables de la base de datos:\n",
    "\n",
    "**Cualitativa-Nominal:** `Gender` (Género), `Race/ethnicity` ( Raza), `lunch` (tipo almuerzo),    `test preparation course` ( Curso de preparación)\n",
    "\n",
    "**Cualitativa-Ordinal:** `parental level of education`\n",
    "\n",
    "**Cuantitativa- Discreta:** `math score`, \t`reading score`, \t`writing score`,  \n",
    "\n"
   ]
  },
  {
   "cell_type": "code",
   "execution_count": 2,
   "id": "5f5e72e0",
   "metadata": {},
   "outputs": [
    {
     "data": {
      "text/plain": [
       "some college          226\n",
       "associate's degree    222\n",
       "high school           196\n",
       "some high school      179\n",
       "bachelor's degree     118\n",
       "master's degree        59\n",
       "Name: parental level of education, dtype: int64"
      ]
     },
     "execution_count": 2,
     "metadata": {},
     "output_type": "execute_result"
    }
   ],
   "source": [
    "#Notemos los diferentes valores de la variable 'parental level of education'\n",
    "data['parental level of education'].value_counts()"
   ]
  },
  {
   "cell_type": "code",
   "execution_count": 3,
   "id": "87cbc655",
   "metadata": {},
   "outputs": [
    {
     "name": "stdout",
     "output_type": "stream",
     "text": [
      "El promedio de matemáticas es 66.089 y el de lectura es 69.169\n"
     ]
    }
   ],
   "source": [
    "#Calcular el promedio de la variable math score and reading score. Comparar estos dos promedios.\n",
    "\n",
    "promedio_matematicas = np.mean(data['math score'])\n",
    "promedio_lectura = np.mean(data['reading score'])\n",
    "\n",
    "print(f'El promedio de matemáticas es {promedio_matematicas} y el de lectura es {promedio_lectura}')"
   ]
  },
  {
   "cell_type": "code",
   "execution_count": 4,
   "id": "17708309",
   "metadata": {},
   "outputs": [],
   "source": [
    "#Notamos como el rendimiento de los estudiantes es mejor en lectura que en matemáticas"
   ]
  },
  {
   "cell_type": "code",
   "execution_count": 5,
   "id": "4ddc8358",
   "metadata": {
    "scrolled": true
   },
   "outputs": [
    {
     "name": "stdout",
     "output_type": "stream",
     "text": [
      "El promedio de matemáticas es 66.089 y su mediana es 66.0\n"
     ]
    }
   ],
   "source": [
    "#Calculemos la mediana de math_score y comparemos con la media o promedio.\n",
    "mediana_matematicas = np.median(data['math score'])\n",
    "\n",
    "print(f'El promedio de matemáticas es {promedio_matematicas} y su mediana es {mediana_matematicas}')\n"
   ]
  },
  {
   "cell_type": "code",
   "execution_count": 7,
   "id": "259f6449",
   "metadata": {
    "scrolled": true
   },
   "outputs": [
    {
     "ename": "NameError",
     "evalue": "name 'promedio_matematicas' is not defined",
     "output_type": "error",
     "traceback": [
      "\u001b[1;31m---------------------------------------------------------------------------\u001b[0m",
      "\u001b[1;31mNameError\u001b[0m                                 Traceback (most recent call last)",
      "Input \u001b[1;32mIn [7]\u001b[0m, in \u001b[0;36m<cell line: 13>\u001b[1;34m()\u001b[0m\n\u001b[0;32m     10\u001b[0m data[\u001b[38;5;124m'\u001b[39m\u001b[38;5;124mmath score\u001b[39m\u001b[38;5;124m'\u001b[39m]\u001b[38;5;241m.\u001b[39mplot\u001b[38;5;241m.\u001b[39mhist(bins\u001b[38;5;241m=\u001b[39m\u001b[38;5;241m20\u001b[39m, edgecolor\u001b[38;5;241m=\u001b[39m\u001b[38;5;124m'\u001b[39m\u001b[38;5;124mblack\u001b[39m\u001b[38;5;124m'\u001b[39m)\n\u001b[0;32m     12\u001b[0m \u001b[38;5;66;03m#Visualizamos la media:\u001b[39;00m\n\u001b[1;32m---> 13\u001b[0m plt\u001b[38;5;241m.\u001b[39maxvline(\u001b[43mpromedio_matematicas\u001b[49m, color\u001b[38;5;241m=\u001b[39m\u001b[38;5;124m'\u001b[39m\u001b[38;5;124mred\u001b[39m\u001b[38;5;124m'\u001b[39m, linestyle\u001b[38;5;241m=\u001b[39m\u001b[38;5;124m'\u001b[39m\u001b[38;5;124mdashed\u001b[39m\u001b[38;5;124m'\u001b[39m, linewidth\u001b[38;5;241m=\u001b[39m\u001b[38;5;241m1\u001b[39m,label\u001b[38;5;241m=\u001b[39m\u001b[38;5;124mf\u001b[39m\u001b[38;5;124m'\u001b[39m\u001b[38;5;124mMedia: \u001b[39m\u001b[38;5;132;01m{\u001b[39;00mpromedio_matematicas\u001b[38;5;132;01m}\u001b[39;00m\u001b[38;5;124m'\u001b[39m)\n\u001b[0;32m     14\u001b[0m plt\u001b[38;5;241m.\u001b[39maxvline(promedio_matematicas, color\u001b[38;5;241m=\u001b[39m\u001b[38;5;124m'\u001b[39m\u001b[38;5;124myellow\u001b[39m\u001b[38;5;124m'\u001b[39m, linestyle\u001b[38;5;241m=\u001b[39m\u001b[38;5;124m'\u001b[39m\u001b[38;5;124mdashed\u001b[39m\u001b[38;5;124m'\u001b[39m, linewidth\u001b[38;5;241m=\u001b[39m\u001b[38;5;241m1\u001b[39m,label\u001b[38;5;241m=\u001b[39m\u001b[38;5;124mf\u001b[39m\u001b[38;5;124m'\u001b[39m\u001b[38;5;124mMediana: \u001b[39m\u001b[38;5;132;01m{\u001b[39;00mmediana_matematicas\u001b[38;5;132;01m}\u001b[39;00m\u001b[38;5;124m'\u001b[39m)\n\u001b[0;32m     17\u001b[0m plt\u001b[38;5;241m.\u001b[39mlegend()\n",
      "\u001b[1;31mNameError\u001b[0m: name 'promedio_matematicas' is not defined"
     ]
    },
    {
     "data": {
      "image/png": "[encoded data removed]",
      "text/plain": [
       "<Figure size 720x360 with 1 Axes>"
      ]
     },
     "metadata": {
      "needs_background": "light"
     },
     "output_type": "display_data"
    }
   ],
   "source": [
    "#Notamos como el valor central(mediana) y su promedio no difieren significativamente. \n",
    "# Podemos realizar un diagrama de barras para corroborar que no hay un cesgo en los datos.\n",
    "\n",
    " \n",
    "\n",
    "# Creamos el histograma\n",
    "plt.figure(figsize=(10, 5))  \n",
    "\n",
    "\n",
    "data['math score'].plot.hist(bins=20, edgecolor='black')\n",
    "\n",
    "#Visualizamos la media:\n",
    "plt.axvline(promedio_matematicas, color='red', linestyle='dashed', linewidth=1,label=f'Media: {promedio_matematicas}')\n",
    "plt.axvline(promedio_matematicas, color='yellow', linestyle='dashed', linewidth=1,label=f'Mediana: {mediana_matematicas}')\n",
    "\n",
    "\n",
    "plt.legend()\n",
    "plt.title('Distribución de las puntuaciones de matemáticas')\n",
    "plt.xlabel('Puntuación de matemáticas')\n",
    "plt.ylabel('Frecuencia')\n",
    "plt.show()\n",
    "\n"
   ]
  },
  {
   "cell_type": "markdown",
   "id": "570cfba7",
   "metadata": {},
   "source": [
    "'''\n",
    "Los datos son simétricos alrededor de la media o mediana, no se observa un sesgo en la variable math score.\n",
    "\n",
    "Vale la pena anotar que la distribución de la puntuaciones matemáticas siguen \n",
    "una distribución normal(forma de campana) que se estudiará en la semana 6 \n",
    "'''"
   ]
  },
  {
   "cell_type": "markdown",
   "id": "b7c0b463",
   "metadata": {},
   "source": [
    "También podemos recurrir al método   `.describe()` \n",
    "\n",
    "\n",
    "Este método proporciona un resumen estadístico de las columnas de un DataFrame,\n",
    "incluyendo medidas como el conteo de filas, la media, la desviación estándar, \n",
    "los valores mínimo y máximo, y los percentiles."
   ]
  },
  {
   "cell_type": "code",
   "execution_count": 7,
   "id": "c44aeee9",
   "metadata": {},
   "outputs": [
    {
     "data": {
      "text/html": [
       "<div>\n",
       "<style scoped>\n",
       "    .dataframe tbody tr th:only-of-type {\n",
       "        vertical-align: middle;\n",
       "    }\n",
       "\n",
       "    .dataframe tbody tr th {\n",
       "        vertical-align: top;\n",
       "    }\n",
       "\n",
       "    .dataframe thead th {\n",
       "        text-align: right;\n",
       "    }\n",
       "</style>\n",
       "<table border=\"1\" class=\"dataframe\">\n",
       "  <thead>\n",
       "    <tr style=\"text-align: right;\">\n",
       "      <th></th>\n",
       "      <th>math score</th>\n",
       "      <th>reading score</th>\n",
       "      <th>writing score</th>\n",
       "    </tr>\n",
       "  </thead>\n",
       "  <tbody>\n",
       "    <tr>\n",
       "      <th>count</th>\n",
       "      <td>1000.00000</td>\n",
       "      <td>1000.000000</td>\n",
       "      <td>1000.000000</td>\n",
       "    </tr>\n",
       "    <tr>\n",
       "      <th>mean</th>\n",
       "      <td>66.08900</td>\n",
       "      <td>69.169000</td>\n",
       "      <td>68.054000</td>\n",
       "    </tr>\n",
       "    <tr>\n",
       "      <th>std</th>\n",
       "      <td>15.16308</td>\n",
       "      <td>14.600192</td>\n",
       "      <td>15.195657</td>\n",
       "    </tr>\n",
       "    <tr>\n",
       "      <th>min</th>\n",
       "      <td>0.00000</td>\n",
       "      <td>17.000000</td>\n",
       "      <td>10.000000</td>\n",
       "    </tr>\n",
       "    <tr>\n",
       "      <th>25%</th>\n",
       "      <td>57.00000</td>\n",
       "      <td>59.000000</td>\n",
       "      <td>57.750000</td>\n",
       "    </tr>\n",
       "    <tr>\n",
       "      <th>50%</th>\n",
       "      <td>66.00000</td>\n",
       "      <td>70.000000</td>\n",
       "      <td>69.000000</td>\n",
       "    </tr>\n",
       "    <tr>\n",
       "      <th>75%</th>\n",
       "      <td>77.00000</td>\n",
       "      <td>79.000000</td>\n",
       "      <td>79.000000</td>\n",
       "    </tr>\n",
       "    <tr>\n",
       "      <th>max</th>\n",
       "      <td>100.00000</td>\n",
       "      <td>100.000000</td>\n",
       "      <td>100.000000</td>\n",
       "    </tr>\n",
       "  </tbody>\n",
       "</table>\n",
       "</div>"
      ],
      "text/plain": [
       "       math score  reading score  writing score\n",
       "count  1000.00000    1000.000000    1000.000000\n",
       "mean     66.08900      69.169000      68.054000\n",
       "std      15.16308      14.600192      15.195657\n",
       "min       0.00000      17.000000      10.000000\n",
       "25%      57.00000      59.000000      57.750000\n",
       "50%      66.00000      70.000000      69.000000\n",
       "75%      77.00000      79.000000      79.000000\n",
       "max     100.00000     100.000000     100.000000"
      ]
     },
     "execution_count": 7,
     "metadata": {},
     "output_type": "execute_result"
    }
   ],
   "source": [
    "data.describe()"
   ]
  },
  {
   "cell_type": "code",
   "execution_count": 8,
   "id": "96b63b21",
   "metadata": {},
   "outputs": [
    {
     "data": {
      "text/plain": [
       "'some college'"
      ]
     },
     "execution_count": 8,
     "metadata": {},
     "output_type": "execute_result"
    }
   ],
   "source": [
    "# A continuación calculemos la moda de la variable 'parental level of education' \n",
    "'''En Python, puedes usar `statistics.mode()` para calcular \n",
    "la moda de una lista o de una secuencia de datos numéricos o no numéricos.'''\n",
    "\n",
    "statistics.mode(data['parental level of education'])"
   ]
  },
  {
   "cell_type": "code",
   "execution_count": 9,
   "id": "9457e0af",
   "metadata": {},
   "outputs": [
    {
     "data": {
      "text/plain": [
       "some college          226\n",
       "associate's degree    222\n",
       "high school           196\n",
       "some high school      179\n",
       "bachelor's degree     118\n",
       "master's degree        59\n",
       "Name: parental level of education, dtype: int64"
      ]
     },
     "execution_count": 9,
     "metadata": {},
     "output_type": "execute_result"
    }
   ],
   "source": [
    "# también se puede recurrir al método .value_counts():\n",
    "data['parental level of education'].value_counts()"
   ]
  },
  {
   "cell_type": "code",
   "execution_count": 10,
   "id": "5c9695cc",
   "metadata": {},
   "outputs": [],
   "source": [
    "#Notamos como el valor que más se repite es 'some college con 226 registros'"
   ]
  },
  {
   "cell_type": "markdown",
   "id": "53fe9594",
   "metadata": {},
   "source": [
    "### Ejemplo:  (La media es suceptible a los valores atípicos)\n",
    "\n",
    "\n",
    "En una compañía que cuenta con tres empleados, se tiene la siguiente estructura de salarios mensuales:\n",
    "\n",
    "- Dos programadores ganan cada uno \\$3,000.\n",
    "- Un jefe (Chief) gana $20,000.\n",
    "\n",
    "Todos los salarios están expresados en dólares. Determinar el promedio de los salarios y la mediana. Explicar como el salario se ve afectado por el valor atipico del salario del chef. "
   ]
  },
  {
   "cell_type": "code",
   "execution_count": 11,
   "id": "b4d5caee",
   "metadata": {
    "scrolled": true
   },
   "outputs": [
    {
     "name": "stdout",
     "output_type": "stream",
     "text": [
      " El promedio de los salarios es 8666.666666666666 y la mediana es 3000.0\n"
     ]
    }
   ],
   "source": [
    "salarios = [3000,3000,20000]\n",
    "promedio_salarios = np.mean(salarios)\n",
    " \n",
    "\n",
    "mediana_salarios = np.median(salarios)\n",
    "\n",
    "print(f' El promedio de los salarios es {promedio_salarios} y la mediana es {mediana_salarios}')"
   ]
  },
  {
   "cell_type": "markdown",
   "id": "b1cdedb8",
   "metadata": {},
   "source": [
    "El salario del jefe es significativamente más alto que el de los otros empleados (casi 7 veces el de los programadores), lo que lo convierte en un valor atípico. Este valor atípico tiene un impacto considerable en el promedio de los salarios, elevándolo a \\$8,666.67, que es mucho más alto que la mayoría de los salarios restantes (3,000). \n",
    "\n",
    "Sin embargo, la mediana, siendo \\$3,000, refleja mejor el salario típico dentro de la compañía, ya que no se ve afectada por valores extremadamente altos o bajos.\n",
    "\n",
    "Esto muestra cómo los valores atípicos pueden distorsionar el promedio, haciéndolo menos representativo de lo que la mayoría de los empleados realmente percibe, mientras que la mediana puede ofrecer una mejor representación de la tendencia central en presencia de valores atípicos."
   ]
  },
  {
   "cell_type": "markdown",
   "id": "f58000dc",
   "metadata": {},
   "source": [
    "## Comparación entre la media y la mediana.\n",
    "\n",
    "La forma de una distribución determina si la media es mayor o menor que la mediana. En general, si la forma de la distribución es:\n",
    "\n",
    "- Perfectamente simétrica, la media es igual a la mediana.\n",
    "- Sesgada a la izquierda, la media es menor que la mediana.\n",
    "- Sesgada a la derecha, la media es mayor que la mediana.\n",
    "\n",
    "La siguiente gráfica ilustra esta situación:"
   ]
  },
  {
   "cell_type": "code",
   "execution_count": 8,
   "id": "4836efb5",
   "metadata": {
    "scrolled": true
   },
   "outputs": [
    {
     "data": {
      "image/png": "[encoded data removed]",
      "text/plain": [
       "<Figure size 720x216 with 3 Axes>"
      ]
     },
     "metadata": {
      "needs_background": "light"
     },
     "output_type": "display_data"
    }
   ],
   "source": [
    "#Código para generar la gráfica.\n",
    "# Generar datos para las distribuciones\n",
    "np.random.seed(0)\n",
    "data_symmetric = np.random.normal(loc=0, scale=1, size=1000)  # Distribución simétrica\n",
    "data_left_skewed = skewnorm.rvs(a=10, loc=-2, scale=1, size=1000)  # Distribución sesgada a la izquierda\n",
    "data_right_skewed = skewnorm.rvs(a=-10, loc=2, scale=1, size=1000)  # Distribución sesgada a la derecha\n",
    "\n",
    "# Crear figuras para las distribuciones\n",
    "fig, axs = plt.subplots(1, 3, figsize=(10, 3))\n",
    "\n",
    "# Títulos para cada subgráfico\n",
    "titles = ['Distribución Simétrica', 'Distribución Sesgada a la Derecha', 'Distribución Sesgada a la Izquiera']\n",
    "sesgo = [data_symmetric, data_left_skewed, data_right_skewed]\n",
    "colors = ['green', 'tan', 'purple']\n",
    "\n",
    "for ax, datum, title, color in zip(axs, sesgo, titles, colors):\n",
    "    ax.hist(datum, bins=30, color=color, alpha=0.7)\n",
    "    ax.axvline(datum.mean(), color='k', linestyle='dashed', linewidth=1)\n",
    "    ax.axvline(np.median(datum), color='r', linestyle='dashed', linewidth=1)\n",
    "    ax.set_title(title)\n",
    "\n",
    "# Etiquetas para líneas de media y mediana\n",
    "axs[0].legend(['Media = Mediana', ''], loc='upper left')\n",
    "axs[1].legend(['Media', 'Mediana'], loc='upper left')\n",
    "axs[2].legend(['Media', 'Mediana'], loc='upper left')\n",
    "\n",
    "plt.tight_layout()\n",
    "plt.show()\n"
   ]
  },
  {
   "cell_type": "markdown",
   "id": "207ad71d",
   "metadata": {},
   "source": [
    "# Medidas de Dispersión\n",
    "\n",
    "### Rango:\n",
    "El Rango es la diferencia entre el valor máximo y el valor mínimo, cuanto mayor es el rango, más dispersos están los datos.\n",
    "\n",
    "### Desviación estándar: \n",
    "\n",
    "La desviación estándar es una medida de dispersión que indica cuánto se alejan los datos individuales de la media. \n"
   ]
  },
  {
   "cell_type": "code",
   "execution_count": 13,
   "id": "6a8877e0",
   "metadata": {},
   "outputs": [
    {
     "name": "stdout",
     "output_type": "stream",
     "text": [
      "83\n"
     ]
    }
   ],
   "source": [
    "#Calculemos el rango de la variable reading score\n",
    "Rango = data['reading score'].max()-data['reading score'].min()\n",
    "print(Rango)"
   ]
  },
  {
   "cell_type": "code",
   "execution_count": 14,
   "id": "0a483473",
   "metadata": {},
   "outputs": [],
   "source": [
    "# El rango es 83, lo cual coincide con lo que muestra la tabla obtenida anteiormente con el método .describe()"
   ]
  },
  {
   "cell_type": "markdown",
   "id": "278a0224",
   "metadata": {},
   "source": [
    "### Cuartiles y otros Percentiles\n",
    "\n",
    "La desviación estándar es la medida de dispersión más comúnmente empleada; sin embargo, existen otras maneras de caracterizar la variabilidad o dispersión en un conjunto de datos. Una de estas metodologías implica identificar los valores que dividen un conjunto de observaciones en porciones iguales, utilizando medidas como cuartiles, deciles y percentiles.\n",
    " \n",
    "Los cuantiles son una herramienta para resumir datos numéricos porque permiten analizar el centro y la dispersión de un conjunto de datos. También proporcionan una perspectiva clara sobre la posición relativa de un punto de datos dentro del conjunto total. Por ejemplo, podrías querer ofrecer un descuento al 10% de los usuarios más activos de un sitio web.\n",
    "\n"
   ]
  },
  {
   "cell_type": "code",
   "execution_count": 5,
   "id": "def975c7",
   "metadata": {},
   "outputs": [
    {
     "name": "stdout",
     "output_type": "stream",
     "text": [
      "[  0.  57.  66.  77. 100.]\n"
     ]
    }
   ],
   "source": [
    "# Calcula los cuartiles de math score\n",
    "print(np.quantile(data['math score'],[0, 0.25, 0.5, 0.75, 1]))"
   ]
  },
  {
   "cell_type": "markdown",
   "id": "dee487b9",
   "metadata": {},
   "source": [
    "### Interpretación: \n",
    "Los cuartiles que se obtienen [0, 57, 66, 77, 100] representan puntos de división que organizan los resultados de la prueba de matemáticas en intervalos que contienen aproximadamente la misma cantidad de datos. \n",
    "\n",
    "1. **Mínimo (0% cuartil):** El valor mínimo en los resultados de la prueba es 0. Esto indica que el puntaje más bajo obtenido fue 0.\n",
    "\n",
    "2. **Primer cuartil (Q1, 25% cuartil):** El 25% de los estudiantes obtuvo un puntaje de 57 o menos en la prueba. Esto significa que el primer cuartil está en 57, lo cual es el límite donde el 25% de los puntajes están por debajo.\n",
    "\n",
    "3. **Mediana (Q2, 50% cuartil):** La mediana, o segundo cuartil, es 66. Esto indica que el 50% de los estudiantes obtuvo un puntaje de 66 o menos. La mediana divide el conjunto de datos en dos partes iguales.\n",
    "\n",
    "4. **Tercer cuartil (Q3, 75% cuartil):** El 75% de los estudiantes obtuvo un puntaje de 77 o menos. El tercer cuartil a 77 muestra que tres cuartos de los puntajes están por debajo de este valor.\n",
    "\n",
    "5. **Máximo (100% cuartil):** El valor máximo en los resultados de la prueba es 100. Esto indica que el puntaje más alto obtenido fue 100.\n"
   ]
  },
  {
   "cell_type": "code",
   "execution_count": 16,
   "id": "e655c848",
   "metadata": {},
   "outputs": [
    {
     "data": {
      "image/png": "[encoded data removed]",
      "text/plain": [
       "<Figure size 720x288 with 1 Axes>"
      ]
     },
     "metadata": {
      "needs_background": "light"
     },
     "output_type": "display_data"
    }
   ],
   "source": [
    "#El diagrama de cajas permite visualizar mejor estos resultados:\n",
    "# Crear el diagrama de cajas\n",
    "plt.figure(figsize=(10, 4))  # Ajusta el tamaño del gráfico según necesites\n",
    "plt.boxplot(data['math score'],vert=False)\n",
    "plt.title('Diagrama de Cajas para la Puntuación de Matemáticas')\n",
    "plt.ylabel('Puntuación de Matemáticas')\n",
    "plt.show()"
   ]
  },
  {
   "cell_type": "markdown",
   "id": "7548c088",
   "metadata": {},
   "source": [
    "### Observación: \n",
    "\n",
    "Los **valores atípicos** pueden influir significativamente en estadísticas como la media, la varianza y la desviación estándar. \n",
    "\n",
    "Por otro lado, el rango intercuartil, conocido como IQR por sus siglas en inglés, ofrece una alternativa para medir la dispersión que es menos susceptible a los efectos de los valores atípicos. Esta medida también se emplea comúnmente para identificar dichos valores. En términos prácticos, un valor se considera atípico si se encuentra por debajo de `Q1 - 1.5 * IQR` o por encima de `Q3 + 1.5 * IQR`, donde Q1 y Q3 representan el primer y tercer cuartil, respectivamente. Este criterio se utiliza para determinar la longitud de los bigotes en un diagrama de caja (‘box plot’) en matplotlib.\n",
    "\n",
    "<img src=\"BoxPlot-Interpretacion.png\">\n"
   ]
  },
  {
   "cell_type": "markdown",
   "id": "fac69dbc",
   "metadata": {},
   "source": [
    "##  Otras medidas\n",
    "\n",
    "### La media ponderada\n",
    "\n",
    "En diversas situaciones, no todos los valores tienen la misma relevancia, por lo que puede resultar beneficioso asignar pesos a los datos según su importancia para un estudio específico. En este contexto, no se realiza una suma simple de los valores, sino que se calcula una **suma ponderada**. Al dividir esta suma por el total de los pesos asignados, obtenemos la **media ponderada**.\n",
    "\n",
    "$${\\bar  {x}}={\\frac  {\\sum\\limits_{{i=1}}^{n}x_{i}w_{i}}{\\sum\\limits_{{i=1}}^{n}w_{i}}}={\\frac  {x_{1}w_{1}+x_{2}w_{2}+x_{3}w_{3}+...+x_{n}w_{n}}{w_{1}+w_{2}+w_{3}+...+w_{n}}}$$\n",
    "\n",
    "\n",
    "donde \n",
    "\n",
    " \n",
    "\n",
    "- $ \\bar{x} $: Es la media ponderada de los datos.\n",
    "- $ x_i $: Representa el valor del i-ésimo dato en el conjunto.\n",
    "- $ w_i $: Es el peso asignado al i-ésimo dato, reflejando su importancia o relevancia en el cálculo de la media.\n",
    "- $ n $: Es el número total de datos en el conjunto.\n",
    "- $ \\sum $: Es el operador de suma que se usa para sumar las multiplicaciones de valores por sus respectivos pesos y también para sumar todos los pesos.\n",
    "\n",
    "### Media geométrica\n",
    "\n",
    "La media geométrica se utiliza en situaciones donde las variaciones tienen un carácter multiplicativo en lugar de aditivo, como en el caso de tasas de crecimiento, rendimientos financieros o cualquier otro fenómeno en el que los cambios se acumulen de manera proporcional en lugar de sumarse. Por ejemplo, si estamos calculando el rendimiento promedio de una inversión a lo largo de varios periodos, la media geométrica sería más apropiada que la aritmética, ya que refleja cómo los rendimientos se multiplican entre sí en lugar de simplemente sumarse.\n",
    "\n",
    "$${\\displaystyle {\\bar {x}}={\\sqrt[{n}]{\\prod _{i=1}^{n}{x_{i}}}}={\\sqrt[{n}]{x_{1}\\cdot x_{2}\\cdots x_{n}}}}$$\n",
    "\n",
    "\n",
    "\n",
    "\n",
    "### La media recortada (Trimmed Mean) \n",
    "\n",
    "Para calcular una media recortada, se eliminan algunos de los valores más altos y más bajos, y se calcula la media con los puntajes restantes. Una media recortada del 10% se obtiene eliminando el 5% de los valores más bajos y el 5% de los valores más altos del conjunto de datos. Una media recortada del 50% se calcula eliminando el 25% superior e inferior de los valores y calculando la media de los puntajes que quedan. \n",
    "\n",
    "\n",
    "\n",
    "### Desviación media\n",
    "\n",
    "La desviación promedio absoluta es la media de los valores absolutos de las distancias entre cada valor en el conjunto de datos y la media.\n",
    "\n",
    "$$ D_m = \\frac{1}{n} \\sum_{i=1}^n\n",
    " \\left| x_i - \\overline{x} \\right|$$\n",
    "\n",
    " ### Desviación mediana\n",
    "\n",
    "La desviación mediana absoluta $  D_{me}  $ es la mediana de los valores absolutos de las distancias entre cada valor en el conjunto de datos y la media.\n",
    "\n",
    " $$ D_{me} = MD(\n",
    " {\\left| x_i - \\overline{x} \\right|}_{i=1,...,n})$$\n",
    " \n",
    " \n",
    "Esta medida ayuda a entender cuán dispersos están los datos alrededor de la media. En concreto, esta medida calcula la mediana de las desviaciones absolutas de cada valor en un conjunto de datos respecto a la media del conjunto.\n",
    "\n",
    " \n",
    "Nota: $MD(\\cdot) $ Indica la mediana de los valores dentro de $(\\cdot).$\n",
    "\n",
    "\n",
    "La desviación mediana absoluta es especialmente útil porque es menos sensible a valores extremos o atípicos en comparación con otras medidas de dispersión, como la desviación estándar. Al calcular la mediana de las desviaciones, se minimiza el impacto de los valores extremos que podrían distorsionar la percepción de la dispersión en un conjunto de datos. Esto hace que la $D_{me}$ sea una herramienta robusta y fiable para describir la variabilidad en diversos contextos estadísticos. \n",
    "\n",
    "### Coeficiente de variación de pearson\n",
    "\n",
    "Medida de dispersión adimensional, que se expresa tanto de forma decimal como en tanto por ciento, y nos expresaría la desviación típica como porcentaje con respecto a la media.\n",
    "\n",
    " $$ CV = \\dfrac{\\sigma}{\\bar x}$$"
   ]
  },
  {
   "cell_type": "markdown",
   "id": "9791a472",
   "metadata": {},
   "source": [
    "## Ejemplos Resueltos:"
   ]
  },
  {
   "cell_type": "markdown",
   "id": "d336eac8",
   "metadata": {},
   "source": [
    "### Ejemplo 1: ( Media, Mediana, Desviación estándar)\n",
    "\n",
    "\n",
    "Hallar la media, mediana,rango y desviación estándar.\n",
    "\n",
    "**Data Set 1:** 1 1 1 4 7 7 7  \n",
    "**Data Set 2:** 1 3 4 4 4 5 7\n",
    "\n",
    "\n",
    "**Solución**\n",
    "\n",
    "Para el conjunto de datos  `Data set 1`:\n",
    "\n",
    "\n",
    "\\begin{array}{|c|c|c|}\n",
    "\\hline\n",
    "x  & x - \\bar{x} & (x - \\bar{x})^2 \\\\\n",
    "\\hline\n",
    "1  & 1 - 4 = -3  & 9 \\\\\n",
    "1  & 1 - 4 = -3  & 9 \\\\\n",
    "1  & 1 - 4 = -3  & 9 \\\\\n",
    "4  & 4 - 4 = 0   & 0 \\\\\n",
    "7  & 7 - 4 = 3   & 9 \\\\\n",
    "7  & 7 - 4 = 3   & 9 \\\\\n",
    "7  & 7 - 4 = 3   & 9 \\\\\n",
    "\\hline\n",
    "\\end{array}\n",
    " \n",
    "\n",
    "\n",
    "$\n",
    "\\sum (x - \\bar{x})^2 = 9.6 = 54\n",
    "$\n",
    "\n",
    "$\n",
    "s^2 = \\frac{54}{6}\n",
    "$\n",
    "\n",
    "$\n",
    "s = \\sqrt{\\frac{54}{6}} = \\sqrt{9} = 3\n",
    "$\n",
    "\n",
    "Para el conjunto de datos  `Data set 2`:\n",
    " \n",
    " \n",
    "\\begin{array}{|c|c|c|}\n",
    "\\hline\n",
    "x  & x - \\bar{x} & (x - \\bar{x})^2 \\\\\n",
    "\\hline\n",
    "1  & 1 - 4 = -3  & 9 \\\\\n",
    "3  & 3 - 4 = -1  & 1 \\\\\n",
    "4  & 4 - 4 = 0   & 0 \\\\\n",
    "4  & 4 - 4 = 0   & 0 \\\\\n",
    "4  & 4 - 4 = 0   & 0 \\\\\n",
    "5  & 5 - 4 = 1   & 1 \\\\\n",
    "7  & 7 - 4 = 3   & 9 \\\\\n",
    "\\hline\n",
    "\\end{array}\n",
    " \n",
    "\n",
    "\n",
    "$\n",
    "\\sum (x - \\bar{x})^2 = 20\n",
    "$\n",
    "\n",
    "$\n",
    "s^2 = \\frac{20}{6} = 3.33\n",
    "$\n",
    "\n",
    "$\n",
    "s = \\sqrt{\\frac{20}{6}} \\approx 1.82\n",
    "$\n",
    "\n",
    "\n",
    " "
   ]
  },
  {
   "cell_type": "code",
   "execution_count": 6,
   "id": "4263c3e2",
   "metadata": {},
   "outputs": [
    {
     "name": "stdout",
     "output_type": "stream",
     "text": [
      "Resultados para data1:\n",
      "Media: 4.00\n",
      "Mediana: 4.00\n",
      "Rango: 6.00\n",
      "Desviación Estándar: 3.00\n",
      "\n",
      "Resultados para data2:\n",
      "Media: 4.00\n",
      "Mediana: 4.00\n",
      "Rango: 6.00\n",
      "Desviación Estándar: 1.83\n"
     ]
    }
   ],
   "source": [
    "import numpy as np\n",
    "\n",
    "#  Datos\n",
    "data1 = [1, 1, 1, 4, 7, 7, 7]\n",
    "data2 = [1, 3, 4, 4, 4, 5, 7]\n",
    "\n",
    "# Función para calcular media, mediana, rango y desviación estándar\n",
    "def calcular_estadisticas(data):\n",
    "    # Media\n",
    "    media = np.mean(data)\n",
    "    # Mediana\n",
    "    mediana = np.median(data)\n",
    "    # Rango\n",
    "    rango = np.max(data) - np.min(data)\n",
    "    # Desviación estándar muestral (ddof=1)\n",
    "    desviacion_estandar = np.std(data, ddof=1)\n",
    "    return media, mediana, rango, desviacion_estandar\n",
    "\n",
    "# Calcular las estadísticas para data1 y data2\n",
    "estadisticas_data1 = calcular_estadisticas(data1)\n",
    "estadisticas_data2 = calcular_estadisticas(data2)\n",
    "\n",
    "# Mostrar los resultados\n",
    "print(\"Resultados para data1:\")\n",
    "print(f\"Media: {estadisticas_data1[0]:.2f}\")\n",
    "print(f\"Mediana: {estadisticas_data1[1]:.2f}\")\n",
    "print(f\"Rango: {estadisticas_data1[2]:.2f}\")\n",
    "print(f\"Desviación Estándar: {estadisticas_data1[3]:.2f}\")\n",
    "\n",
    "print(\"\\nResultados para data2:\")\n",
    "print(f\"Media: {estadisticas_data2[0]:.2f}\")\n",
    "print(f\"Mediana: {estadisticas_data2[1]:.2f}\")\n",
    "print(f\"Rango: {estadisticas_data2[2]:.2f}\")\n",
    "print(f\"Desviación Estándar: {estadisticas_data2[3]:.2f}\")\n"
   ]
  },
  {
   "cell_type": "markdown",
   "id": "21e6269f",
   "metadata": {},
   "source": [
    "### Ejemplo 2: \n",
    "Usted ha sido designado para desarrollar una aplicación móvil que rastree el tiempo dedicado al ejercicio por parte de un usuario. Los datos registrados de un usuario, que reflejan la cantidad de minutos que ha empleado la aplicación cada día durante un período de 10 días, se presentan a continuación:\n",
    "\n",
    "91, 76, 80, 113, 110, 80, 76, 85, 89, 93\n",
    "\n",
    "\n",
    "Calcular la mediana de los datos.\n"
   ]
  },
  {
   "cell_type": "code",
   "execution_count": 20,
   "id": "4281f05a",
   "metadata": {},
   "outputs": [
    {
     "data": {
      "text/plain": [
       "87.0"
      ]
     },
     "execution_count": 20,
     "metadata": {},
     "output_type": "execute_result"
    }
   ],
   "source": [
    "minutos = [91, 76, 80, 113, 110, 80, 76, 85, 89, 93]\n",
    "np.median(minutos)"
   ]
  },
  {
   "cell_type": "markdown",
   "id": "0fe393f9",
   "metadata": {},
   "source": [
    "### Ejemplo 3 (Cálculo de la moda): \n",
    "\n",
    "Se le ha asignado la tarea de analizar las ventas diarias de paneles solares de una empresa durante un período. Los datos recopilados se presentan a continuación. Su tarea es calcular la moda, es decir, determinar el valor que más frecuentemente aparece en las ventas diarias.\n",
    "\n",
    "0, 4, 10, 15, 19,\n",
    "0, 4, 10, 15, 19,\n",
    "2, 6, 11, 15, 20,\n",
    "2, 8, 14, 16, 22.\n",
    "\n"
   ]
  },
  {
   "cell_type": "code",
   "execution_count": 21,
   "id": "0209533c",
   "metadata": {},
   "outputs": [],
   "source": [
    "ventas = [0, 4, 10, 15, 19, 0, 4, 10, 15, 19, 2, 6, 11, 15, 20, 2, 8, 14, 16, 22]"
   ]
  },
  {
   "cell_type": "code",
   "execution_count": 22,
   "id": "d65b599e",
   "metadata": {},
   "outputs": [
    {
     "name": "stdout",
     "output_type": "stream",
     "text": [
      "15\n"
     ]
    }
   ],
   "source": [
    "# Con numpy no hay función que calcule la moda. Puedes usar el paquete de statistics.\n",
    "\n",
    "moda = statistics.mode(ventas)\n",
    "print(moda)"
   ]
  },
  {
   "cell_type": "code",
   "execution_count": 23,
   "id": "e77f1ce6",
   "metadata": {},
   "outputs": [
    {
     "data": {
      "text/plain": [
       "15    3\n",
       "0     2\n",
       "2     2\n",
       "4     2\n",
       "10    2\n",
       "19    2\n",
       "6     1\n",
       "8     1\n",
       "11    1\n",
       "14    1\n",
       "16    1\n",
       "20    1\n",
       "22    1\n",
       "dtype: int64"
      ]
     },
     "execution_count": 23,
     "metadata": {},
     "output_type": "execute_result"
    }
   ],
   "source": [
    "#Con el método .value_counts() podemos determinar la frecuencia de cada\n",
    "# uno de los valores\n",
    "df_values = pd.DataFrame(ventas)\n",
    "df_values.value_counts()"
   ]
  },
  {
   "cell_type": "markdown",
   "id": "98263789",
   "metadata": {},
   "source": [
    "### Ejemplo 4: \n",
    " \n",
    "Para cada una de las siguientes situaciones, ¿utilizarías la mediana o la media para describir el centro de los datos?   ¿Por qué? (Piensa en la forma probable de la distribución).\n",
    "\n",
    "a. Salario de los empleados de una compañía.  \n",
    "\n",
    "b. Tiempo empleado en un examen difícil.  \n",
    "\n",
    "c. Puntuaciones en una prueba estandarizada.\n",
    "\n",
    "d. Número de solicitudes para restablecer contraseñas de cuentas individuales de correo electrónico."
   ]
  },
  {
   "cell_type": "markdown",
   "id": "4a00c55b",
   "metadata": {},
   "source": [
    "##### Solución\n",
    "\n",
    "a. En este caso, es conveniente usar la mediana, dado que algunos salarios altos podrían afectar la media. La curva de la distribución sería con sesgo a la derecha.\n",
    "\n",
    "b. En este caso, la mediana es más conveniente, dado que algunas personas podría tomar más tiempo lo que haría que la curva sería sesgada a la izquierda. \n",
    "\n",
    "c. La media, dado que en este tipo de situaciones los resultados a cada lado  de la media tienden a ser simétricos. La curva de la distribución es simétrica.\n",
    "\n",
    "d. Mediana. La mayoría del  número de solicitudes tiende a ser bajo, solamente pocas cuentas tendrían  un número alto de solicitudes. La distribución tendría un sesgo a la derecha."
   ]
  },
  {
   "cell_type": "markdown",
   "id": "4cfab5f9",
   "metadata": {},
   "source": [
    "### Ejemplo 5: (Comparación entre media y mediana)\n",
    "\n",
    "Considere las siguientes observaciones:\n",
    "\n",
    "Grupo 1: 8,9,10,11,12\n",
    "\n",
    "Grupo 2: 8,9,10,11,100\n",
    "\n",
    "Grupo 3: 8,9,10,11,1000\n",
    "\n",
    "Halle la media y la mediana de cada uno de estos grupos.\n",
    "\n",
    "¿Qué conclusiones puede extraer de estos resultados?\n",
    "\n",
    "#### Solución"
   ]
  },
  {
   "cell_type": "code",
   "execution_count": 24,
   "id": "4d211af6",
   "metadata": {},
   "outputs": [
    {
     "name": "stdout",
     "output_type": "stream",
     "text": [
      "         Grupo 1  Grupo 2  Grupo 3\n",
      "Media       10.0     27.6    207.6\n",
      "Mediana     10.0     10.0     10.0\n"
     ]
    }
   ],
   "source": [
    "\n",
    "# Definir los datos en un DataFrame\n",
    "data = {\n",
    "    'Grupo 1': [8, 9, 10, 11, 12],\n",
    "    'Grupo 2': [8, 9, 10, 11, 100],\n",
    "    'Grupo 3': [8, 9, 10, 11, 1000]\n",
    "}\n",
    "\n",
    "df = pd.DataFrame(data)\n",
    "\n",
    "# Función para calcular la media y la mediana usando apply\n",
    "def calcular_estadisticas(grupo):\n",
    "    media = grupo.mean()\n",
    "    mediana = grupo.median()\n",
    "    return pd.Series([media, mediana], index=['Media', 'Mediana'])\n",
    "\n",
    "# Aplicar la función a cada columna del DataFrame\n",
    "resultados = df.apply(calcular_estadisticas)\n",
    "print(resultados)"
   ]
  },
  {
   "cell_type": "code",
   "execution_count": 25,
   "id": "cbf7728c",
   "metadata": {},
   "outputs": [],
   "source": [
    "# Notemos como la mediana no cambia ante la presencia de un valor atípico.\n",
    "\n",
    "#Pero la media si se ve afectada por este valor atípico. "
   ]
  },
  {
   "cell_type": "markdown",
   "id": "1a02c242",
   "metadata": {},
   "source": [
    "### Ejemplo 6:\n",
    "\n",
    "Observa los gráficos de puntos para tres conjuntos de datos.\n",
    "\n",
    "a. ¿Para cuál, si es que hay alguno, de los conjuntos de datos esperarías que la media y la mediana sean iguales? Explica por qué.\n",
    "\n",
    "b. ¿Para cuál, si es que hay alguno, de los conjuntos de datos esperarías que la media y la mediana difieran? ¿Cuál sería mayor, la media o la mediana? ¿Por qué?\n",
    "\n",
    "---"
   ]
  },
  {
   "cell_type": "code",
   "execution_count": 1,
   "id": "17909b84",
   "metadata": {},
   "outputs": [
    {
     "data": {
      "image/png": "[encoded data removed]",
      "text/plain": [
       "<Figure size 864x576 with 3 Axes>"
      ]
     },
     "metadata": {
      "needs_background": "light"
     },
     "output_type": "display_data"
    }
   ],
   "source": [
    "import numpy as np\n",
    "import matplotlib.pyplot as plt\n",
    "\n",
    "# Datos proporcionados\n",
    "data_list = [np.array([1,2,2,3,3,3,4,4,4,4,5,5,5,5,5,6,6,6,6,7,7,7,8,8,9]),\n",
    "             np.array([1,1,1,2,2,2,2,3,3,3,3,3,4,4,4,4,4,4,5,5,5,6,6,7,9]),\n",
    "             np.array([1,1,1,1,1,2,2,2,2,3,3,3,4,4,5,5,6,6,7,7,8,8,8,8,9])]\n",
    "\n",
    "# Etiquetas para los gráficos\n",
    "labels = [\"DISTRIBUCIÓN 1\", \"DISTRIBUCIÓN 2\", \"DISTRIBUCIÓN 3\"]\n",
    "\n",
    "# Crear subplots\n",
    "fig, axes = plt.subplots(3, 1, figsize=(12, 8), sharex=True)\n",
    "\n",
    "# Dibujar gráficos en subplots\n",
    "for i, (data, ax) in enumerate(zip(data_list, axes)):\n",
    "    values, counts = np.unique(data, return_counts=True)\n",
    "    \n",
    "    for value, count in zip(values, counts):\n",
    "        ax.plot([value] * count, list(range(count)), 'co', ms=10, linestyle='')\n",
    "\n",
    "    for spine in ['top', 'right', 'left']:\n",
    "        ax.spines[spine].set_visible(False)\n",
    "    ax.yaxis.set_visible(False)\n",
    "    ax.set_ylim(-1, max(counts))\n",
    "    ax.tick_params(axis='x', length=0, pad=8, labelsize=12)\n",
    "    ax.set_xlabel(labels[i], fontsize=12)\n",
    "\n",
    "# Ajuste final para mostrar las gráficas\n",
    "plt.tight_layout()\n",
    "plt.show()"
   ]
  },
  {
   "cell_type": "markdown",
   "id": "11f8edbb",
   "metadata": {},
   "source": [
    "### Solución:\n",
    "\n",
    "\n",
    "\n",
    "a. **Igualdad de media y mediana**:\n",
    "   - **Distribución 1**: Esperaría que para este conjunto de datos, la media y la mediana sean iguales o muy cercanas. Observando la distribución, parece simétrica con respecto al centro del rango de datos. Los puntos están distribuidos uniformemente alrededor del centro, lo que indica que el efecto de los valores en los extremos se equilibra.\n",
    "\n",
    "b. **Diferencia entre media y mediana**:\n",
    "   - **Distribución 2**: En este conjunto, se espera que la media y la mediana difieran. \n",
    "   \n",
    "   - **Distribución 3** Aunque los datos parecen ligeramente simétricos, la presencia de múltiples valores en los extremos superiores (especialmente el agrupamiento alrededor del 8 y un valor en 9) tiende a aumentar la media más que la mediana. Esto se debe a que la mediana, que caería alrededor de la mitad del rango de datos (probablemente entre 4 y 5), no se ve afectada por estos valores extremos superiores tanto como la media.\n",
    "\n",
    "\n"
   ]
  },
  {
   "cell_type": "code",
   "execution_count": 2,
   "id": "9025df3f",
   "metadata": {
    "scrolled": true
   },
   "outputs": [
    {
     "name": "stdout",
     "output_type": "stream",
     "text": [
      "     Data  Media  Mediana\n",
      "0  Data 1   5.00      5.0\n",
      "1  Data 2   3.72      4.0\n",
      "2  Data 3   4.28      4.0\n"
     ]
    }
   ],
   "source": [
    "import numpy as np\n",
    "import pandas as pd\n",
    "\n",
    "# Datos\n",
    "data1 = np.array([1, 2, 2, 3, 3, 3, 4, 4, 4, 4, 5, 5, 5, 5, 5, 6, 6, 6, 6, 7, 7, 7, 8, 8, 9])\n",
    "data2 = np.array([1, 1, 1, 2, 2, 2, 2, 3, 3, 3, 3, 3, 4, 4, 4, 4, 4, 4, 5, 5, 5, 6, 6, 7, 9])\n",
    "data3 = np.array([1, 1, 1, 1, 1, 2, 2, 2, 2, 3, 3, 3, 4, 4, 5, 5, 6, 6, 7, 7, 8, 8, 8, 8, 9])\n",
    "\n",
    "\n",
    "\n",
    "# Cálculo de la media y la mediana\n",
    "media_data1 = np.mean(data1)\n",
    "mediana_data1 = np.median(data1)\n",
    "\n",
    "media_data2 = np.mean(data2)\n",
    "mediana_data2 = np.median(data2)\n",
    "\n",
    "media_data3 = np.mean(data3)\n",
    "mediana_data3 = np.median(data3)\n",
    "\n",
    "# Crear la tabla\n",
    "resultados = pd.DataFrame({\n",
    "    \"Data\": [\"Data 1\", \"Data 2\", \"Data 3\"],\n",
    "    \"Media\": [media_data1, media_data2, media_data3],\n",
    "    \"Mediana\": [mediana_data1, mediana_data2, mediana_data3]\n",
    "})\n",
    "\n",
    "# Mostrar la tabla\n",
    "print(resultados)"
   ]
  },
  {
   "cell_type": "code",
   "execution_count": 3,
   "id": "174a1b66",
   "metadata": {},
   "outputs": [
    {
     "data": {
      "text/plain": [
       "3.72"
      ]
     },
     "execution_count": 3,
     "metadata": {},
     "output_type": "execute_result"
    }
   ],
   "source": [
    "media_data2"
   ]
  },
  {
   "cell_type": "markdown",
   "id": "5f3738cd",
   "metadata": {},
   "source": [
    "### Ejemplo 7:\n",
    "\n",
    "\n",
    "Trabajas en una empresa ubicada en el centro de Ciudad de México y te han encomendado abordar el problema del elevado consumo de gasolina por parte de los empleados, situación que se agrava debido a la expansión urbana, el tráfico y el uso de vehículos grandes e ineficientes. Para promover el uso del transporte público, has decidido investigar cuántos kilómetros recorren tus empleados en transporte público durante un día típico. Los valores para tus 10 empleados (registrados al kilómetro más cercano) son los siguientes:\n",
    "\n",
    "0, 0, 4, 0, 0, 10, 0, 6, 0, 0.\n",
    "\n",
    "a. Calcula e interpreta la media, mediana y moda.\n",
    "\n",
    "b. Recientemente se ha contratado a un empleado adicional que reside en una ciudad diferente y viaja 145 kilómetros diarios en transporte. Recalcula la media y la mediana, y describe el efecto de este valor atípico.\n"
   ]
  },
  {
   "cell_type": "code",
   "execution_count": 28,
   "id": "addced8c",
   "metadata": {
    "scrolled": false
   },
   "outputs": [
    {
     "name": "stdout",
     "output_type": "stream",
     "text": [
      "Media original: 2.0\n",
      "Mediana original: 0.0\n",
      "Moda original: 0\n",
      "Después de añadir el valor atípico:\n",
      "Media nueva: 15.0\n",
      "Mediana nueva: 0.0\n"
     ]
    }
   ],
   "source": [
    "\n",
    "\n",
    "# Datos originales\n",
    "kilometros = np.array([0, 0, 4, 0, 0, 10, 0, 6, 0, 0])\n",
    "\n",
    "# Calcular media, mediana y moda\n",
    "media_original = np.mean(kilometros)\n",
    "mediana_original = np.median(kilometros)\n",
    "moda_original = stats.mode(kilometros)[0][0]  # La función mode devuelve también la frecuencia\n",
    "\n",
    "# Añadir el valor atípico\n",
    "datos_con_atipico = np.append(kilometros, 145)\n",
    "\n",
    "# Recalcular media y mediana con el valor atípico\n",
    "media_nueva = np.mean(datos_con_atipico)\n",
    "mediana_nueva = np.median(datos_con_atipico)\n",
    "\n",
    "print(f\"Media original: {media_original}\")\n",
    "print(f\"Mediana original: {mediana_original}\")\n",
    "print(f\"Moda original: {moda_original}\")\n",
    "print(\"Después de añadir el valor atípico:\")\n",
    "print(f\"Media nueva: {media_nueva}\")\n",
    "print(f\"Mediana nueva: {mediana_nueva}\")\n"
   ]
  },
  {
   "cell_type": "markdown",
   "id": "23906674",
   "metadata": {},
   "source": [
    "### Ejemplo 8\n",
    "\n",
    "\n",
    "La siguiente figura muestra histogramas para tres muestras, cada una con un tamaño de muestra \\( n = 100 \\).\n",
    "\n",
    "¿Cuál muestra tiene la (i) mayor y (ii) menor desviación estándar?\n",
    "\n",
    "---"
   ]
  },
  {
   "cell_type": "code",
   "execution_count": 29,
   "id": "cbfb8e77",
   "metadata": {},
   "outputs": [
    {
     "data": {
      "image/png": "[encoded data removed]",
      "text/plain": [
       "<Figure size 1080x288 with 3 Axes>"
      ]
     },
     "metadata": {
      "needs_background": "light"
     },
     "output_type": "display_data"
    }
   ],
   "source": [
    "#Codigo de la figura.\n",
    "\n",
    "# Datos simulados que representan las distribuciones\n",
    "data1 = np.random.normal(loc=4, scale=1, size=1000)\n",
    "data2 = np.random.normal(loc=5, scale=0.5, size=500)\n",
    "data2 = np.append(data2, np.random.normal(loc=5, scale=0.1, size=500))  # Añadir pico\n",
    "data3 = np.random.normal(loc=3, scale=0.8, size=500)\n",
    "data3 = np.append(data3, np.random.normal(loc=7, scale=0.8, size=500))  # Distribución bimodal\n",
    "\n",
    "# Crear la figura y los ejes\n",
    "fig, axs = plt.subplots(1, 3, figsize=(15, 4))\n",
    "\n",
    "# Ajustes para cada histograma\n",
    "bins = np.linspace(1, 9, 20)  # Bins comunes para todos los histogramas para comparar fácilmente\n",
    "\n",
    "axs[0].hist(data1, bins=bins, color='blue', alpha=0.7)\n",
    "axs[0].set_title('Distribución 1')\n",
    "axs[0].set_xlim(1, 9)\n",
    "\n",
    "axs[1].hist(data2, bins=bins, color='yellow', alpha=0.7)\n",
    "axs[1].set_title('Distribución 2')\n",
    "axs[1].set_xlim(1, 9)\n",
    "\n",
    "axs[2].hist(data3, bins=bins, color='red', alpha=0.7)\n",
    "axs[2].set_title('Distribución 3')\n",
    "axs[2].set_xlim(1, 9)\n",
    "\n",
    "# Mostrar el gráfico\n",
    "plt.tight_layout()\n",
    "plt.show()\n"
   ]
  },
  {
   "cell_type": "markdown",
   "id": "6a0105bb",
   "metadata": {},
   "source": [
    "#### Solución: \n",
    "    \n",
    "La mayor desviación estándar se encuentra en la Distribución 3, debido a la separación entre los dos picos que aumenta la variabilidad general.\n",
    "\n",
    "La menor desviación estándar la tiene la Distribución 2, en parte porque la gran mayoría de los datos están concentrados en torno a una media con una baja variabilidad, aunque el pico estrecho aumenta ligeramente la desviación estándar no lo hace suficientemente como para superar a la Distribución 1."
   ]
  },
  {
   "cell_type": "markdown",
   "id": "d702232c",
   "metadata": {},
   "source": [
    "### Ejemplo 9: \n",
    "(Ejercicio tomado de https://onlinestatbook.com/Online_Statistics_Education.pdf, página 156, ejercicio 6)\n",
    "\n",
    "You recorded the time in seconds it took for 8 participants to solve a puzzle.\n",
    "These times appear below. However, when the data was entered into the\n",
    "statistical program, the score that was supposed to be 22.1 was entered as 21.2.\n",
    "\n",
    "You had calculated the following measures of central tendency: the mean, the\n",
    "median, and the mean trimmed 25%. Which of these measures of central\n",
    "tendency will change when you correct the recording error?\n",
    "\n",
    "| Time (seconds) |\n",
    "|:--------------:|\n",
    "|      15.2      |\n",
    "|      18.8      |\n",
    "|      19.3      |\n",
    "|      19.7      |\n",
    "|      20.2      |\n",
    "|      21.8      |\n",
    "|      22.1      |\n",
    "|      29.4      |\n",
    "\n"
   ]
  },
  {
   "cell_type": "code",
   "execution_count": 6,
   "id": "eb2e3804",
   "metadata": {},
   "outputs": [
    {
     "data": {
      "text/html": [
       "<div>\n",
       "<style scoped>\n",
       "    .dataframe tbody tr th:only-of-type {\n",
       "        vertical-align: middle;\n",
       "    }\n",
       "\n",
       "    .dataframe tbody tr th {\n",
       "        vertical-align: top;\n",
       "    }\n",
       "\n",
       "    .dataframe thead th {\n",
       "        text-align: right;\n",
       "    }\n",
       "</style>\n",
       "<table border=\"1\" class=\"dataframe\">\n",
       "  <thead>\n",
       "    <tr style=\"text-align: right;\">\n",
       "      <th></th>\n",
       "      <th>Time</th>\n",
       "    </tr>\n",
       "  </thead>\n",
       "  <tbody>\n",
       "    <tr>\n",
       "      <th>0</th>\n",
       "      <td>15.2</td>\n",
       "    </tr>\n",
       "    <tr>\n",
       "      <th>1</th>\n",
       "      <td>18.8</td>\n",
       "    </tr>\n",
       "    <tr>\n",
       "      <th>2</th>\n",
       "      <td>19.3</td>\n",
       "    </tr>\n",
       "    <tr>\n",
       "      <th>3</th>\n",
       "      <td>19.7</td>\n",
       "    </tr>\n",
       "    <tr>\n",
       "      <th>4</th>\n",
       "      <td>20.2</td>\n",
       "    </tr>\n",
       "    <tr>\n",
       "      <th>5</th>\n",
       "      <td>21.8</td>\n",
       "    </tr>\n",
       "    <tr>\n",
       "      <th>6</th>\n",
       "      <td>22.1</td>\n",
       "    </tr>\n",
       "    <tr>\n",
       "      <th>7</th>\n",
       "      <td>29.4</td>\n",
       "    </tr>\n",
       "  </tbody>\n",
       "</table>\n",
       "</div>"
      ],
      "text/plain": [
       "   Time\n",
       "0  15.2\n",
       "1  18.8\n",
       "2  19.3\n",
       "3  19.7\n",
       "4  20.2\n",
       "5  21.8\n",
       "6  22.1\n",
       "7  29.4"
      ]
     },
     "execution_count": 6,
     "metadata": {},
     "output_type": "execute_result"
    }
   ],
   "source": [
    "# We create a dictionary\n",
    "times_participants = {\n",
    "    'Time': [15.2, 18.8, 19.3, 19.7, 20.2, 21.8, 22.1, 29.4]\n",
    "}\n",
    "\n",
    "df = pd.DataFrame(times_participants)\n",
    "\n",
    "# Mostrar el DataFrame\n",
    "df\n"
   ]
  },
  {
   "cell_type": "markdown",
   "id": "fecfb069",
   "metadata": {},
   "source": [
    "### Ejemplo 10:  ( Media ponderada)\n",
    "Eres un profesor que necesita calcular la calificación final de un estudiante basada en varias actividades evaluadas durante el curso. Cada actividad tiene un peso diferente según su importancia. \n",
    "\n",
    "Las calificaciones y los pesos se muestran a continuación: \n",
    "\n",
    "\n",
    "| Evaluación   | Calificación | Peso |\n",
    "|--------------|--------------|------|\n",
    "| Examen 1     | 85           | 0.3  |\n",
    "| Examen 2     | 90           | 0.4  |\n",
    "| Tarea        | 78           | 0.1  |\n",
    "| Proyecto Final | 92         | 0.2  |\n",
    "\n",
    "Determine la calificación final del estudiante usando la media ponderada.\n",
    "\n",
    "#### Solución: \n",
    "\n"
   ]
  },
  {
   "cell_type": "code",
   "execution_count": 7,
   "id": "7dcae778",
   "metadata": {},
   "outputs": [
    {
     "name": "stdout",
     "output_type": "stream",
     "text": [
      "La calificación final del estudiante es: 87.70\n"
     ]
    }
   ],
   "source": [
    "\n",
    "\n",
    "# Datos de calificaciones y sus respectivos pesos\n",
    "calificaciones = [85, 90, 78, 92]  # Calificaciones obtenidas\n",
    "pesos = [0.3, 0.4, 0.1, 0.2]       # Peso de cada calificación: examen 1, examen 2, tarea, proyecto final\n",
    "\n",
    "# Calculamos la media ponderada\n",
    "calificacion_final = np.dot(calificaciones, pesos) / np.sum(pesos)\n",
    "\n",
    "print(f\"La calificación final del estudiante es: {calificacion_final:.2f}\")\n"
   ]
  },
  {
   "cell_type": "code",
   "execution_count": 1,
   "id": "4d63fe1d",
   "metadata": {},
   "outputs": [
    {
     "name": "stdout",
     "output_type": "stream",
     "text": [
      "Resultados para data1:\n",
      "Media: 4.00\n",
      "Mediana: 4.00\n",
      "Rango: 6.00\n",
      "Desviación Estándar: 3.00\n",
      "\n",
      "Resultados para data2:\n",
      "Media: 4.00\n",
      "Mediana: 4.00\n",
      "Rango: 6.00\n",
      "Desviación Estándar: 1.83\n"
     ]
    }
   ],
   "source": []
  },
  {
   "cell_type": "code",
   "execution_count": 15,
   "id": "d4788c0d",
   "metadata": {},
   "outputs": [],
   "source": [
    "temperatura = [20,19,20,20,19,19,20,20,19,18]"
   ]
  },
  {
   "cell_type": "code",
   "execution_count": 17,
   "id": "a0517522",
   "metadata": {},
   "outputs": [
    {
     "name": "stdout",
     "output_type": "stream",
     "text": [
      "2\n"
     ]
    }
   ],
   "source": [
    "rango = max(temperatura)-min(temperatura)\n",
    "print(rango)"
   ]
  },
  {
   "cell_type": "code",
   "execution_count": null,
   "id": "f635e28a",
   "metadata": {},
   "outputs": [],
   "source": []
  }
 ],
 "metadata": {
  "kernelspec": {
   "display_name": "Python 3 (ipykernel)",
   "language": "python",
   "name": "python3"
  },
  "language_info": {
   "codemirror_mode": {
    "name": "ipython",
    "version": 3
   },
   "file_extension": ".py",
   "mimetype": "text/x-python",
   "name": "python",
   "nbconvert_exporter": "python",
   "pygments_lexer": "ipython3",
   "version": "3.11.5"
  }
 },
 "nbformat": 4,
 "nbformat_minor": 5
}
