{
 "cells": [
  {
   "cell_type": "markdown",
   "id": "92b9c675",
   "metadata": {},
   "source": [
    "<img src=\"jalalogo.png\">\n",
    "\n",
    "\n",
    "\n",
    "\n",
    "# Semana 2: Representaciones visuales\n",
    "\n",
    "\n",
    "Además de calcular cantidades numéricas como la media, la mediana, la varianza, cuartiles, etc, puedes utilizar métodos visuales para presentar, describir y resumir datos. En esta sección, aprenderás a presentar tus datos visualmente utilizando los siguientes gráficos:\n",
    "\n",
    "- Diagramas de caja (Box plots)\n",
    "- Tablas de frecuencias\n",
    "- Histogramas (Histograms)\n",
    "- Gráficos círcular o de sectores (Pie charts)\n",
    "- Gráficos de barras (Bar charts)\n",
    "- Gráficos X-Y (X-Y plots)\n",
    "- Gráfico de puntos (dot plot)\n",
    "\n",
    "Utlizaremos la librería de Python  `matplotlib.pyplot` \n",
    "\n",
    "\n",
    "Considere la base de datos tomado de Kaggle:(Obesity Levels) sobre la cual se realizarán diferentes cálculos a traves del resto del Notebook.\n",
    " \n",
    "\n",
    "https://www.kaggle.com/datasets/fatemehmehrparvar/obesity-levels\n",
    "\n"
   ]
  },
  {
   "cell_type": "code",
   "execution_count": 40,
   "id": "e8a890f3",
   "metadata": {},
   "outputs": [
    {
     "data": {
      "text/html": [
       "<div>\n",
       "<style scoped>\n",
       "    .dataframe tbody tr th:only-of-type {\n",
       "        vertical-align: middle;\n",
       "    }\n",
       "\n",
       "    .dataframe tbody tr th {\n",
       "        vertical-align: top;\n",
       "    }\n",
       "\n",
       "    .dataframe thead th {\n",
       "        text-align: right;\n",
       "    }\n",
       "</style>\n",
       "<table border=\"1\" class=\"dataframe\">\n",
       "  <thead>\n",
       "    <tr style=\"text-align: right;\">\n",
       "      <th></th>\n",
       "      <th>Age</th>\n",
       "      <th>Gender</th>\n",
       "      <th>Height</th>\n",
       "      <th>Weight</th>\n",
       "      <th>CALC</th>\n",
       "      <th>FAVC</th>\n",
       "      <th>FCVC</th>\n",
       "      <th>NCP</th>\n",
       "      <th>SCC</th>\n",
       "      <th>SMOKE</th>\n",
       "      <th>CH2O</th>\n",
       "      <th>family_history_with_overweight</th>\n",
       "      <th>FAF</th>\n",
       "      <th>TUE</th>\n",
       "      <th>CAEC</th>\n",
       "      <th>MTRANS</th>\n",
       "      <th>NObeyesdad</th>\n",
       "    </tr>\n",
       "  </thead>\n",
       "  <tbody>\n",
       "    <tr>\n",
       "      <th>0</th>\n",
       "      <td>21.0</td>\n",
       "      <td>Female</td>\n",
       "      <td>1.62</td>\n",
       "      <td>64.0</td>\n",
       "      <td>no</td>\n",
       "      <td>no</td>\n",
       "      <td>2.0</td>\n",
       "      <td>3.0</td>\n",
       "      <td>no</td>\n",
       "      <td>no</td>\n",
       "      <td>2.0</td>\n",
       "      <td>yes</td>\n",
       "      <td>0.0</td>\n",
       "      <td>1.0</td>\n",
       "      <td>Sometimes</td>\n",
       "      <td>Public_Transportation</td>\n",
       "      <td>Normal_Weight</td>\n",
       "    </tr>\n",
       "    <tr>\n",
       "      <th>1</th>\n",
       "      <td>21.0</td>\n",
       "      <td>Female</td>\n",
       "      <td>1.52</td>\n",
       "      <td>56.0</td>\n",
       "      <td>Sometimes</td>\n",
       "      <td>no</td>\n",
       "      <td>3.0</td>\n",
       "      <td>3.0</td>\n",
       "      <td>yes</td>\n",
       "      <td>yes</td>\n",
       "      <td>3.0</td>\n",
       "      <td>yes</td>\n",
       "      <td>3.0</td>\n",
       "      <td>0.0</td>\n",
       "      <td>Sometimes</td>\n",
       "      <td>Public_Transportation</td>\n",
       "      <td>Normal_Weight</td>\n",
       "    </tr>\n",
       "    <tr>\n",
       "      <th>2</th>\n",
       "      <td>23.0</td>\n",
       "      <td>Male</td>\n",
       "      <td>1.80</td>\n",
       "      <td>77.0</td>\n",
       "      <td>Frequently</td>\n",
       "      <td>no</td>\n",
       "      <td>2.0</td>\n",
       "      <td>3.0</td>\n",
       "      <td>no</td>\n",
       "      <td>no</td>\n",
       "      <td>2.0</td>\n",
       "      <td>yes</td>\n",
       "      <td>2.0</td>\n",
       "      <td>1.0</td>\n",
       "      <td>Sometimes</td>\n",
       "      <td>Public_Transportation</td>\n",
       "      <td>Normal_Weight</td>\n",
       "    </tr>\n",
       "    <tr>\n",
       "      <th>3</th>\n",
       "      <td>27.0</td>\n",
       "      <td>Male</td>\n",
       "      <td>1.80</td>\n",
       "      <td>87.0</td>\n",
       "      <td>Frequently</td>\n",
       "      <td>no</td>\n",
       "      <td>3.0</td>\n",
       "      <td>3.0</td>\n",
       "      <td>no</td>\n",
       "      <td>no</td>\n",
       "      <td>2.0</td>\n",
       "      <td>no</td>\n",
       "      <td>2.0</td>\n",
       "      <td>0.0</td>\n",
       "      <td>Sometimes</td>\n",
       "      <td>Walking</td>\n",
       "      <td>Overweight_Level_I</td>\n",
       "    </tr>\n",
       "    <tr>\n",
       "      <th>4</th>\n",
       "      <td>22.0</td>\n",
       "      <td>Male</td>\n",
       "      <td>1.78</td>\n",
       "      <td>89.8</td>\n",
       "      <td>Sometimes</td>\n",
       "      <td>no</td>\n",
       "      <td>2.0</td>\n",
       "      <td>1.0</td>\n",
       "      <td>no</td>\n",
       "      <td>no</td>\n",
       "      <td>2.0</td>\n",
       "      <td>no</td>\n",
       "      <td>0.0</td>\n",
       "      <td>0.0</td>\n",
       "      <td>Sometimes</td>\n",
       "      <td>Public_Transportation</td>\n",
       "      <td>Overweight_Level_II</td>\n",
       "    </tr>\n",
       "  </tbody>\n",
       "</table>\n",
       "</div>"
      ],
      "text/plain": [
       "    Age  Gender  Height  Weight        CALC FAVC  FCVC  NCP  SCC SMOKE  CH2O  \\\n",
       "0  21.0  Female    1.62    64.0          no   no   2.0  3.0   no    no   2.0   \n",
       "1  21.0  Female    1.52    56.0   Sometimes   no   3.0  3.0  yes   yes   3.0   \n",
       "2  23.0    Male    1.80    77.0  Frequently   no   2.0  3.0   no    no   2.0   \n",
       "3  27.0    Male    1.80    87.0  Frequently   no   3.0  3.0   no    no   2.0   \n",
       "4  22.0    Male    1.78    89.8   Sometimes   no   2.0  1.0   no    no   2.0   \n",
       "\n",
       "  family_history_with_overweight  FAF  TUE       CAEC                 MTRANS  \\\n",
       "0                            yes  0.0  1.0  Sometimes  Public_Transportation   \n",
       "1                            yes  3.0  0.0  Sometimes  Public_Transportation   \n",
       "2                            yes  2.0  1.0  Sometimes  Public_Transportation   \n",
       "3                             no  2.0  0.0  Sometimes                Walking   \n",
       "4                             no  0.0  0.0  Sometimes  Public_Transportation   \n",
       "\n",
       "            NObeyesdad  \n",
       "0        Normal_Weight  \n",
       "1        Normal_Weight  \n",
       "2        Normal_Weight  \n",
       "3   Overweight_Level_I  \n",
       "4  Overweight_Level_II  "
      ]
     },
     "execution_count": 40,
     "metadata": {},
     "output_type": "execute_result"
    }
   ],
   "source": [
    "# Importamos las librerias necesarias\n",
    "import matplotlib.pyplot as plt\n",
    "import numpy as np\n",
    "import pandas as pd\n",
    "import stemgraphic # Libreria para diagramas de tallos y hojas\n",
    "np.random.seed(20)\n",
    "\n",
    "\n",
    "#Cargamos la base de datos previamente descargada en la carpeta de trabajo.\n",
    "df = pd.read_csv(\"data.csv\")\n",
    "df.head()"
   ]
  },
  {
   "cell_type": "markdown",
   "id": "c5f24fee",
   "metadata": {},
   "source": [
    "## Diagramas de caja (Box plots)\n",
    "\n",
    "El diagrama de caja es una herramienta visual muy útil para representar las estadísticas descriptivas de un conjunto de datos. Este gráfico puede mostrar:\n",
    "\n",
    "- El rango (la diferencia entre el valor máximo y mínimo).\n",
    "- El rango intercuartil (la diferencia entre el tercer y primer cuartil).\n",
    "- La mediana (el valor central del conjunto de datos).\n",
    "- Los valores atípicos (datos que se desvían significativamente del resto).\n",
    "- Todos los cuartiles (los puntos que dividen el conjunto de datos en cuatro partes iguales).\n",
    "\n",
    "Por otro lado, el rango intercuartil, conocido como IQR por sus siglas en inglés, ofrece una alternativa para medir la dispersión que es menos susceptible a los efectos de los valores atípicos. Esta medida también se emplea comúnmente para identificar dichos valores. En términos prácticos, un valor se considera atípico si se encuentra por debajo de `Q1 - 1.5 * IQR` o por encima de `Q3 + 1.5 * IQR`, donde Q1 y Q3 representan el primer y tercer cuartil, respectivamente. Este criterio se utiliza para determinar la longitud de los bigotes en un diagrama de caja.\n",
    "\n",
    " \n",
    "\n",
    "<img src=\"BoxPlot-Interpretacion.png\">"
   ]
  },
  {
   "cell_type": "markdown",
   "id": "5ad1f24b",
   "metadata": {},
   "source": [
    "### Ejemplo:\n",
    "\n",
    "Considere la base de datos anteriormente indicada y considere la columna `Weight`. Realice un diagrama de cajas para esta variable."
   ]
  },
  {
   "cell_type": "code",
   "execution_count": 2,
   "id": "c1cfa79e",
   "metadata": {},
   "outputs": [
    {
     "data": {
      "image/png": "[encoded data removed]",
      "text/plain": [
       "<Figure size 288x432 with 1 Axes>"
      ]
     },
     "metadata": {
      "needs_background": "light"
     },
     "output_type": "display_data"
    }
   ],
   "source": [
    "#cargamos los datos de la columna 'Weight'\n",
    "data= df['Weight']\n",
    "#Configuramos el tamaño de la figura\n",
    "fig = plt.figure(figsize =(4,6))\n",
    "# Creamos el diagrama de caja\n",
    "plt.boxplot(data)\n",
    "\n",
    "plt.show()"
   ]
  },
  {
   "cell_type": "code",
   "execution_count": null,
   "id": "2db7f1f7",
   "metadata": {},
   "outputs": [],
   "source": [
    "#Podemos añadirle alguna información al gráfico para una mejor lectura. \n",
    "#Agregamos al código nuevas instrucciones para crear las etiquetas.\n",
    "\n",
    "#cargamos los datos de la columna 'Weight'\n",
    "data= df['Weight']\n",
    "#Configuramos el tamaño de la figura\n",
    "fig = plt.figure(figsize =(4,6))\n",
    "# Creamos el diagrama de caja\n",
    "plt.boxplot(data)\n",
    "\n",
    "# Añadir título y etiquetas para los ejes\n",
    "plt.title('Diagrama de caja para la variable Weight')    # Añade un título al gráfico\n",
    "plt.ylabel('Weight')                   \n",
    "\n",
    "\n",
    "plt.show()"
   ]
  },
  {
   "cell_type": "markdown",
   "id": "ecf56ed9",
   "metadata": {},
   "source": [
    "Ahora vamos a realizar dos diagramas de cajas, para la variable `Weight`, pero segmentando los datos por el género (`Gender`),   para observar diferencias en los pesos entre hombres y mujeres."
   ]
  },
  {
   "cell_type": "code",
   "execution_count": null,
   "id": "68c89eec",
   "metadata": {},
   "outputs": [],
   "source": [
    "#Filtramos la base de datos para realizar el boxplot por generos\n",
    "\n",
    "#base de datos filtrada por género femenino\n",
    "df_female= df[df['Gender']=='Female']\n",
    "\n",
    "#base de datos filtrada por género masculino\n",
    "df_male= df[df['Gender']=='Male']\n",
    "\n",
    "#seleccionamos solamente la columna Weigth de cada dataframe anterior.\n",
    "data_female = df_female['Weight']\n",
    "data_male = df_male['Weight']\n",
    "\n",
    "data_male.describe()"
   ]
  },
  {
   "cell_type": "code",
   "execution_count": null,
   "id": "f1a7df8b",
   "metadata": {},
   "outputs": [],
   "source": [
    "#cargamos los datos filtrados de la columna 'Weight'\n",
    "data = [data_female, data_male] \n",
    "\n",
    "#Configuramos el tamaño de la figura\n",
    "fig = plt.figure(figsize =(5,9))\n",
    "\n",
    "# Creamos el diagrama de caja\n",
    "plt.boxplot(data,labels = ['Female', 'Male'])\n",
    "\n",
    "plt.show()"
   ]
  },
  {
   "cell_type": "markdown",
   "id": "6685a074",
   "metadata": {},
   "source": [
    "En los diagramas de cajas (box plots) proporcionados, hay varias diferencias y características que pueden ser identificadas al comparar el peso de los géneros femenino y masculino:\n",
    "\n",
    "1. **Mediana**: La línea naranja en cada caja indica la mediana del peso. La mediana en el grupo femenino parece estar alrededor de los 80, mientras que para el grupo masculino está un poco más alta, cerca de los 85. Esto sugiere que la mediana del peso es ligeramente superior en el género masculino.\n",
    "\n",
    "2. **Rango Intercuartil (IQR)**: La altura de la caja representa el rango intercuartílico, que es la diferencia entre el tercer cuartil (Q3) y el primer cuartil (Q1). La caja del genero femenino es más larga que la del género masculino, lo que indica una variabilidad mayor  en los pesos dentro del grupo de las mujeres comparada con los hombres.\n",
    "\n",
    "3. **Rango Total**: Los \"bigotes\" (las líneas que se extienden desde la parte superior e inferior de cada caja) representan el rango total del peso, excluyendo los valores atípicos. Los bigotes en el grupo femenino se extienden más que en el masculino, lo que indica que hay una mayor dispersión de los datos de peso en las mujeres.\n",
    "\n",
    "4. **Valores Atípicos**: El círculo por encima del bigote superior en el diagrama de cajas del género femenino representa un valor atípico, indicando que hay al menos una mujer con un peso significativamente más alto que el resto. No hay valores atípicos visibles en el diagrama de cajas masculino.\n",
    "\n",
    "5. **Simetría**: La caja del grupo masculino parece ser más simétrica respecto a la mediana, mientras que la caja del grupo femenino muestra un leve sesgo hacia los valores más bajos (la mediana está más cerca del primer cuartil que del tercero).\n",
    "\n",
    "En resumen, mientras que el grupo masculino muestra una mediana más alta, el grupo femenino muestra una mayor dispersión en los pesos y la presencia de valores atípicos en el extremo superior del rango de peso."
   ]
  },
  {
   "cell_type": "markdown",
   "id": "a88641ff",
   "metadata": {},
   "source": [
    "## Tablas de frecuencia para datos agrupados\n",
    " \n",
    "Las tablas de frecuencias para datos agrupados son una técnica eficaz al trabajar con grandes conjuntos de datos. Este método implica la división de los datos en intervalos de tamaño uniforme, denominados clases. Cada clase se caracteriza por valores que indican con qué frecuencia los datos caen dentro de ese intervalo.\n",
    "\n",
    "En una tabla de frecuencia, la marca de clase es el punto medio de cada intervalo o clase. Se calcula sumando el límite inferior y el límite superior de cada clase y dividiendo el resultado por 2.\n",
    " "
   ]
  },
  {
   "cell_type": "markdown",
   "id": "949b98de",
   "metadata": {},
   "source": [
    "### Ejemplo: \n",
    "\n",
    "\n",
    "Considere la base de datos anteriormente indicada y considere la columna `Weight`.  \n",
    "\n",
    "Calcula una tabla de frecuencias para la variable 'Weight' \n",
    "tomando como límite inferior del primer intervalo el primer cuartil Q1 y como limite superior del último intervalo el tercer cuartil  Q3 el conjunto de datos proporcionado. Considere un número de clases apropiado escogiendo un valor entre 5 y 20.\n",
    "\n",
    "Discute los resultados y preséntalos en un gráfico.\n",
    "\n",
    "#### Solución:"
   ]
  },
  {
   "cell_type": "code",
   "execution_count": 36,
   "id": "38336808",
   "metadata": {},
   "outputs": [
    {
     "name": "stdout",
     "output_type": "stream",
     "text": [
      "65.473343 107.430682\n"
     ]
    }
   ],
   "source": [
    "#Cargamos la base de datos previamente descargada en la carpeta de trabajo.\n",
    "df = pd.read_csv(\"data.csv\")\n",
    "\n",
    "#calculemos el primer cuartil y tercer cuartil}\n",
    "q1 = np.quantile(df['Weight'], 0.25)\n",
    "q3 = np.quantile(df['Weight'], 0.75)\n",
    "print(q1, q3)"
   ]
  },
  {
   "cell_type": "code",
   "execution_count": 37,
   "id": "3976e0d4",
   "metadata": {},
   "outputs": [
    {
     "name": "stdout",
     "output_type": "stream",
     "text": [
      "2.797155933333334\n"
     ]
    }
   ],
   "source": [
    "#datos filtrados\n",
    "filtered_data = df[(df['Weight'] >= q1) & (df['Weight'] <= q3)]\n",
    "\n",
    "#definimos el número de clases:\n",
    "num_clases = 15\n",
    "\n",
    "#hallamos el valor mínimo: \n",
    "val_min = q1\n",
    "\n",
    "#hallamos el valor máximo: \n",
    "val_max = q3\n",
    "\n",
    "#hallamos el ancho o amplitud de la clase\n",
    "A= (q3-q1)/num_clases\n",
    "print(A)"
   ]
  },
  {
   "cell_type": "code",
   "execution_count": 38,
   "id": "982c58af",
   "metadata": {},
   "outputs": [
    {
     "name": "stdout",
     "output_type": "stream",
     "text": [
      "             Intervalo  Frecuencia Marca de clase  Frecuencia acumulada  \\\n",
      "0      [65.473, 68.27)          60          66.87                    60   \n",
      "1      [68.27, 71.068)          75          69.67                   135   \n",
      "2     [71.068, 73.865)          34          72.47                   169   \n",
      "3     [73.865, 76.662)          85          75.26                   254   \n",
      "4     [76.662, 79.459)          87          78.06                   341   \n",
      "5     [79.459, 82.256)         155          80.86                   496   \n",
      "6     [82.256, 85.053)         106          83.65                   602   \n",
      "7     [85.053, 87.851)          65          86.45                   667   \n",
      "8     [87.851, 90.648)          78          89.25                   745   \n",
      "9     [90.648, 93.445)          28          92.05                   773   \n",
      "10    [93.445, 96.242)          33          94.84                   806   \n",
      "11    [96.242, 99.039)          43          97.64                   849   \n",
      "12   [99.039, 101.836)          42         100.44                   891   \n",
      "13  [101.836, 104.634)          64         103.23                   955   \n",
      "14  [104.634, 107.431)         100         106.03                  1055   \n",
      "\n",
      "    Frecuencia relativa  Frecuencia relativa acumulada  \n",
      "0                  0.03                           0.03  \n",
      "1                  0.04                           0.06  \n",
      "2                  0.02                           0.08  \n",
      "3                  0.04                           0.12  \n",
      "4                  0.04                           0.16  \n",
      "5                  0.07                           0.23  \n",
      "6                  0.05                           0.29  \n",
      "7                  0.03                           0.32  \n",
      "8                  0.04                           0.35  \n",
      "9                  0.01                           0.37  \n",
      "10                 0.02                           0.38  \n",
      "11                 0.02                           0.40  \n",
      "12                 0.02                           0.42  \n",
      "13                 0.03                           0.45  \n",
      "14                 0.05                           0.50  \n"
     ]
    }
   ],
   "source": [
    "# Definir los límites de clase\n",
    "limites = [q1 + A * i for i in range(num_clases+1)]\n",
    "\n",
    "# Crear el DataFrame con las frecuencias\n",
    "df = pd.cut(filtered_data['Weight'], bins=limites, include_lowest=True, right=False)\n",
    "df = pd.value_counts(df, sort=False).reset_index()\n",
    "df.columns = ['Intervalo', 'Frecuencia']\n",
    "\n",
    "#Calculamos la marca de clase:\n",
    "df['Marca de clase'] = df['Intervalo'].apply(lambda x: (x.left + x.right) / 2)\n",
    "\n",
    "# Calcular la frecuencia acumulada\n",
    "df['Frecuencia acumulada'] = df['Frecuencia'].cumsum()\n",
    "\n",
    "\n",
    "\n",
    "# Calcular la frecuencia relativa\n",
    "df['Frecuencia relativa'] = df['Frecuencia'] / len(data)\n",
    "\n",
    "# Calcular la frecuencia relativa acumulada\n",
    "df['Frecuencia relativa acumulada'] = df['Frecuencia relativa'].cumsum()\n",
    "\n",
    "# Mostrar la tabla de frecuencias\n",
    "print(df)"
   ]
  },
  {
   "cell_type": "code",
   "execution_count": 40,
   "id": "99fa6948",
   "metadata": {},
   "outputs": [
    {
     "data": {
      "image/png": "[encoded data removed]",
      "text/plain": [
       "<Figure size 576x576 with 1 Axes>"
      ]
     },
     "metadata": {
      "needs_background": "light"
     },
     "output_type": "display_data"
    }
   ],
   "source": [
    "bins = df['Marca de clase'].tolist()\n",
    "# Frecuencias para cada bin\n",
    "frequencies = df['Frecuencia'].tolist()\n",
    "\n",
    "plt.figure(figsize=(8, 8))  # tamaño del gráfico\n",
    "plt.bar(bins, frequencies,width=A, edgecolor='black', align='center', color='skyblue')\n",
    "plt.xticks(ticks=bins, labels=bins, rotation=45, ha='right')  # Ajustar los ticks y etiquetas\n",
    "plt.title('Tabla de Frecuencia para la variable Weight')\n",
    "plt.ylabel('Frecuencia')\n",
    "plt.show()"
   ]
  },
  {
   "cell_type": "markdown",
   "id": "9d20c8f0",
   "metadata": {},
   "source": [
    "### Ejemplo:\n",
    "\n",
    "Un estudio sobre el comportamiento de consumo de una familia en un centro comercial se llevó a cabo durante varias semanas. Se registraron los montos de gastos en diferentes categorías de productos, como ropa, alimentos y artículos para el hogar. Los datos recopilados incluyen las siguientes cantidades en dólares:\n",
    "\n",
    "77, 18, 63, 84, 38, 54, 50, 59, 54, 56, 36, 26, 50, 34, 44, \n",
    "        41, 58, 58, 53, 51, 62, 43, 52, 53, 63, 62, 62, 65, 61, 52, 60, 60, 45, 66, 83, 71, 63, 58, 61\n",
    "\n",
    "Para analizar el patrón de gastos, se organizaran los datos en una distribución de frecuencias con siete clases y un límite inferior de la primera clase de 16. Este análisis permitirá identificar los rangos de gastos más comunes  y una visión detallada de cómo la familia distribuye su presupuesto durante sus visitas al centro comercial. La información obtenida será valiosa para comprender mejor las preferencias de compra y tomar mejores desiciones en estrategias de gestión financiera familiar.\n"
   ]
  },
  {
   "cell_type": "code",
   "execution_count": 5,
   "id": "8ee19289",
   "metadata": {
    "scrolled": true
   },
   "outputs": [
    {
     "data": {
      "text/html": [
       "<div>\n",
       "<style scoped>\n",
       "    .dataframe tbody tr th:only-of-type {\n",
       "        vertical-align: middle;\n",
       "    }\n",
       "\n",
       "    .dataframe tbody tr th {\n",
       "        vertical-align: top;\n",
       "    }\n",
       "\n",
       "    .dataframe thead th {\n",
       "        text-align: right;\n",
       "    }\n",
       "</style>\n",
       "<table border=\"1\" class=\"dataframe\">\n",
       "  <thead>\n",
       "    <tr style=\"text-align: right;\">\n",
       "      <th></th>\n",
       "      <th>index</th>\n",
       "      <th>0</th>\n",
       "    </tr>\n",
       "  </thead>\n",
       "  <tbody>\n",
       "    <tr>\n",
       "      <th>0</th>\n",
       "      <td>[16, 26)</td>\n",
       "      <td>1</td>\n",
       "    </tr>\n",
       "    <tr>\n",
       "      <th>1</th>\n",
       "      <td>[26, 36)</td>\n",
       "      <td>3</td>\n",
       "    </tr>\n",
       "    <tr>\n",
       "      <th>2</th>\n",
       "      <td>[36, 46)</td>\n",
       "      <td>5</td>\n",
       "    </tr>\n",
       "    <tr>\n",
       "      <th>3</th>\n",
       "      <td>[46, 56)</td>\n",
       "      <td>6</td>\n",
       "    </tr>\n",
       "    <tr>\n",
       "      <th>4</th>\n",
       "      <td>[56, 66)</td>\n",
       "      <td>16</td>\n",
       "    </tr>\n",
       "    <tr>\n",
       "      <th>5</th>\n",
       "      <td>[66, 76)</td>\n",
       "      <td>2</td>\n",
       "    </tr>\n",
       "    <tr>\n",
       "      <th>6</th>\n",
       "      <td>[76, 86)</td>\n",
       "      <td>3</td>\n",
       "    </tr>\n",
       "  </tbody>\n",
       "</table>\n",
       "</div>"
      ],
      "text/plain": [
       "      index   0\n",
       "0  [16, 26)   1\n",
       "1  [26, 36)   3\n",
       "2  [36, 46)   5\n",
       "3  [46, 56)   6\n",
       "4  [56, 66)  16\n",
       "5  [66, 76)   2\n",
       "6  [76, 86)   3"
      ]
     },
     "execution_count": 5,
     "metadata": {},
     "output_type": "execute_result"
    }
   ],
   "source": [
    "# Solución\n",
    "pd.set_option('display.precision', 2) # Configuramos Pandas para mostrar solo dos decimales en los valores numéricos\n",
    " \n",
    "\n",
    "# Datos de ejemplo\n",
    "x = [77, 18, 63, 84, 34, 59, 59, 54, 56, 36, 26, 34, 44,\n",
    "        41, 58, 58, 53, 51, 62, 43, 52, 53, 63, 62, 65, 51, 62, 60, 68, 45, 65, 83, 71, 63, 58, 61]\n",
    "\n",
    "# definimos el número de clases:\n",
    "num_clases = 7\n",
    "\n",
    "# hallamos el valor mínimo:\n",
    "val_min = min(x)\n",
    "\n",
    "# hallamos el valor máximo:\n",
    "val_max = max(x)\n",
    "\n",
    "# hallamos el ancho (amplitud) de la clase\n",
    "A = (val_max - val_min) / num_clases\n",
    "\n",
    "# Dado que A=9.42, podemos tomar el ancho de clases igual a 10 y considerar el primer intervalo de\n",
    "#clase partiendo de 16 con el fin de que el último intervalo tenga como límite superior a 86.\n",
    "\n",
    "# Definir los límites de clase\n",
    "limites = [16 + 10 * i for i in range(num_clases+1)]\n",
    "\n",
    "# Crear el DataFrame con las frecuencias\n",
    "df = pd.cut(x, bins=limites, include_lowest = True, right=False) # pd.cut() es una función que permite dividir los datos\n",
    "                                                                    # en los diferentes límites\n",
    "\n",
    "df = pd.value_counts(df, sort=False).reset_index()  #El parámetro sort se debe seleccionar como falso para que no ordene \n",
    "                                                   # los intervalos en orden descendente según las frecuencias, sino que \n",
    "                                                    # conserve el orden en que fueron definidos\n",
    "\n",
    "'''Después de usar value_counts, el resultado puede tener un índice que consiste en valores distintos\n",
    "del índice entero estándar o puede estar basado en una de las columnas del DataFrame. \n",
    "Usar .reset_index() devuelve el índice a la forma estándar, y permite realizar operaciones sin \n",
    "ningún inconveniente'''\n",
    "\n",
    "df\n",
    " "
   ]
  },
  {
   "cell_type": "code",
   "execution_count": 6,
   "id": "b52756d1",
   "metadata": {},
   "outputs": [
    {
     "name": "stdout",
     "output_type": "stream",
     "text": [
      "  Intervalo  Frecuencia  Frecuencia acumulada  Frecuencia relativa  \\\n",
      "0  [16, 26)           1                     1                 0.14   \n",
      "1  [26, 36)           3                     4                 0.43   \n",
      "2  [36, 46)           5                     9                 0.71   \n",
      "3  [46, 56)           6                    15                 0.86   \n",
      "4  [56, 66)          16                    31                 2.29   \n",
      "5  [66, 76)           2                    33                 0.29   \n",
      "6  [76, 86)           3                    36                 0.43   \n",
      "\n",
      "   Frecuencia relativa acumulada  \n",
      "0                           0.14  \n",
      "1                           0.57  \n",
      "2                           1.29  \n",
      "3                           2.14  \n",
      "4                           4.43  \n",
      "5                           4.71  \n",
      "6                           5.14  \n"
     ]
    }
   ],
   "source": [
    "# Renombramos las columnas\n",
    "\n",
    "df.columns = ['Intervalo', 'Frecuencia']\n",
    "# creemos el cálculo de las diferentes frecuencias\n",
    "# Calcular la frecuencia acumulada\n",
    "df['Frecuencia acumulada'] = df['Frecuencia'].cumsum()\n",
    "\n",
    "# Calcular la frecuencia relativa\n",
    "df['Frecuencia relativa'] = df['Frecuencia'] / len(df)\n",
    "\n",
    "# Calcular la frecuencia relativa acumulada\n",
    "df['Frecuencia relativa acumulada'] = df['Frecuencia relativa'].cumsum()\n",
    "\n",
    "# Mostrar la tabla de frecuencias\n",
    "print(df)"
   ]
  },
  {
   "cell_type": "markdown",
   "id": "6597ec79",
   "metadata": {},
   "source": [
    "## Histograma\n",
    "\n",
    "Los histogramas son una herramienta para visualizar una gran cantidad de valores únicos en un conjunto de datos de una variable cuantitativa. En esencia, un histograma divide estos valores en intervalos, comúnmente llamados bins o clases, para organizar la información de manera más comprensible. A menudo, estos intervalos tienen el mismo tamaño, pero esta no es una regla estricta.\n",
    "\n",
    "Cada intervalo está definido por sus límites inferior y superior, conocidos como bordes. La frecuencia es el número de elementos que caen dentro de cada intervalo, proporcionando una medida de cuán comunes son los valores dentro de ese rango. Siguiendo una convención estándar, los intervalos incluyen los valores iguales al límite inferior pero excluyen los valores iguales al límite superior.\n",
    "\n",
    "La información de frecuencia se representa visualmente mediante las alturas de las barras en el histograma, las cuales se colocan de manera adyacente para facilitar la comparación entre intervalos.\n",
    "\n",
    "Este tipo de gráfico ofrece una representación clara y visual de cómo se distribuyen los datos a lo largo de los intervalos o clases, lo que permite identificar patrones y tendencias en la variación de los valores presentes en el conjunto de datos.\n",
    "\n"
   ]
  },
  {
   "cell_type": "code",
   "execution_count": null,
   "id": "7be78d83",
   "metadata": {},
   "outputs": [],
   "source": [
    "\n",
    "\n",
    "# Realicemos un histograma para la variable peso por cada género.\n",
    "\n",
    "x0 = data_female\n",
    "x1 = data_male\n",
    "fig, ax = plt.subplots(2,1)\n",
    "ax[0].hist(x0, bins =25,color ='purple' )\n",
    "ax[1].hist(x1,bins=25,color='blue')\n",
    "\n",
    "ax[0].set_xlabel('Weight Female')\n",
    "ax[1].set_xlabel('Weight Male')\n",
    " \n",
    "plt.subplots_adjust(hspace=0.5)  # Añadimos un espacio entre las dos gráficas\n",
    "\n",
    "# Establecemos los mismos límites en el eje x para ambos subplots\n",
    "\n",
    "ax[0].set_xlim(30, 180)\n",
    "ax[1].set_xlim(30, 180)\n",
    "\n",
    "\n",
    "plt.show()"
   ]
  },
  {
   "cell_type": "code",
   "execution_count": null,
   "id": "3ec85e3c",
   "metadata": {
    "scrolled": true
   },
   "outputs": [],
   "source": [
    "# Agregamos algunas instrucciones al código anterior para poder visualizar la media y la mediana.\n",
    "\n",
    "\n",
    "x0 = data_female\n",
    "x1 = data_male\n",
    "fig, ax = plt.subplots(2,1)\n",
    "ax[0].hist(x0, bins =25,color ='purple' )\n",
    "ax[1].hist(x1,bins=25,color='blue')\n",
    "\n",
    "ax[0].set_xlabel('Weight Female')\n",
    "ax[1].set_xlabel('Weight Male')\n",
    " \n",
    "plt.subplots_adjust(hspace=0.5)  # Añadimos un espacio entre las dos gráficas\n",
    "\n",
    "# Establecemos los mismos límites en el eje x para ambos subplots\n",
    "\n",
    "ax[0].set_xlim(30, 180)\n",
    "ax[1].set_xlim(30, 180)\n",
    "\n",
    "\n",
    "# Calculamos la media y la mediana\n",
    "mean_female = np.mean(data_female)\n",
    "median_female = np.median(data_female)\n",
    "mean_male = np.mean(data_male)\n",
    "median_male = np.median(data_male)\n",
    "\n",
    "# Trazamo líneas verticales para la media y la mediana en el primer subplot\n",
    "ax[0].axvline(mean_female, color='green', linestyle='dashed', linewidth=2, label=f'Media: {mean_female:.2f}')\n",
    "ax[0].axvline(median_female, color='orange', linestyle='dashed', linewidth=2, label=f'Mediana: {median_female}')\n",
    "ax[0].legend()\n",
    "\n",
    "# Trazamosb líneas verticales para la media y la mediana en el segundo subplot\n",
    "ax[1].axvline(mean_male, color='green', linestyle='dashed', linewidth=2, label=f'Media: {mean_male:.2f}')\n",
    "ax[1].axvline(median_male, color='orange', linestyle='dashed', linewidth=2, label=f'Mediana: {median_male}')\n",
    "ax[1].legend()\n",
    "\n",
    "plt.show()"
   ]
  },
  {
   "cell_type": "markdown",
   "id": "67a6add1",
   "metadata": {},
   "source": [
    "### Interpretación de los histogramas.\n",
    "\n",
    "\n",
    "\n",
    "- **Media y Mediana:** En ambos histogramas, la línea de trazos verdes representa la media (promedio) del peso, y la línea de trazos naranjas indica la mediana (el valor central en un conjunto de datos ordenados).\n",
    "  - Para el \"Peso Femenino\", la media es 82.30 y la mediana es 78.0.\n",
    "  - Para el \"Peso Masculino\", la media es 90.77 y la mediana es aproximadamente 89.95.\n",
    "\n",
    "- **Sesgo:** \n",
    "  - El histograma del \"Peso Femenino\" muestra un sesgo a la derecha (sesgo positivo), ya que la cola del gráfico se extiende más hacia los valores mayores y la media es más alta que la mediana.\n",
    "  - El histograma del \"Peso Masculino\" también parece tener un ligero sesgo a la derecha, pero es menos pronunciado en comparación con el femenino, ya que la media y la mediana están más cercanas una de la otra.\n",
    "\n",
    "- **Simetría:** \n",
    "  - Ninguno de los histogramas es perfectamente simétrico. \n",
    "\n",
    "- **Dispersión:**\n",
    " \n",
    "  - Basado en la apariencia de los histogramas, parece que el \"Peso Femenino\" tiene una dispersión ligeramente mayor que el \"Peso Masculino\" porque sus barras están más esparcidas y hay un rango más amplio de pesos representados.\n",
    "  - La presencia de pesos más extremos (muy bajos o muy altos) en el histograma femenino también sugiere una mayor dispersión en ese grupo comparado con el masculino.\n",
    "\n"
   ]
  },
  {
   "cell_type": "markdown",
   "id": "04ff1b33",
   "metadata": {},
   "source": [
    "**Lectura de la gráfica:**: Hay una tendencia de que a medida que la altura aumenta, el peso también tiende a aumentar. Esto es común, ya que generalmente las personas más altas tienen un mayor peso corporal.\n",
    "\n",
    "\n",
    "\n"
   ]
  },
  {
   "cell_type": "markdown",
   "id": "a0371ef2",
   "metadata": {},
   "source": [
    "## Diagrama Circular o de Pastel\n",
    "\n",
    "\n",
    "Los gráficos de pastel representan datos que tienen un pequeño número de etiquetas a partir de sus frecuencias. Un gráfico de pastel es un círculo dividido en múltiples porciones. Cada porción corresponde a una etiqueta distinta del conjunto de datos y tiene un área proporcional a la frecuencia relativa asociada con esa etiqueta."
   ]
  },
  {
   "cell_type": "markdown",
   "id": "9d820bd0",
   "metadata": {},
   "source": [
    "## Diagrama de barras\n",
    "\n",
    "La gráfica de barras es la herramienta más utilizado para representar gráficamente variables cualitativas, donde el eje horizontal indica la variable y el eje vertical muestra la frecuencia de cada categoría. Una característica clave es que las barras están separadas por espacios, reflejando su naturaleza cualitativa. En esencia, se utiliza una serie de rectángulos de igual ancho para representar visualmente la frecuencia de cada categoría en la tabla de frecuencias.\n",
    "\n",
    "La principal diferencia entre un diagrama de barras y un histograma radica en el tipo de datos que representan: categóricos vs. continuos, y en cómo se presentan las barras en relación con los ejes y entre sí."
   ]
  },
  {
   "cell_type": "markdown",
   "id": "778d9127",
   "metadata": {},
   "source": [
    "### Ejemplo: \n",
    "Una empresa especializada en accesorios de moda vende bufandas en una variedad de colores: blanco, negro, morado, naranja, azul y rojo. Las ventas durante la semana se representan en la siguiente tabla:\n",
    "\n",
    "\n",
    "\n",
    "| Color  | Cantidad |\n",
    "|--------|----------|\n",
    "| Blanco | 12       |\n",
    "| Verde  | 8        |\n",
    "| Morado | 22       |\n",
    "| Azul   | 16       |\n",
    "\n",
    "\n",
    "Realizar un diagrama de barras y un diagrama circular que represente la anterior tabla."
   ]
  },
  {
   "cell_type": "code",
   "execution_count": null,
   "id": "8c9f6950",
   "metadata": {
    "scrolled": false
   },
   "outputs": [],
   "source": [
    "#Datos del gráfico para el diagrama de barras\n",
    "frecuencias = [22,16,12,8]\n",
    "categorias = ['Morado', 'Azul','Blanco','Verde']\n",
    "colores = ['purple','blue', 'white', 'green']\n",
    "#crear el gráfico\n",
    "plt.bar(categorias,frecuencias,color = colores,width = 0.4,edgecolor= 'black')\n",
    "plt.title('DIAGRAMA DE BARRAS')\n",
    "plt.xlabel('Color')\n",
    "plt.ylabel('Frecuencia')\n",
    "plt.show()"
   ]
  },
  {
   "cell_type": "code",
   "execution_count": null,
   "id": "872f8a04",
   "metadata": {},
   "outputs": [],
   "source": [
    "#Datos del gráfico para el diagrama circular\n",
    "frecuencias = [22,16,12,8]\n",
    "categorias = ['Morado', 'Azul','Blanco','Verde']\n",
    "colores = ['purple','blue', 'white', 'green']\n",
    "#crear el gráfico\n",
    "plt.pie(frecuencias,labels =categorias,colors = colores, autopct = '%1.1f%%',wedgeprops = {\"edgecolor\" : \"gray\", \n",
    "                      'linewidth': 2}) \n",
    "plt.title('Diagrama circular')\n",
    "\n",
    "\n",
    "plt.show()"
   ]
  },
  {
   "cell_type": "code",
   "execution_count": null,
   "id": "770707d4",
   "metadata": {},
   "outputs": [],
   "source": [
    "# Retomemos el ejemplo general. Analicemos la varible Gender y representemos esta variable por medio de un gráfico circular\n",
    "\n",
    "freq = df['Gender'].value_counts()\n",
    "freq"
   ]
  },
  {
   "cell_type": "code",
   "execution_count": null,
   "id": "74cf1c82",
   "metadata": {},
   "outputs": [],
   "source": [
    "fig, ax = plt.subplots()\n",
    "ax.pie(freq, labels=('Hombres', 'Mujeres'), autopct='%1.1f%%')\n",
    "ax.set_title('Porcentaje de Hombres y Mujeres en el estudio')\n",
    "plt.show()"
   ]
  },
  {
   "cell_type": "code",
   "execution_count": null,
   "id": "705291e1",
   "metadata": {},
   "outputs": [],
   "source": [
    "#Quiza es mas conveniente realizar un diagrama circular en el caso de que\n",
    "#la frecuencia conste de al menos dos clases y menos de 5.\n",
    "#Tomemos la variable CALC, que corresponde a la pregunta: \" How often do you drink alcohol? \" y realicemos un diagrama circular.\n",
    "\n",
    "freq_alcohol = df['CAEC'].value_counts()\n",
    "\n",
    "\n",
    "fig, ax = plt.subplots()\n",
    "ax.pie(freq_alcohol, labels= ('sometimes', 'frequently','always','no'), autopct='%1.1f%%')\n",
    "ax.set_title('How often do you drink alcohol?')\n",
    "plt.show()"
   ]
  },
  {
   "cell_type": "code",
   "execution_count": null,
   "id": "5f8de29c",
   "metadata": {},
   "outputs": [],
   "source": [
    "# Del grafico circular observamos que el 83.6% consumen alcohol algunas veces."
   ]
  },
  {
   "cell_type": "code",
   "execution_count": null,
   "id": "88f2235c",
   "metadata": {},
   "outputs": [],
   "source": [
    "#Tomemos la variable CALC, que corresponde a la pregunta: \" How often do you drink alcohol? \" \n",
    "#y realicemos un diagrama de barras.\n",
    "\n",
    "freq_alcohol = df['CAEC'].value_counts()\n",
    "\n",
    "\n",
    "# Luego, creamos el diagrama de barras utilizando estas frecuencias\n",
    "freq_alcohol.plot(kind='bar')\n",
    "\n",
    "# Podemos añadir etiquetas y título para mayor claridad\n",
    "plt.xlabel('How often do you drink alcohol? ')\n",
    "plt.ylabel('Frecuencia')\n",
    "plt.title('Diagrama de Barras')\n",
    "plt.xticks(rotation=30, horizontalalignment=\"center\")\n",
    "\n",
    "# Finalmente, mostramos la gráfica\n",
    "plt.show()\n"
   ]
  },
  {
   "cell_type": "markdown",
   "id": "3c1a2a7e",
   "metadata": {},
   "source": [
    "## Diagrama de dispersión X-Y:\n",
    "\n",
    "El diagrama de dispersión o gráfico X-Y representa los pares de datos de dos conjuntos de datos. El eje horizontal x muestra los valores del conjunto x, mientras que el eje vertical y muestra los valores correspondientes del conjunto. Opcionalmente, puedes incluir la línea de regresión y el coeficiente de correlación. \n",
    "\n",
    "### Ejemplo:\n",
    "\n",
    "Considere la base datos  de Kaggle:(Obesity Levels)  \n",
    "\n",
    "https://www.kaggle.com/datasets/fatemehmehrparvar/obesity-levels \n",
    "\n",
    "y analicemos si existe alguna relación entre la altura y el peso.\n"
   ]
  },
  {
   "cell_type": "code",
   "execution_count": 45,
   "id": "9290d0be",
   "metadata": {},
   "outputs": [],
   "source": [
    "#Cargamos la base de datos con el fin de asegurarnos que esta sea cargada correctamente\n",
    "df = pd.read_csv(\"data.csv\")\n",
    "\n",
    "# Identificamos los valores para x,y.\n",
    "x = df['Height']\n",
    "y= df['Weight']"
   ]
  },
  {
   "cell_type": "code",
   "execution_count": 46,
   "id": "c0615dea",
   "metadata": {
    "scrolled": true
   },
   "outputs": [
    {
     "data": {
      "image/png": "[encoded data removed]",
      "text/plain": [
       "<Figure size 432x288 with 1 Axes>"
      ]
     },
     "metadata": {
      "needs_background": "light"
     },
     "output_type": "display_data"
    }
   ],
   "source": [
    "fig, ax = plt.subplots()\n",
    "ax.plot(x, y, linewidth=0, marker='o', label='Data points')\n",
    "#ax.plot(x, intercept + slope * x, label=line)\n",
    "ax.set_xlabel('Height')\n",
    "ax.set_ylabel('Weight')\n",
    "ax.legend(facecolor='white')\n",
    "plt.show()"
   ]
  },
  {
   "cell_type": "code",
   "execution_count": 59,
   "id": "9db69217",
   "metadata": {
    "scrolled": true
   },
   "outputs": [
    {
     "data": {
      "image/png": "[encoded data removed]",
      "text/plain": [
       "<Figure size 1080x432 with 2 Axes>"
      ]
     },
     "metadata": {
      "needs_background": "light"
     },
     "output_type": "display_data"
    }
   ],
   "source": [
    "# ¿Qué pasa si filtramos los datos y solo hacemos el estudio para mujeres y luego para hombre?\n",
    "df_filtreded_f = df[df['Gender']=='Female']\n",
    "df_filtreded_m = df[df['Gender']=='Male']\n",
    "\n",
    "# Identificamos los valores x y para gráficar el diagrama de dispersión:\n",
    "\n",
    "x1=df_filtreded_f['Height']\n",
    "y1=df_filtreded_f['Weight']\n",
    "\n",
    "\n",
    "x2=df_filtreded_m['Height']\n",
    "y2=df_filtreded_m['Weight']\n",
    "\n",
    "fig, axs = plt.subplots(1,2,figsize=(15, 6))\n",
    "axs[0].plot(x1,y1,linewidth =0,marker ='o')\n",
    "axs[1].plot(x2,y2,linewidth =0,marker ='o')\n",
    "axs[0].set_title('Female')\n",
    "axs[1].set_title('Male')\n",
    "\n",
    "axs[0].set_xlabel('Height')\n",
    "axs[0].set_ylabel('Weight')\n",
    "axs[1].set_xlabel('Height')\n",
    "axs[1].set_ylabel('Weight')\n",
    "\n",
    "plt.show()"
   ]
  },
  {
   "cell_type": "markdown",
   "id": "624d6b81",
   "metadata": {},
   "source": [
    "Realicemos un diagrama de dispersión XY entre la variable `Age` y `Weight`"
   ]
  },
  {
   "cell_type": "code",
   "execution_count": 60,
   "id": "ef70873a",
   "metadata": {},
   "outputs": [
    {
     "data": {
      "image/png": "[encoded data removed]",
      "text/plain": [
       "<Figure size 432x288 with 1 Axes>"
      ]
     },
     "metadata": {
      "needs_background": "light"
     },
     "output_type": "display_data"
    }
   ],
   "source": [
    "#Relacion entre edad y peso\n",
    "x=df['Age']\n",
    "y=df['Weight']\n",
    "\n",
    "fig, ax = plt.subplots()\n",
    "ax.plot(x,y,linewidth =0,marker ='o')\n",
    "ax.set_xlabel('Age')\n",
    "ax.set_ylabel('Weight')\n",
    "plt.show()"
   ]
  },
  {
   "cell_type": "markdown",
   "id": "510e2711",
   "metadata": {},
   "source": [
    "### Ejemplo \n",
    "\n",
    "El pasado mes de agosto, una firma especializada en servicios de entrenamiento personal seleccionó a 50 instructores de fitness de la ciudad con el objetivo de ampliar su base de clientes. La cantidad de sesiones de entrenamiento que cada uno de estos 50 instructores llevó a cabo fue la siguiente:\n",
    "\n",
    "83 51 66 61 82 65 54 56 92 60 \n",
    "65 87 68 64 51 70 75 66 74 68 \n",
    "44 55 78 69 98 67 82 77 79 62 \n",
    "38 88 76 99 84 47 60 42 66 74 \n",
    "91 71 83 80 68 65 51 56 73 55\n",
    "\n",
    "Generar un histograma para analizar la distribución de las sesiones de entrenamiento realizadas por estos instructores. ¿Qué conclusiones obtiene de la información que se presenta en el gráfico?\n",
    " \n",
    "#### Solución: "
   ]
  },
  {
   "cell_type": "code",
   "execution_count": 5,
   "id": "2df1b596",
   "metadata": {},
   "outputs": [
    {
     "data": {
      "image/png": "[encoded data removed]",
      "text/plain": [
       "<Figure size 432x288 with 1 Axes>"
      ]
     },
     "metadata": {
      "needs_background": "light"
     },
     "output_type": "display_data"
    }
   ],
   "source": [
    "import matplotlib.pyplot as plt\n",
    "\n",
    "# Datos de sesiones de entrenamiento\n",
    "sesiones_entrenamiento = [83, 51, 66, 61, 82, 65, 54, 56, 92, 60, \n",
    "                          65, 87, 68, 64, 51, 70, 75, 66, 74, 68, \n",
    "                          44, 55, 78, 69, 98, 67, 72, 77, 79, 62, \n",
    "                          38, 88, 76, 99, 84, 47, 60, 42, 66, 74, \n",
    "                          91, 71, 83, 80, 68, 65, 51, 56, 73, 55]\n",
    "\n",
    "# Crear el histograma\n",
    "plt.hist(sesiones_entrenamiento, bins=10, color='skyblue', edgecolor='black')\n",
    "\n",
    "# Personalizar el gráfico (opcional)\n",
    "plt.title('Histograma de Sesiones de Entrenamiento')\n",
    "plt.xlabel('Sesiones de Entrenamiento')\n",
    "plt.ylabel('Frecuencia')\n",
    "plt.grid(axis='y', linestyle='--', alpha=0.7)\n",
    "\n",
    "# Mostrar el gráfico\n",
    "plt.show()\n"
   ]
  },
  {
   "cell_type": "markdown",
   "id": "209340d5",
   "metadata": {},
   "source": [
    "## Diagrama de Puntos\n",
    "\n",
    "Un diagrama de puntos (dot plot) es útil para representar datos de manera que cada observación se mantiene distinta y visible. Se utiliza una recta numérica horizontal para ubicar los puntos que representan las observaciones individuales, apilando los puntos de observaciones idénticas o cercanas para preservar su identidad y permitir la visualización de la forma de la distribución, así como los valores extremos y acumulativos de los datos. Este tipo de diagrama es especialmente beneficioso para conjuntos de datos pequeños."
   ]
  },
  {
   "cell_type": "markdown",
   "id": "2966da4b",
   "metadata": {},
   "source": [
    "### Ejemplo: \n",
    "(Tomado de https://proclusacademy.com/blog/practical/dot-plot-python-matplotlib/)\n",
    "\n",
    "Suppose the below list contains the heights (in inches) of 50 high school basketball players:\n",
    "\n",
    "How frequently does each height measurement occur? We can find the answer by drawing the dot plot."
   ]
  },
  {
   "cell_type": "code",
   "execution_count": 2,
   "id": "1e264f2f",
   "metadata": {},
   "outputs": [],
   "source": [
    "hs_heights = np.array([\n",
    "    71, 67, 64, 72, 65, 69, 66, 68, 69, 72, \n",
    "    69, 73, 69, 72, 73, 74, 76, 68, 66, 63, \n",
    "    67, 71, 72, 74, 68, 69, 75, 71, 72, 72, \n",
    "    65, 66, 72, 74, 66, 62, 75, 75, 64, 63, \n",
    "    64, 66, 74, 67, 72, 70, 71, 70, 74, 68\n",
    "])"
   ]
  },
  {
   "cell_type": "code",
   "execution_count": 35,
   "id": "48792046",
   "metadata": {},
   "outputs": [],
   "source": [
    "# Codigo Tomado de https://proclusacademy.com/blog/practical/dot-plot-python-matplotlib/\n",
    "\n",
    "\n",
    "# standard numpy and matplotlib library imports\n",
    "import numpy as np\n",
    "import matplotlib.pyplot as plt\n",
    " \n",
    "def dotplot(input_x, **args):\n",
    " \n",
    "    # Count how many times does each value occur\n",
    "    unique_values, counts = np.unique(input_x, return_counts=True)\n",
    "    \n",
    "    # Convert 1D input into 2D array\n",
    "    scatter_x = [] # x values \n",
    "    scatter_y = [] # corresponding y values\n",
    "    for idx, value in enumerate(unique_values):\n",
    "        for counter in range(1, counts[idx]+1):\n",
    "            scatter_x.append(value)\n",
    "            scatter_y.append(counter)\n",
    " \n",
    "    # draw dot plot using scatter() \n",
    "    plt.scatter(scatter_x, scatter_y, **args)\n",
    "    \n",
    "    # Optional - show all unique values on x-axis. \n",
    "    # Matplotlib might hide some of them  \n",
    "    plt.gca().set_xticks(unique_values)\n"
   ]
  },
  {
   "cell_type": "code",
   "execution_count": 5,
   "id": "e2a68709",
   "metadata": {
    "scrolled": true
   },
   "outputs": [
    {
     "data": {
      "image/png": "[encoded data removed]",
      "text/plain": [
       "<Figure size 640x480 with 1 Axes>"
      ]
     },
     "metadata": {},
     "output_type": "display_data"
    }
   ],
   "source": [
    "# Draw dot plot using our new function\n",
    "dotplot(input_x=hs_heights)"
   ]
  },
  {
   "cell_type": "markdown",
   "id": "2bbb9ea8",
   "metadata": {},
   "source": [
    "### Diagrama de tallos y hojas.\n",
    "\n",
    "El diagrama de tallo y hojas es una técnica estadística utilizada para visualizar la distribución de un conjunto de datos numéricos. En este diagrama, cada número se divide en dos componentes: el dígito principal forma el \"tallo\" y los dígitos restantes se convierten en las \"hojas\". El tallo se organiza de manera vertical a lo largo del eje y los valores de las hojas se alinean horizontalmente a lo largo del eje, permitiendo una comparación visual de la frecuencia de los valores en los datos.\n",
    "\n",
    "En python la libreria `stemgraphic` permite realizar diagrama de tallos y hojasb"
   ]
  },
  {
   "cell_type": "code",
   "execution_count": null,
   "id": "dec1f6a3",
   "metadata": {},
   "outputs": [],
   "source": [
    "#Para instalar el paquete stemgraphic utilizando pip, \n",
    "#import sys\n",
    "#!{sys.executable} -m pip install stemgraphic"
   ]
  },
  {
   "cell_type": "markdown",
   "id": "e00dcafc",
   "metadata": {},
   "source": [
    "### Ejemplo:\n",
    "\n",
    "Realice un diagrama de tallas y hojas para los siguientes datos: \n",
    "\n",
    "\n",
    "    96, 93, 88, 117, 127, 95, 113, 96, 108, 94, 148, 156, 139, 142, 94, \n",
    "107, 125, 155, 155, 103, 112, 127, 117, 120, 112, 135, 132, 111, 125, 104, 106, \n",
    "139, 134, 119, 97, 89, 118, 136, 125, 143, 120, 103, 113, 124, 138\n",
    "    "
   ]
  },
  {
   "cell_type": "code",
   "execution_count": 39,
   "id": "1abbcf3a",
   "metadata": {},
   "outputs": [
    {
     "data": {
      "text/plain": [
       "(<Figure size 540x198 with 1 Axes>, <Axes:>)"
      ]
     },
     "execution_count": 39,
     "metadata": {},
     "output_type": "execute_result"
    },
    {
     "data": {
      "image/png": "[encoded data removed]",
      "text/plain": [
       "<Figure size 540x198 with 1 Axes>"
      ]
     },
     "metadata": {
      "needs_background": "light"
     },
     "output_type": "display_data"
    }
   ],
   "source": [
    "#Solución:\n",
    "\n",
    "datos = [96, 93, 88, 117, 127, 95, 113, 96, 108, 94, 148, 156, 139, 142, 94, \n",
    "107, 125, 155, 155, 103, 112, 127, 117, 120, 112, 135, 132, 111, 125, 104, 106, \n",
    "139, 134, 119, 97, 89, 118, 136, 125, 143, 120, 103, 113, 124, 138]\n",
    "\n",
    "stemgraphic.stem_graphic(datos, scale = 10)\n",
    "\n"
   ]
  },
  {
   "cell_type": "markdown",
   "id": "a4c7c500",
   "metadata": {},
   "source": [
    "### Ejemplo:\n",
    "\n",
    "Realice un diagrama de tallas y hojas para los siguientes datos: "
   ]
  },
  {
   "cell_type": "code",
   "execution_count": 41,
   "id": "2da6ae16",
   "metadata": {},
   "outputs": [
    {
     "data": {
      "text/plain": [
       "(<Figure size 540x144 with 1 Axes>, <Axes:>)"
      ]
     },
     "execution_count": 41,
     "metadata": {},
     "output_type": "execute_result"
    },
    {
     "data": {
      "image/png": "[encoded data removed]",
      "text/plain": [
       "<Figure size 540x144 with 1 Axes>"
      ]
     },
     "metadata": {
      "needs_background": "light"
     },
     "output_type": "display_data"
    }
   ],
   "source": [
    "# importing the module\n",
    "  \n",
    "data = [16, 25, 47, 56, 23, 45, 19, 55, 44, 27]\n",
    "  \n",
    "# calling stem_graphic with required parameters,\n",
    "# data and scale\n",
    "stemgraphic.stem_graphic(data, scale = 10)"
   ]
  },
  {
   "cell_type": "markdown",
   "id": "ece4a82f",
   "metadata": {},
   "source": [
    "###  Ejemplo: \n",
    "\n",
    "Supongamos que tenemos una muestra sobre el ritmo cardíaco de 24 hombres,\n",
    "las observaciones son las siguientes:\n",
    "\n",
    "ritmo = [88, 80, 76, 72, 68, 56, 64, 60, 64, 68, 64, 68, \n",
    "         72, 76, 80, 84, 68, 80, 76, 72, 84, 80, 72, 76 ]\n",
    "         \n",
    "- Graficar el histograma de estas observaciones ( tomar bins = 8)\n",
    "- Realizar un diagrama de tallos y hojas\n",
    "- Realizar un diagrama de puntos"
   ]
  },
  {
   "cell_type": "code",
   "execution_count": 42,
   "id": "31cb933b",
   "metadata": {},
   "outputs": [
    {
     "data": {
      "image/png": "[encoded data removed]",
      "text/plain": [
       "<Figure size 432x288 with 1 Axes>"
      ]
     },
     "metadata": {
      "needs_background": "light"
     },
     "output_type": "display_data"
    }
   ],
   "source": [
    "#Histograma\n",
    "ritmo = [88, 80, 76, 72, 68, 56, 64, 60, 64, 68, 64, 68, \n",
    "         72, 76, 80, 84, 68, 80, 76, 72, 84, 80, 72, 76 ]\n",
    "\n",
    "plt.hist(ritmo, bins=8, edgecolor='black')\n",
    "plt.xlabel(\"latidos por minuto\")\n",
    "plt.ylabel(\"N° de hombres\")\n",
    "plt.show()"
   ]
  },
  {
   "cell_type": "code",
   "execution_count": 43,
   "id": "15d86a95",
   "metadata": {},
   "outputs": [
    {
     "data": {
      "text/plain": [
       "(<Figure size 540x126 with 1 Axes>, <Axes:>)"
      ]
     },
     "execution_count": 43,
     "metadata": {},
     "output_type": "execute_result"
    },
    {
     "data": {
      "image/png": "[encoded data removed]",
      "text/plain": [
       "<Figure size 540x126 with 1 Axes>"
      ]
     },
     "metadata": {
      "needs_background": "light"
     },
     "output_type": "display_data"
    }
   ],
   "source": [
    "#diagrama de tallos y hojas\n",
    "\n",
    "stemgraphic.stem_graphic(ritmo, scale = 10)"
   ]
  },
  {
   "cell_type": "code",
   "execution_count": 44,
   "id": "d94e4e2e",
   "metadata": {},
   "outputs": [
    {
     "data": {
      "image/png": "[encoded data removed]",
      "text/plain": [
       "<Figure size 432x288 with 1 Axes>"
      ]
     },
     "metadata": {
      "needs_background": "light"
     },
     "output_type": "display_data"
    }
   ],
   "source": [
    "#Diagrama de puntos\n",
    "\n",
    "def dotplot(input_x, **args):\n",
    " \n",
    "    # Count how many times does each value occur\n",
    "    unique_values, counts = np.unique(input_x, return_counts=True)\n",
    "    \n",
    "    # Convert 1D input into 2D array\n",
    "    scatter_x = [] # x values \n",
    "    scatter_y = [] # corresponding y values\n",
    "    for idx, value in enumerate(unique_values):\n",
    "        for counter in range(1, counts[idx]+1):\n",
    "            scatter_x.append(value)\n",
    "            scatter_y.append(counter)\n",
    " \n",
    "    # draw dot plot using scatter() \n",
    "    plt.scatter(scatter_x, scatter_y, **args)\n",
    "    \n",
    "    # Optional - show all unique values on x-axis. \n",
    "    # Matplotlib might hide some of them  \n",
    "    plt.gca().set_xticks(unique_values)\n",
    "\n",
    "\n",
    "\n",
    "\n",
    "dotplot(input_x=ritmo)"
   ]
  }
 ],
 "metadata": {
  "kernelspec": {
   "display_name": "Python 3 (ipykernel)",
   "language": "python",
   "name": "python3"
  },
  "language_info": {
   "codemirror_mode": {
    "name": "ipython",
    "version": 3
   },
   "file_extension": ".py",
   "mimetype": "text/x-python",
   "name": "python",
   "nbconvert_exporter": "python",
   "pygments_lexer": "ipython3",
   "version": "3.9.12"
  }
 },
 "nbformat": 4,
 "nbformat_minor": 5
}
