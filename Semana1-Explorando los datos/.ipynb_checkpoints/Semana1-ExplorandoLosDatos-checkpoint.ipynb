{
 "cells": [
  {
   "cell_type": "markdown",
   "id": "1e3d355a",
   "metadata": {},
   "source": [
    "<img src=\"jalalogo.png\">\n",
    "\n",
    "# Semana 1: Explorando los datos\n",
    "\n",
    "## Tipos de datos:\n",
    "\n",
    "\n",
    "\n",
    "Numérico (Cuantitativo)\n",
    "- Continuo (Rango)\n",
    "  - Velocidad del un tren\n",
    "  - Estatura de una persona\n",
    "  - Tiempo en cargar una página\n",
    "\n",
    "- Discreto (Conteo)\n",
    "  - Número de visitantes en un centro comercial\n",
    "  - Número de personas trabajando en una empresa\n",
    "\n",
    "Categórico (Cualitativo)\n",
    "- Nominal (No ordenado)\n",
    "  - Casado/soltero\n",
    "  - País de residencia\n",
    "\n",
    "- Ordinal (Ordenado)\n",
    "  -Primero, segundo, tercero.  \n",
    "\n",
    "\n",
    "\n",
    "\n",
    "## Medidas de centro: \n",
    "\n",
    "### Media: \n",
    " \n",
    "Tambien conocido como promedio. La media es la suma de todos los puntos de datos dividida por el número total de puntos de datos.\n",
    "\n",
    "### Mediana:\n",
    "La mediana es el valor medio del conjunto de datos donde el 50% de los datos es mayor que la mediana y el 50% de los datos es menor que la mediana. Es un punto que está en mitad de la\n",
    "muestra, y no tiene por qué coincidir con la media.\n",
    "\n",
    "### Moda: \n",
    "El dato que más se repite."
   ]
  },
  {
   "cell_type": "markdown",
   "id": "8a1c030d",
   "metadata": {},
   "source": [
    "### Ejemplo: \n",
    "\n",
    "Considere la base de datos tomado de Kaggle:(Students Performance in Exams) sobre la cual se realizarán diferentes cálculos a traves del resto del Notebook.\n",
    "\n",
    "https://www.kaggle.com/datasets/spscientist/students-performance-in-exams\n"
   ]
  },
  {
   "cell_type": "code",
   "execution_count": 1,
   "id": "354ed394",
   "metadata": {},
   "outputs": [
    {
     "data": {
      "text/html": [
       "<div>\n",
       "<style scoped>\n",
       "    .dataframe tbody tr th:only-of-type {\n",
       "        vertical-align: middle;\n",
       "    }\n",
       "\n",
       "    .dataframe tbody tr th {\n",
       "        vertical-align: top;\n",
       "    }\n",
       "\n",
       "    .dataframe thead th {\n",
       "        text-align: right;\n",
       "    }\n",
       "</style>\n",
       "<table border=\"1\" class=\"dataframe\">\n",
       "  <thead>\n",
       "    <tr style=\"text-align: right;\">\n",
       "      <th></th>\n",
       "      <th>gender</th>\n",
       "      <th>race/ethnicity</th>\n",
       "      <th>parental level of education</th>\n",
       "      <th>lunch</th>\n",
       "      <th>test preparation course</th>\n",
       "      <th>math score</th>\n",
       "      <th>reading score</th>\n",
       "      <th>writing score</th>\n",
       "    </tr>\n",
       "  </thead>\n",
       "  <tbody>\n",
       "    <tr>\n",
       "      <th>0</th>\n",
       "      <td>female</td>\n",
       "      <td>group B</td>\n",
       "      <td>bachelor's degree</td>\n",
       "      <td>standard</td>\n",
       "      <td>none</td>\n",
       "      <td>72</td>\n",
       "      <td>72</td>\n",
       "      <td>74</td>\n",
       "    </tr>\n",
       "    <tr>\n",
       "      <th>1</th>\n",
       "      <td>female</td>\n",
       "      <td>group C</td>\n",
       "      <td>some college</td>\n",
       "      <td>standard</td>\n",
       "      <td>completed</td>\n",
       "      <td>69</td>\n",
       "      <td>90</td>\n",
       "      <td>88</td>\n",
       "    </tr>\n",
       "    <tr>\n",
       "      <th>2</th>\n",
       "      <td>female</td>\n",
       "      <td>group B</td>\n",
       "      <td>master's degree</td>\n",
       "      <td>standard</td>\n",
       "      <td>none</td>\n",
       "      <td>90</td>\n",
       "      <td>95</td>\n",
       "      <td>93</td>\n",
       "    </tr>\n",
       "    <tr>\n",
       "      <th>3</th>\n",
       "      <td>male</td>\n",
       "      <td>group A</td>\n",
       "      <td>associate's degree</td>\n",
       "      <td>free/reduced</td>\n",
       "      <td>none</td>\n",
       "      <td>47</td>\n",
       "      <td>57</td>\n",
       "      <td>44</td>\n",
       "    </tr>\n",
       "    <tr>\n",
       "      <th>4</th>\n",
       "      <td>male</td>\n",
       "      <td>group C</td>\n",
       "      <td>some college</td>\n",
       "      <td>standard</td>\n",
       "      <td>none</td>\n",
       "      <td>76</td>\n",
       "      <td>78</td>\n",
       "      <td>75</td>\n",
       "    </tr>\n",
       "  </tbody>\n",
       "</table>\n",
       "</div>"
      ],
      "text/plain": [
       "   gender race/ethnicity parental level of education         lunch  \\\n",
       "0  female        group B           bachelor's degree      standard   \n",
       "1  female        group C                some college      standard   \n",
       "2  female        group B             master's degree      standard   \n",
       "3    male        group A          associate's degree  free/reduced   \n",
       "4    male        group C                some college      standard   \n",
       "\n",
       "  test preparation course  math score  reading score  writing score  \n",
       "0                    none          72             72             74  \n",
       "1               completed          69             90             88  \n",
       "2                    none          90             95             93  \n",
       "3                    none          47             57             44  \n",
       "4                    none          76             78             75  "
      ]
     },
     "execution_count": 1,
     "metadata": {},
     "output_type": "execute_result"
    }
   ],
   "source": [
    "#Ejemplo 1: \n",
    "#importar librerias\n",
    "import pandas as pd\n",
    "import numpy as np\n",
    "import statistics\n",
    "import matplotlib.pyplot as plt\n",
    "\n",
    "#Cargamos la base de datos previamente descargada en la carpeta de trabajo.\n",
    "data = pd.read_csv(\"StudentsPerformance.csv\")\n",
    "data.head()"
   ]
  },
  {
   "cell_type": "code",
   "execution_count": 2,
   "id": "87cbc655",
   "metadata": {},
   "outputs": [
    {
     "name": "stdout",
     "output_type": "stream",
     "text": [
      "El promedio de matemáticas es 66.089 y el de lectura es 69.169\n"
     ]
    }
   ],
   "source": [
    "#Calcular el promedio de la variable math score and reading score. Comparar estos dos promedios.\n",
    "\n",
    "promedio_matematicas = np.mean(data['math score'])\n",
    "promedio_lectura = np.mean(data['reading score'])\n",
    "\n",
    "print(f'El promedio de matemáticas es {promedio_matematicas} y el de lectura es {promedio_lectura}')"
   ]
  },
  {
   "cell_type": "code",
   "execution_count": 3,
   "id": "17708309",
   "metadata": {},
   "outputs": [],
   "source": [
    "#Notamos como el rendimiento de los estudiantes es mejor en lectura que en matemáticas"
   ]
  },
  {
   "cell_type": "code",
   "execution_count": 4,
   "id": "4ddc8358",
   "metadata": {
    "scrolled": true
   },
   "outputs": [
    {
     "name": "stdout",
     "output_type": "stream",
     "text": [
      "El promedio de matemáticas es 66.089 y su mediana es 66.0\n"
     ]
    }
   ],
   "source": [
    "#Calculemos la mediana de math_score y comparemos con la media o promedio.\n",
    "mediana_matematicas = np.median(data['math score'])\n",
    "\n",
    "print(f'El promedio de matemáticas es {promedio_matematicas} y su mediana es {mediana_matematicas}')\n"
   ]
  },
  {
   "cell_type": "code",
   "execution_count": 5,
   "id": "259f6449",
   "metadata": {
    "scrolled": true
   },
   "outputs": [
    {
     "data": {
      "image/png": "[encoded data removed]",
      "text/plain": [
       "<Figure size 720x360 with 1 Axes>"
      ]
     },
     "metadata": {
      "needs_background": "light"
     },
     "output_type": "display_data"
    }
   ],
   "source": [
    "#Notamos como el valor central(mediana) y su promedio no difieren. \n",
    "# Podemos realizar un diagrama de barras para corroborar que no hay un cesgo en los datos.\n",
    "\n",
    " \n",
    "\n",
    "# Creamos el histograma\n",
    "plt.figure(figsize=(10, 5))  \n",
    "\n",
    "\n",
    "data['math score'].plot.hist(bins=20, edgecolor='black')\n",
    "\n",
    "#Visualizamos la media:\n",
    "plt.axvline(promedio_matematicas, color='red', linestyle='dashed', linewidth=1,label=f'Media: {promedio_matematicas}')\n",
    "plt.axvline(promedio_matematicas, color='yellow', linestyle='dashed', linewidth=1,label=f'Mediana: {mediana_matematicas}')\n",
    "\n",
    "\n",
    "plt.legend()\n",
    "plt.title('Distribución de las puntuaciones de matemáticas')\n",
    "plt.xlabel('Puntuación de matemáticas')\n",
    "plt.ylabel('Frecuencia')\n",
    "plt.show()\n",
    "\n"
   ]
  },
  {
   "cell_type": "code",
   "execution_count": 6,
   "id": "82c39c92",
   "metadata": {},
   "outputs": [
    {
     "data": {
      "text/plain": [
       "'\\nLos datos son simétricos alrededor de la media o mediana, no se observa un sesgo en la variable math score.\\n\\nVale la pena anotar que la distribución de la puntuaciones matemáticas siguen \\nuna distribución normal(forma de campana) que se estudiará en la semana 6 \\n'"
      ]
     },
     "execution_count": 6,
     "metadata": {},
     "output_type": "execute_result"
    }
   ],
   "source": [
    "'''\n",
    "Los datos son simétricos alrededor de la media o mediana, no se observa un sesgo en la variable math score.\n",
    "\n",
    "Vale la pena anotar que la distribución de la puntuaciones matemáticas siguen \n",
    "una distribución normal(forma de campana) que se estudiará en la semana 6 \n",
    "'''"
   ]
  },
  {
   "cell_type": "markdown",
   "id": "b7c0b463",
   "metadata": {},
   "source": [
    "También podemos recurrir al método   `.describe()` \n",
    "\n",
    "\n",
    "Este método proporciona un resumen estadístico de las columnas de un DataFrame,\n",
    "incluyendo medidas como el conteo de filas, la media, la desviación estándar, \n",
    "los valores mínimo y máximo, y los percentiles."
   ]
  },
  {
   "cell_type": "code",
   "execution_count": 7,
   "id": "c44aeee9",
   "metadata": {},
   "outputs": [
    {
     "data": {
      "text/html": [
       "<div>\n",
       "<style scoped>\n",
       "    .dataframe tbody tr th:only-of-type {\n",
       "        vertical-align: middle;\n",
       "    }\n",
       "\n",
       "    .dataframe tbody tr th {\n",
       "        vertical-align: top;\n",
       "    }\n",
       "\n",
       "    .dataframe thead th {\n",
       "        text-align: right;\n",
       "    }\n",
       "</style>\n",
       "<table border=\"1\" class=\"dataframe\">\n",
       "  <thead>\n",
       "    <tr style=\"text-align: right;\">\n",
       "      <th></th>\n",
       "      <th>math score</th>\n",
       "      <th>reading score</th>\n",
       "      <th>writing score</th>\n",
       "    </tr>\n",
       "  </thead>\n",
       "  <tbody>\n",
       "    <tr>\n",
       "      <th>count</th>\n",
       "      <td>1000.00000</td>\n",
       "      <td>1000.000000</td>\n",
       "      <td>1000.000000</td>\n",
       "    </tr>\n",
       "    <tr>\n",
       "      <th>mean</th>\n",
       "      <td>66.08900</td>\n",
       "      <td>69.169000</td>\n",
       "      <td>68.054000</td>\n",
       "    </tr>\n",
       "    <tr>\n",
       "      <th>std</th>\n",
       "      <td>15.16308</td>\n",
       "      <td>14.600192</td>\n",
       "      <td>15.195657</td>\n",
       "    </tr>\n",
       "    <tr>\n",
       "      <th>min</th>\n",
       "      <td>0.00000</td>\n",
       "      <td>17.000000</td>\n",
       "      <td>10.000000</td>\n",
       "    </tr>\n",
       "    <tr>\n",
       "      <th>25%</th>\n",
       "      <td>57.00000</td>\n",
       "      <td>59.000000</td>\n",
       "      <td>57.750000</td>\n",
       "    </tr>\n",
       "    <tr>\n",
       "      <th>50%</th>\n",
       "      <td>66.00000</td>\n",
       "      <td>70.000000</td>\n",
       "      <td>69.000000</td>\n",
       "    </tr>\n",
       "    <tr>\n",
       "      <th>75%</th>\n",
       "      <td>77.00000</td>\n",
       "      <td>79.000000</td>\n",
       "      <td>79.000000</td>\n",
       "    </tr>\n",
       "    <tr>\n",
       "      <th>max</th>\n",
       "      <td>100.00000</td>\n",
       "      <td>100.000000</td>\n",
       "      <td>100.000000</td>\n",
       "    </tr>\n",
       "  </tbody>\n",
       "</table>\n",
       "</div>"
      ],
      "text/plain": [
       "       math score  reading score  writing score\n",
       "count  1000.00000    1000.000000    1000.000000\n",
       "mean     66.08900      69.169000      68.054000\n",
       "std      15.16308      14.600192      15.195657\n",
       "min       0.00000      17.000000      10.000000\n",
       "25%      57.00000      59.000000      57.750000\n",
       "50%      66.00000      70.000000      69.000000\n",
       "75%      77.00000      79.000000      79.000000\n",
       "max     100.00000     100.000000     100.000000"
      ]
     },
     "execution_count": 7,
     "metadata": {},
     "output_type": "execute_result"
    }
   ],
   "source": [
    "data.describe()"
   ]
  },
  {
   "cell_type": "code",
   "execution_count": 8,
   "id": "96b63b21",
   "metadata": {},
   "outputs": [
    {
     "data": {
      "text/plain": [
       "'some college'"
      ]
     },
     "execution_count": 8,
     "metadata": {},
     "output_type": "execute_result"
    }
   ],
   "source": [
    "# A continuación calculemos la moda de la variable 'parental level of education' \n",
    "'''En Python, puedes usar `statistics.mode()` para calcular \n",
    "la moda de una lista o de una secuencia de datos numéricos o no numéricos.'''\n",
    "\n",
    "statistics.mode(data['parental level of education'])"
   ]
  },
  {
   "cell_type": "code",
   "execution_count": 9,
   "id": "9457e0af",
   "metadata": {},
   "outputs": [
    {
     "data": {
      "text/plain": [
       "some college          226\n",
       "associate's degree    222\n",
       "high school           196\n",
       "some high school      179\n",
       "bachelor's degree     118\n",
       "master's degree        59\n",
       "Name: parental level of education, dtype: int64"
      ]
     },
     "execution_count": 9,
     "metadata": {},
     "output_type": "execute_result"
    }
   ],
   "source": [
    "# también se puede recurrir al método .value_counts():\n",
    "data['parental level of education'].value_counts()"
   ]
  },
  {
   "cell_type": "code",
   "execution_count": 10,
   "id": "5c9695cc",
   "metadata": {},
   "outputs": [],
   "source": [
    "#Notamos como el valor que más se repite es 'some college con 226 registros'"
   ]
  },
  {
   "cell_type": "markdown",
   "id": "207ad71d",
   "metadata": {},
   "source": [
    "# Medidas de Dispersión\n",
    "\n",
    "### Rango:\n",
    "El Rango es la diferencia entre el valor máximo y el valor mínimo, cuanto mayor es el rango, más dispersos están los datos.\n",
    "\n",
    "### Desviación estándar: \n",
    "\n",
    "La desviación estándar es una medida de dispersión que indica cuánto se alejan los datos individuales de la media. \n"
   ]
  },
  {
   "cell_type": "code",
   "execution_count": 11,
   "id": "6a8877e0",
   "metadata": {},
   "outputs": [
    {
     "name": "stdout",
     "output_type": "stream",
     "text": [
      "83\n"
     ]
    }
   ],
   "source": [
    "#Calculemos el rango de la variable reading score\n",
    "Rango = data['reading score'].max()-data['reading score'].min()\n",
    "print(Rango)"
   ]
  },
  {
   "cell_type": "code",
   "execution_count": 12,
   "id": "0a483473",
   "metadata": {},
   "outputs": [],
   "source": [
    "# El rango es 83, lo cual coincide con lo que muestra la tabla obtenida anteiormente con el método .describe()"
   ]
  },
  {
   "cell_type": "markdown",
   "id": "278a0224",
   "metadata": {},
   "source": [
    "### Cuartiles y otros Percentiles\n",
    "\n",
    "La desviación estándar es la medida de dispersión más comúnmente empleada; sin embargo, existen otras maneras de caracterizar la variabilidad o dispersión en un conjunto de datos. Una de estas metodologías implica identificar los valores que dividen un conjunto de observaciones en porciones iguales, utilizando medidas como cuartiles, deciles y percentiles.\n",
    " \n",
    "Los cuantiles son una herramienta para resumir datos numéricos porque permiten analizar el centro y la dispersión de un conjunto de datos. También proporcionan una perspectiva clara sobre la posición relativa de un punto de datos dentro del conjunto total. Por ejemplo, podrías querer ofrecer un descuento al 10% de los usuarios más activos de un sitio web.\n",
    "\n"
   ]
  },
  {
   "cell_type": "code",
   "execution_count": 13,
   "id": "def975c7",
   "metadata": {},
   "outputs": [
    {
     "name": "stdout",
     "output_type": "stream",
     "text": [
      "[  0.  57.  66.  77. 100.]\n"
     ]
    }
   ],
   "source": [
    "# Calcula los cuartiles de math score\n",
    "print(np.quantile(data['math score'],[0, 0.25, 0.5, 0.75, 1]))"
   ]
  },
  {
   "cell_type": "markdown",
   "id": "dee487b9",
   "metadata": {},
   "source": [
    "### Interpretación: \n",
    "Los cuartiles que se obtienen [0, 57, 66, 77, 100] representan puntos de división que organizan los resultados de la prueba de matemáticas en intervalos que contienen aproximadamente la misma cantidad de datos. \n",
    "\n",
    "1. **Mínimo (0% cuartil):** El valor mínimo en los resultados de la prueba es 0. Esto indica que el puntaje más bajo obtenido fue 0.\n",
    "\n",
    "2. **Primer cuartil (Q1, 25% cuartil):** El 25% de los estudiantes obtuvo un puntaje de 57 o menos en la prueba. Esto significa que el primer cuartil está en 57, lo cual es el límite donde el 25% de los puntajes están por debajo.\n",
    "\n",
    "3. **Mediana (Q2, 50% cuartil):** La mediana, o segundo cuartil, es 66. Esto indica que el 50% de los estudiantes obtuvo un puntaje de 66 o menos. La mediana divide el conjunto de datos en dos partes iguales.\n",
    "\n",
    "4. **Tercer cuartil (Q3, 75% cuartil):** El 75% de los estudiantes obtuvo un puntaje de 77 o menos. El tercer cuartil a 77 muestra que tres cuartos de los puntajes están por debajo de este valor.\n",
    "\n",
    "5. **Máximo (100% cuartil):** El valor máximo en los resultados de la prueba es 100. Esto indica que el puntaje más alto obtenido fue 100.\n"
   ]
  },
  {
   "cell_type": "code",
   "execution_count": 14,
   "id": "e655c848",
   "metadata": {},
   "outputs": [
    {
     "data": {
      "image/png": "[encoded data removed]",
      "text/plain": [
       "<Figure size 720x288 with 1 Axes>"
      ]
     },
     "metadata": {
      "needs_background": "light"
     },
     "output_type": "display_data"
    }
   ],
   "source": [
    "#El diagrama de cajas permite visualizar mejor estos resultados:\n",
    "# Crear el diagrama de cajas\n",
    "plt.figure(figsize=(10, 4))  # Ajusta el tamaño del gráfico según necesites\n",
    "plt.boxplot(data['math score'],vert=False)\n",
    "plt.title('Diagrama de Cajas para la Puntuación de Matemáticas')\n",
    "plt.ylabel('Puntuación de Matemáticas')\n",
    "plt.show()"
   ]
  },
  {
   "cell_type": "markdown",
   "id": "7548c088",
   "metadata": {},
   "source": [
    "### Observación: \n",
    "\n",
    "Los **valores atípicos** pueden influir significativamente en estadísticas como la media, la varianza y la desviación estándar. \n",
    "\n",
    "Por otro lado, el rango intercuartil, conocido como IQR por sus siglas en inglés, ofrece una alternativa para medir la dispersión que es menos susceptible a los efectos de los valores atípicos. Esta medida también se emplea comúnmente para identificar dichos valores. En términos prácticos, un valor se considera atípico si se encuentra por debajo de `Q1 - 1.5 * IQR` o por encima de `Q3 + 1.5 * IQR`, donde Q1 y Q3 representan el primer y tercer cuartil, respectivamente. Este criterio se utiliza para determinar la longitud de los bigotes en un diagrama de caja (‘box plot’) en matplotlib.\n",
    "\n",
    "<img src=\"BoxPlot-Interpretacion.png\">\n"
   ]
  },
  {
   "cell_type": "code",
   "execution_count": null,
   "id": "7efe6d0b",
   "metadata": {},
   "outputs": [],
   "source": []
  }
 ],
 "metadata": {
  "kernelspec": {
   "display_name": "Python 3 (ipykernel)",
   "language": "python",
   "name": "python3"
  },
  "language_info": {
   "codemirror_mode": {
    "name": "ipython",
    "version": 3
   },
   "file_extension": ".py",
   "mimetype": "text/x-python",
   "name": "python",
   "nbconvert_exporter": "python",
   "pygments_lexer": "ipython3",
   "version": "3.9.12"
  }
 },
 "nbformat": 4,
 "nbformat_minor": 5
}
