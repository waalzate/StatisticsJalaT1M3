{
 "cells": [
  {
   "cell_type": "markdown",
   "id": "c511747b",
   "metadata": {},
   "source": [
    "<img src=\"jalalogo.png\">\n",
    "\n",
    "# Semana 7: Inferencia Estadística\n",
    "\n",
    "## Intervalo de Confianza\n",
    "\n",
    "El intervalo de confianza es un concepto fundamental en la estadística inferencial, utilizado para estimar la incertidumbre en torno a una medida de interés calculada a partir de una muestra de datos. Ofrece un rango de valores dentro del cual podemos afirmar, con cierto nivel de confianza, que se encuentra el verdadero parámetro poblacional.\n",
    "\n",
    "Cuando realizamos una investigación o un experimento, generalmente tratamos con una muestra de la población, y no con la población entera. Por ejemplo, si queremos saber la altura media de los estudiantes en una escuela, es más práctico medir la altura de un grupo aleatorio de estudiantes (muestra) que la de todos los estudiantes (población). A partir de esta muestra, calculamos una estimación puntual, como la media muestral. Sin embargo, esta estimación puntual es solo una aproximación del valor verdadero de la población. Para expresar la precisión de esta estimación, utilizamos el intervalo de confianza.\n",
    "\n",
    "Esto nos da 3 componentes:\n",
    "\n",
    "**Estimación Puntual**: Es el valor calculado a partir de la muestra, como la media o la proporción muestral o desviación estándar.\n",
    "\n",
    "**Margen de Error**: Es el valor que determina la amplitud del intervalo de confianza en torno a la estimación puntual. El margen de error depende de la variabilidad de los datos, del tamaño de la muestra y del nivel de confianza deseado.\n",
    "\n",
    "**Nivel de Confianza**: Es la probabilidad de que el intervalo de confianza contenga el verdadero parámetro poblacional. Comúnmente utilizado en 90%, 95% o 99%, el nivel de confianza representa la frecuencia con que intervalos calculados de la misma forma contendrán el parámetro verdadero si repetimos la muestra varias veces.\n",
    "\n",
    "Decir que tenemos un intervalo de confianza del 95% significa que, si repetimos el proceso de muestreo y construcción del intervalo numerosas veces, aproximadamente el 95% de esos intervalos contendrán la verdadera media. No significa que hay un 95% de probabilidad de que el intervalo específico contenga la media verdadera, sino que el método que usamos para calcular ese intervalo tiene una tasa de éxito del 95%.\n",
    "\n",
    "\n",
    "## Intervalo de confianza para $\\sigma$ conocida\n",
    "\n",
    " \n",
    "$$\\left[\\bar{x}\\ -Z\\ \\frac{\\sigma}{\\sqrt{n}},\\ \\bar{x} + Z\\ \\frac{\\sigma}{\\sqrt{n}}\\right]$$\n",
    "\n",
    "\n",
    "\n",
    "**Determinación del el valor crítico de Z**\n",
    "\n",
    " Se  puedes utilizar la función ppf` del módulo `scipy.stats` en Python. \n",
    " \n",
    "\n",
    "### Valores críticos \\(z\\) para referencia:\n",
    "- **95% de confianza:** $z \\approx 1.96$\n",
    "- **90% de confianza:** $z \\approx 1.645$\n",
    "- **85% de confianza:** $z \\approx 1.44$.\n",
    "\n",
    " \n",
    "### Tamaño de la muestra\n",
    "\n",
    "\n"
   ]
  },
  {
   "cell_type": "code",
   "execution_count": 8,
   "id": "33481a91",
   "metadata": {},
   "outputs": [
    {
     "name": "stdout",
     "output_type": "stream",
     "text": [
      "Nivel de confianza: 0.95  valor de z: 1.96\n",
      "Nivel de confianza: 0.90  valor de z: 1.64\n",
      "Nivel de confianza: 0.85  valor de z: 1.44\n"
     ]
    }
   ],
   "source": [
    "import scipy.stats as stats\n",
    "\n",
    "# Niveles de confianza\n",
    "niveles_confianza = [0.95, 0.90, 0.85]\n",
    "\n",
    "# Función para calcular el valor crítico z\n",
    "def valor_critico_z(confianza):\n",
    "    alfa = 1 - confianza\n",
    "    z = stats.norm.ppf(1 - alfa/2)  # valor crítico z\n",
    "    return z\n",
    "\n",
    "# Cálculo de valores críticos z para cada nivel de confianza\n",
    "valores_criticos_z = {confianza: valor_critico_z(confianza) for confianza in niveles_confianza}\n",
    "\n",
    "# Imprimir los resultados con dos cifras decimales\n",
    "for confianza, z in valores_criticos_z.items():\n",
    "    print(f\"Nivel de confianza: {confianza:.2f}  valor de z: {z:.2f}\")\n",
    "\n"
   ]
  },
  {
   "cell_type": "markdown",
   "id": "e97258b0",
   "metadata": {},
   "source": [
    "### Ejemplo 1:\n",
    "\n",
    "Gracias a sus sólidos conocimientos en estadística, la universidad lo ha recomendado para participar en\n",
    "un proyecto con el DANE (Departamento Administrativo Nacional de Estadística), cuyo objetivo es estimar\n",
    "la altura promedio de las mujeres en Colombia. Con el propósito de llevar a cabo esta tarea, decide aplicar\n",
    "la teoría de los intervalos de confianza. Por ende, realiza una encuesta telefónica aleatoria a 200 mujeres\n",
    "y obtiene como resultado un promedio de 158 cm. Con base en investigaciones previas que indican que la\n",
    "desviación estándar de la estatura de las mujeres es de 6 cm, se plantea el siguiente análisis:\n",
    "\n",
    "1. Calcule un intervalo de confianza para el promedio real de estatura de las mujeres en Colombia con  niveles de confianza del 95%, 90%, y 85%.\n",
    "2. Compare los tres intervalos de confianza. ¿Cuál presenta la longitud más reducida? ¿Qué relación percibe entre el nivel de confianza y la longitud del intervalo? Es decir, ¿cómo afecta el aumento del nivel de confianza a la longitud del intervalo de confianza\n"
   ]
  },
  {
   "cell_type": "markdown",
   "id": "dea32e3e",
   "metadata": {},
   "source": [
    "### Ejemplo 2:\n",
    "\n",
    "\n",
    "Imagina que se selecciona una muestra aleatoria de 50 botellas de una marca específica de cerveza y se mide el contenido de alcohol de cada una. Sea $\\mu$ el contenido promedio de alcohol en toda la población de botellas de esa marca. Supongamos que el intervalo de confianza del 95% obtenido es (7.8, 9.4).\n",
    "\n",
    "1. ¿Un intervalo de confianza de 90% calculado con esta muestra habría resultado más angosto o más ancho que el intervalo dado? Explique su razonamiento.\n",
    "\n",
    "2. Considere la siguiente proposición: existe 95% de probabilidades de que $\\mu$ esté entre 7.8 y 9.4. ¿Es correcta esta proposición? ¿ Por qué sí o por qué no?\n",
    "\n",
    "### Respuestas:\n",
    " \n",
    "1. Mas angosto.\n",
    "\n",
    "2. No es correcta. Una interpretación correcta de un intervalo de confianza de 95% de confianza  se basa en la interpretación de probabilidad de frecuencia relativa a largo plazo:  Si se tomaran muchas muestras de la misma población y se calcularan intervalos de confianza del 95% para cada muestra, aproximadamente el 95% de esos intervalos contendrían el verdadero valor del parámetro $\\mu$ . No significa que hay una probabilidad del 95% de que mm esté en un intervalo específico dado de (7.8, 9.4).\n",
    "\n",
    "\n",
    " "
   ]
  },
  {
   "cell_type": "markdown",
   "id": "492f7379",
   "metadata": {},
   "source": [
    "### Ejemplo 3: ( Tomado de Dévore. Probabilidad y estadistica para ingeniería y ciencias)\n",
    "\n",
    "Se desea un intervalo de confianza para la pérdida por carga parásita promedio verdadera $m$ (watts) de cierto tipo de motor de inducción cuando la corriente a través de la línea se mantiene en 10 amps a una velocidad de 1500 rpm. Suponga que la pérdida por carga parásita está normalmente distribuida con $\\sigma = 3.0$.\n",
    "\n",
    "1. Calcule un intervalo de confianza del 95\\% para $m$ cuando $n = 25$ y $\\bar{x}=58.3$.\n",
    "2. Calcule un intervalo de confianza del 95\\% para $m$ cuando $n = 100$ y $\\bar{x}=58.3$.\n",
    "3. Calcule un intervalo de confianza del 99\\% para $m$ cuando $n = 100$ y $\\bar{x}=58.3$.\n",
    "4. Calcule un intervalo de confianza del 82\\% para $m$ cuando $n = 100$ y $\\bar{x}=58.3$.\n",
    "5. ¿Qué tan grande debe ser $n$ si el ancho del intervalo del 99\\% para $m$ tiene que ser 1.0?\n",
    "\n"
   ]
  },
  {
   "cell_type": "code",
   "execution_count": 9,
   "id": "c41626c0",
   "metadata": {},
   "outputs": [
    {
     "name": "stdout",
     "output_type": "stream",
     "text": [
      "Intervalo de confianza del 95% para n = 25: (57.124021609275964, 59.47597839072403)\n",
      "Intervalo de confianza del 95% para n = 100: (57.712010804637984, 58.88798919536201)\n",
      "Intervalo de confianza del 99% para n = 100: (57.527251208935326, 59.07274879106467)\n",
      "Intervalo de confianza del 82% para n = 100: (57.897773489892934, 58.70222651010706)\n",
      "Tamaño de muestra requerido para un ancho de intervalo de 1.0 con 99% de confianza: 239\n"
     ]
    }
   ],
   "source": [
    "import scipy.stats as stats\n",
    "import math\n",
    "\n",
    "# Datos proporcionados\n",
    "sigma = 3.0\n",
    "\n",
    "# Función para calcular el intervalo de confianza\n",
    "def intervalo_confianza(media_muestral, sigma, n, confianza):\n",
    "    alpha = 1 - confianza\n",
    "    z = stats.norm.ppf(1 - alpha / 2)\n",
    "    margen_error = z * (sigma / math.sqrt(n))\n",
    "    return (media_muestral - margen_error, media_muestral + margen_error)\n",
    "\n",
    "# 1. Intervalo de confianza del 95% para n = 25\n",
    "n1 = 25\n",
    "confianza_95 = 0.95\n",
    "media_muestral1 = 58.3 \n",
    "intervalo1 = intervalo_confianza(media_muestral1, sigma, n1, confianza_95)\n",
    "\n",
    "# 2. Intervalo de confianza del 95% para n = 100\n",
    "n2 = 100\n",
    "media_muestral2 = 58.3  # Ejemplo de media muestral, \n",
    "intervalo2 = intervalo_confianza(media_muestral2, sigma, n2, confianza_95)\n",
    "\n",
    "# 3. Intervalo de confianza del 99% para n = 100\n",
    "confianza_99 = 0.99\n",
    "intervalo3 = intervalo_confianza(media_muestral2, sigma, n2, confianza_99)\n",
    "\n",
    "# 4. Intervalo de confianza del 82% para n = 100\n",
    "confianza_82 = 0.82\n",
    "intervalo4 = intervalo_confianza(media_muestral2, sigma, n2, confianza_82)\n",
    "\n",
    "# 5. Tamaño de muestra necesario para un ancho de intervalo de 1.0 con 99% de confianza\n",
    "ancho_deseado = 1.0\n",
    "z_99 = stats.norm.ppf(1 - (1 - confianza_99) / 2)\n",
    "n_requerido = ((z_99 * sigma) / (ancho_deseado / 2)) ** 2\n",
    "\n",
    "# Resultados\n",
    "print(f\"Intervalo de confianza del 95% para n = 25: {intervalo1}\")\n",
    "print(f\"Intervalo de confianza del 95% para n = 100: {intervalo2}\")\n",
    "print(f\"Intervalo de confianza del 99% para n = 100: {intervalo3}\")\n",
    "print(f\"Intervalo de confianza del 82% para n = 100: {intervalo4}\")\n",
    "print(f\"Tamaño de muestra requerido para un ancho de intervalo de 1.0 con 99% de confianza: {math.ceil(n_requerido)}\")\n"
   ]
  },
  {
   "cell_type": "markdown",
   "id": "b507d249",
   "metadata": {},
   "source": [
    "## Intervalo de confianza para $\\sigma$ desconocida\n",
    "\n",
    "\n",
    "En el caso de que se desea determinar un intervalo de confianza para la media poblacional, si no se conoce la desviación estándar de la población $\\sigma$, se puede calcular el intervalo  utilizando la siguiente fórmula, basada en la distribución t-Student:\n",
    "\n",
    "$$\n",
    "\\left[\\bar{x} - t \\frac{s}{\\sqrt{n}}, \\bar{x} + t \\frac{s}{\\sqrt{n}}\\right]\n",
    "$$\n",
    "\n",
    "En esta fórmula, $s$ se refiere a la desviación estándar muestral, y $t$ es el valor crítico de la distribución t-Student, que se parece mucho a la distribución normal. \n",
    "\n",
    "Los grados de libertad df son necesarios para caracterizar la distribución t-Student y se calculan como el tamaño de la muestra menos uno n-1.\n",
    "\n",
    "Para un intervalo de confianza del 95%, se necesita encontrar el valor crítico $t$ correspondiente, lo cual implica un nivel de significancia $\\alpha$ de 0.05 (5%), con n-1 grados de libertad  donde $n$ es el tamaño de la muestra.\n"
   ]
  },
  {
   "cell_type": "markdown",
   "id": "afc673f8",
   "metadata": {},
   "source": [
    "### Ejemplo 4:\n",
    "\n",
    "Un equipo de desarrollo web está interesado en evaluar el tiempo de carga de su última página web en diferentes dispositivos. Seleccionaron una muestra de 10 dispositivos que cargaron la página, encontrando un tiempo de carga medio de 0.32 segundos con una desviación estándar de 0.09 segundos. Se les pide construir un intervalo de confianza del 95% para el tiempo de carga medio en la población general de dispositivos. ¿Sería adecuado para el equipo de desarrollo concluir que, en promedio, el tiempo de carga de la página es de 0.30 segundos después de analizar esta muestra?"
   ]
  },
  {
   "cell_type": "markdown",
   "id": "d1f6b429",
   "metadata": {},
   "source": [
    "### Solución:\n",
    "\n"
   ]
  },
  {
   "cell_type": "code",
   "execution_count": 7,
   "id": "38391d71",
   "metadata": {},
   "outputs": [
    {
     "name": "stdout",
     "output_type": "stream",
     "text": [
      "Intervalo de confianza del 95% para el tiempo de carga medio: (0.25561787846426853, 0.3843821215357315)\n"
     ]
    }
   ],
   "source": [
    "import scipy.stats as stats\n",
    "import math\n",
    "\n",
    "# Información del problema\n",
    "media_muestral = 0.32\n",
    "desviacion_estandar_muestra = 0.09\n",
    "n = 10\n",
    "confianza = 0.95\n",
    "grados_libertad = n - 1\n",
    "\n",
    "# Calculando el intervalo de confianza\n",
    "error_estandar = desviacion_estandar_muestra / math.sqrt(n)\n",
    "valor_t = stats.t.ppf((1 + confianza) / 2, df=grados_libertad)\n",
    "intervalo = (media_muestral - valor_t * error_estandar, media_muestral + valor_t * error_estandar)\n",
    "\n",
    "\n",
    "\n",
    "# Imprimiendo resultados\n",
    "print(f\"Intervalo de confianza del 95% para el tiempo de carga medio: {intervalo}\")\n"
   ]
  },
  {
   "cell_type": "markdown",
   "id": "27031909",
   "metadata": {},
   "source": [
    "### Prueba de Hipótesis\n",
    "\n",
    "La prueba de hipótesis es un procedimiento estadístico utilizado para tomar decisiones sobre una población basada en muestras de datos. Es una técnica esencial en la inferencia estadística, que permite a los investigadores determinar si los datos proporcionan evidencias suficientes para apoyar o rechazar una suposición sobre un parámetro poblacional.\n",
    "\n",
    "#### Conceptos Fundamentales\n",
    "\n",
    "1. **Hipótesis Nula (H₀)**: Es la hipótesis inicial que se asume verdadera hasta que se obtienen evidencias contrarias. Generalmente, representa un statu quo o una posición de \"no efecto\" o \"no diferencia\".\n",
    "   \n",
    "2. **Hipótesis Alternativa (H₁ o Ha)**: Es la hipótesis que se desea probar. Representa una nueva afirmación o la existencia de un efecto o diferencia.\n",
    "\n",
    "#### Etapas de la Prueba de Hipótesis\n",
    "\n",
    "1. **Formulación de las Hipótesis**:\n",
    "   - **H₀**: La media de la población es igual a un valor específico (por ejemplo, H₀: $\\mu = \\mu₀$).\n",
    "   - **H₁**: La media de la población es diferente del valor específico (por ejemplo, H₁: $\\mu \\neq \\mu₀$).\n",
    "\n",
    "2. **Elección del Nivel de Significancia ($\\alpha$)**:\n",
    "   - El nivel de significancia, generalmente 0,05, es la probabilidad de rechazar la hipótesis nula cuando es verdadera. Define la tolerancia para el error tipo I.\n",
    "\n",
    "3. **Selección de la Estadística de Prueba**:\n",
    "   - La elección de la estadística de prueba depende de la naturaleza de los datos y del tipo de prueba. Puede ser una prueba z, prueba t, prueba chi-cuadrado, etc.\n",
    "\n",
    "4. **Determinación de la Región Crítica**:\n",
    "   - Con base en el nivel de significancia y en la distribución de la estadística de prueba, se determina la región crítica, donde, si la estadística de prueba cae, rechazaremos H₀.\n",
    "\n",
    "5. **Cálculo de la Estadística de Prueba**:\n",
    "   - La estadística de prueba se calcula a partir de los datos muestrales. Para una prueba z, por ejemplo, puede calcularse como $z = \\frac{\\bar{x} - \\mu₀}{\\sigma / \\sqrt{n}}$, donde $\\bar{x}$ es la media muestral, $\\mu₀$ es la media hipotética de la población, $\\sigma$ es la desviación estándar de la población y $n$ es el tamaño de la muestra.\n",
    "\n",
    "6. **Toma de Decisión**:\n",
    "   - Se compara la estadística de prueba calculada con el valor crítico o se utiliza el valor p. Si la estadística de prueba cae en la región crítica o si el valor p es menor que $\\alpha$, rechazamos H₀.\n",
    "\n",
    "#### Ejemplo Práctico\n",
    "\n",
    "Supongamos que un fabricante de lámparas afirma que la vida útil media de sus lámparas es de 1000 horas. Un investigador desea probar esta afirmación y recoge una muestra de 50 lámparas, encontrando una vida útil media de 980 horas con una desviación estándar de 60 horas.\n",
    "\n",
    "1. **Formulación de las Hipótesis**:\n",
    "   - H₀: $\\mu = 1000$ horas\n",
    "   - H₁: $\\mu \\neq 1000$ horas\n",
    "\n",
    "2. **Nivel de Significancia**:\n",
    "   - $\\alpha = 0,05$\n",
    "\n",
    "3. **Estadística de Prueba**:\n",
    "   - Como el tamaño de la muestra es grande ($n > 30$), usamos la prueba z.\n",
    "   - $z = \\frac{\\bar{x} - \\mu₀}{\\sigma / \\sqrt{n}} = \\frac{980 - 1000}{60 / \\sqrt{50}} \\approx -2,36$\n",
    "\n",
    "4. **Región Crítica**:\n",
    "   - Para $\\alpha = 0,05$ en una prueba bilateral, los valores críticos son aproximadamente $\\pm 1,96$.\n",
    "\n",
    "5. **Decisión**:\n",
    "   - Como $-2,36$ está fuera del intervalo de $-1,96$ a $1,96$, rechazamos H₀.\n",
    "\n",
    "6. **Conclusión**:\n",
    "   - Hay evidencias suficientes para rechazar la hipótesis nula de que la vida útil media de las lámparas es de 1000 horas.\n",
    "\n",
    "#### Tipos de Errores\n",
    "\n",
    "- **Error Tipo I ($\\alpha$)**: Rechazar la hipótesis nula cuando es verdadera.\n",
    "- **Error Tipo II ($\\beta$)**: No rechazar la hipótesis nula cuando es falsa.\n",
    "\n",
    "Si necesitas más detalles o ejemplos específicos, ¡no dudes en preguntar!"
   ]
  }
 ],
 "metadata": {
  "kernelspec": {
   "display_name": "Python 3 (ipykernel)",
   "language": "python",
   "name": "python3"
  },
  "language_info": {
   "codemirror_mode": {
    "name": "ipython",
    "version": 3
   },
   "file_extension": ".py",
   "mimetype": "text/x-python",
   "name": "python",
   "nbconvert_exporter": "python",
   "pygments_lexer": "ipython3",
   "version": "3.9.12"
  }
 },
 "nbformat": 4,
 "nbformat_minor": 5
}
