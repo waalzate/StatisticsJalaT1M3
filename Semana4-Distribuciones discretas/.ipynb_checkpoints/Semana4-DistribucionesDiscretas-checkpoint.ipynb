{
 "cells": [
  {
   "cell_type": "markdown",
   "id": "a4881ac4",
   "metadata": {},
   "source": [
    "<img src=\"jalalogo.png\">\n",
    "\n",
    "\n",
    "\n",
    "\n",
    "# Semana 4: Distribuciones discretas\n",
    "\n",
    "\n",
    "## ¿Qué es una variable aleatoria? \n",
    "\n",
    "Dentro de un espacio muestral S asociado a algún experimento, una variable aleatoria se define como cualquier regla que asigna un número a cada resultado en S. Ejemplos:\n",
    "\n",
    "\n",
    "- Resultado del lanzamiento de un dado.\n",
    "- Altura de un estudiante seleccionado al azar de un colegio.\n",
    "- Tiempo de navegación de un usuario en una página web.\n",
    " \n",
    "\n",
    "Usamos letras mayúsculas como $X$ o $Y$ para denotar variables aleatorias.\n",
    "\n",
    "Las variables aleatorias se dividen en dos grupos:\n",
    "las variables aleatorias discretas y las variables aleatorias continuas.\n"
   ]
  },
  {
   "cell_type": "markdown",
   "id": "47ba547c",
   "metadata": {},
   "source": [
    "## Variables aleatorias discretas:\n",
    "\n",
    "Una variable aleatoria discreta correponde a aquella cuyo valor puede variar dentro de un conjunto finito y contable de valores. No púede tomar valores intermedios.\n",
    "\n",
    "Por ejemplo, en el lanzamiento de un dado, podemos definir una variable aleatoria $X$ que indique el resultado aleatorio del lazamiento de este dado. La variable $X$ puede obtener cualquiera de los valores $[1,2,3,4,5,6]$.  \n",
    "\n",
    "### Distribución de Probabilidad \n",
    "\n",
    "La **distribución de probabilidad** de una variable aleatoria discreta es una lista de probabilidades asociadas a cada uno de los valores discretos de dicha variable. A la distribución de probabilidades también se le conoce con el nombre de **función de probabilidad** o **función de masa de probabilidad (FMP)**. \n",
    "\n",
    "Matematicamente, supongamos que una variable aleatoria discreta $X$ pueda tener $k$ valores diferentes. Entonces, la probabilidad de que $X=x_i$ se define como $P(X=x_i)=p_i$. Las probabilidades $p_i$ deben satisfacer las siguientes condiciones:\n",
    "\n",
    "1. Cada probabilidad es un número entre 0 y 1: \n",
    "\n",
    "  $0<p_i<1$, $\\forall$ $i=1, 2, \\cdots,k$.\n",
    "\n",
    "2. La suma de todas las probabilidades es 1: \n",
    "\n",
    "  $\\sum_{i=0}^k p_i=1\\iff p_1 + p_2 + \\cdots + p_k=1$.\n",
    "\n",
    "Algunos ejemplos de distribuciones de probabilidades discretas son:\n",
    "\n",
    "- La distribución de Bernoulli. \n",
    "- La distribución Binomial.\n",
    "- La distribución de Poisson.\n",
    "\n",
    "\n",
    "\n"
   ]
  },
  {
   "cell_type": "code",
   "execution_count": 4,
   "id": "0773daee",
   "metadata": {},
   "outputs": [],
   "source": [
    "# Se importan las librerias necesarias\n",
    "import numpy as np\n",
    "import matplotlib.pyplot as plt\n",
    "import scipy.stats as stats\n"
   ]
  },
  {
   "cell_type": "markdown",
   "id": "e5a25026",
   "metadata": {},
   "source": [
    "### Ejemplo 1: \n",
    "\n",
    "En una clase de estadística se dan las calificaciones según la siguiente distribución:\n",
    "\n",
    "- A: 0.15\n",
    "- B: 0.35\n",
    "- C: 0.30\n",
    "- D: 0.16\n",
    "- F: 0.04\n",
    "\n",
    "a) Define la variable aleatoria X como el número de puntos de calificación dados por cada calificación (es decir, a la calificación 'A' se le asigna 4 puntos, a la 'B' 3 puntos, a la 'C' 2 puntos, a la 'D' 1 punto y a la 'F' 0 puntos). Escriba la distribución de probabilidad de X.\n",
    "\n",
    "b) ¿Es realmente esta función una distribución de probabilidad?\n",
    "\n",
    "c) ¿Cuál es la probabilidad de que X sea menor que 3?\n",
    "\n",
    "d) ¿Cuál es la probabilidad de que X sea menor o igual a 3?\n",
    "\n",
    "e) Dibuja el histograma de probabilidad para esta distribución.\n",
    "\n",
    "### Solución:\n",
    "\n",
    "a) La distribución de probabilidad de $ X $ es\n",
    "\n",
    "| X   | P(X) |\n",
    "|-----|------|\n",
    "| 4   | 0.15 |\n",
    "| 3   | 0.35 |\n",
    "| 2   | 0.30 |\n",
    "| 1   | 0.16 |\n",
    "| 0   | 0.04 |\n",
    "\n",
    "\n",
    "b) Es una distribución de probabilidad dado que cumple que cada probabilidad es un número entre 0 y 1 y la suma de las probabilidades es 1.\n",
    "\n",
    "c) Debemos hallar $P(X<3)$, lo cual es equivalente a \n",
    "\n",
    "$$ P(X<3) = P(X=0) + P(X=1)+ P(X=2)= 0.04 + 0.16 + 0.3 =0.5$$ "
   ]
  },
  {
   "cell_type": "code",
   "execution_count": 2,
   "id": "6f11429a",
   "metadata": {},
   "outputs": [
    {
     "name": "stdout",
     "output_type": "stream",
     "text": [
      "0.5\n"
     ]
    }
   ],
   "source": [
    "prob1 = 0.04 + 0.16 + 0.3 \n",
    "print(prob1)"
   ]
  },
  {
   "cell_type": "markdown",
   "id": "27250d7d",
   "metadata": {},
   "source": [
    "d) Debemos hallar $P(X\\leq 3)$, lo cual es equivalente a \n",
    "\n",
    "$$ P(X\\leq 3) = P(X=0) + P(X=1)+ P(X=2) + P(X=3)= 0.04 + 0.16 + 0.3 +0.35=0.85$$ "
   ]
  },
  {
   "cell_type": "code",
   "execution_count": 3,
   "id": "8e688448",
   "metadata": {
    "scrolled": true
   },
   "outputs": [
    {
     "name": "stdout",
     "output_type": "stream",
     "text": [
      "0.85\n"
     ]
    }
   ],
   "source": [
    "prob2 = 0.04 + 0.16 + 0.3 +0.35\n",
    "print(prob2)"
   ]
  },
  {
   "cell_type": "code",
   "execution_count": 4,
   "id": "e652190f",
   "metadata": {},
   "outputs": [
    {
     "data": {
      "image/png": "[encoded data removed]",
      "text/plain": [
       "<Figure size 640x480 with 1 Axes>"
      ]
     },
     "metadata": {},
     "output_type": "display_data"
    }
   ],
   "source": [
    "#Histograma.\n",
    "\n",
    "X = [4, 3, 2, 1, 0]\n",
    "P_X = [0.15, 0.35, 0.30, 0.16, 0.04]\n",
    "\n",
    "# Creamos el histograma\n",
    "plt.bar(X, P_X, width=1.0, color='green', edgecolor='black')\n",
    "\n",
    "# Añadir títulos y etiquetas\n",
    "plt.title('Histograma de la Distribución de Probabilidad')\n",
    "plt.xlabel(' X')\n",
    "plt.ylabel('P(X)')\n",
    "\n",
    "# Configurar los límites y escalas del eje\n",
    "plt.xticks(X)  # Asegura que todos los valores de X se muestren\n",
    "plt.yticks([0, 0.1, 0.2, 0.3, 0.4])  # Puedes ajustar esto según tus preferencias\n",
    "\n",
    "# Mostrar el gráfico\n",
    "plt.show()\n",
    "\n"
   ]
  },
  {
   "cell_type": "markdown",
   "id": "ff0ba918",
   "metadata": {},
   "source": [
    "### Ejemplo:\n",
    "Una  importadora de tecnología para latinoamerica adquirió cinco lotes de componentes. La cantidad de componentes defectuosos en cada lote se presenta en la tabla siguiente:\n",
    "\n",
    "\n",
    "| Lote           | 1 | 2 | 3 | 4 | 5 |\n",
    "|----------------|---|---|---|---|---|\n",
    "| # defectuosos  | 0 | 2 | 1 | 2 | 1 |\n",
    "\n",
    " \n",
    "Sea $X$ la variable aleatoria definida como el número de componentes defectuosos en un lote seleccionado al azar. \n",
    "\n",
    "Halle la distribución de probabilidad de $X$.\n",
    " \n"
   ]
  },
  {
   "cell_type": "markdown",
   "id": "f7d08c00",
   "metadata": {},
   "source": [
    "### Solución:\n",
    "\n",
    "Existen tres valores posibles para $X$  0, 1 y 2. Al analizar la tabla, se notan que hay cinco eventos equiprobables, uno de ellos resulta en $X=0$, dos en $X=1$ y los restantes dos en $X=2$. \n",
    "\n",
    "Por lo tanto, las probabilidades son las siguientes:\n",
    "\n",
    " \n",
    "- La probabilidad de que $X=0$ es $P(X=0)=P(\\text{el lote 1 es seleccionado}) = 1/5 = 0.2$\n",
    "- La probabilidad de que $X=1$ es $P(X=1)=P(\\text{el lote 3 y 5 es seleccionado}) = 2/5 = 0.4$\n",
    "- La probabilidad de que $X=2$ es $P(X=2)=P(\\text{el lote 2 y 4 es seleccionado}) = 2/5 = 0.4$\n",
    "\n",
    " \n",
    "**Tabla de Distribución de Probabilidades de $X$:**\n",
    "\n",
    "| Valor de $X$ | Probabilidad |\n",
    "|--------------|--------------|\n",
    "| 0            | 0.2          |\n",
    "| 1            | 0.4          |\n",
    "| 2            | 0.4          |\n",
    "\n",
    "\n"
   ]
  },
  {
   "cell_type": "markdown",
   "id": "cdad877c",
   "metadata": {},
   "source": [
    "## Valor Esperado\n",
    "\n",
    "\n",
    "\n",
    "Sea X una variable aleatoria con distribución de probabilidad p(x). La media o valor esperado de X es\n",
    "\n",
    "\n",
    "$ \\mu = E(X)=\\sum\\limits_{x} xp(x)$\n",
    "\n",
    "El valor esperado se representa con $\\mu_x$ o simplemente $\\mu$, cuando está claro a qué variable se refiere. Los estadísticos frecuentemente denominan a esta media como la esperanza matemática o el valor esperado de la variable aleatoria $X$, y la simbolizan como $E(X)$\n",
    "\n",
    "\n",
    "## Varianza y Desviación Estandar\n",
    "\n",
    "Sea X una variable aleatoria con distribución de probabilidad p(x). La varianza de X se define y se denota como\n",
    "\n",
    " \\begin{equation*}V(X)=\\sum_{x}(x-\\mu)^2 p(x) = E(X-\\mu)^2\\end{equation*}\n",
    " \n",
    "\n",
    "La desviación estándar de $X$ es \n",
    "\\begin{equation*}\n",
    "    \\sigma_x =\\sqrt{V(X)}\n",
    "\\end{equation*}\n",
    " "
   ]
  },
  {
   "cell_type": "markdown",
   "id": "16a7b501",
   "metadata": {},
   "source": [
    "### Ejemplo: \n",
    "\n",
    "Consideremos de nuevo la situación del ejemplo 1. Calculemos el valor esperado de X. \n",
    "\n",
    "Como la distribución de probabilidad de $ X $ es\n",
    "\n",
    "| X   | P(X) |\n",
    "|-----|------|\n",
    "| 4   | 0.15 |\n",
    "| 3   | 0.35 |\n",
    "| 2   | 0.30 |\n",
    "| 1   | 0.16 |\n",
    "| 0   | 0.04 |\n",
    "\n",
    "entonces su valor esperado es \n",
    " \n",
    "   \n",
    "   $E[X] = \\sum_{i} x_i \\cdot P(x_i)= 0.60 + 1.05 + 0.60 + 0.16 + 0.00 = 2.41$"
   ]
  },
  {
   "cell_type": "markdown",
   "id": "1df8d5b8",
   "metadata": {},
   "source": [
    "### Ejemplo: Pedidos en una Pizzería\n",
    "\n",
    "En una pizzería, los clientes pueden pedir pedir varias  pizzas para llevar. La pizzería tiene una política que limita el número máximo de pizzas para llevar en un solo pedido a 6. Considerando solo a aquellos clientes que piden pizzas para llevar, se denota como  X  al número de pizzas que solicita un cliente seleccionado al azar. Basados en su historial, han calculado la siguiente función de masa de probabilidad de  X :\n",
    "\n",
    "**Tabla 2. Función de masa de probabilidad**\n",
    "\n",
    "| \\( x \\)  | 1    | 2    | 3    | 4    | 5    | 6    |\n",
    "|----------|------|------|------|------|------|------|\n",
    "| \\( p(x) \\)| 0.3  | 0.25 | 0.15 | 0.05 | 0.1  | 0.15 |\n",
    "\n",
    "Calcular:\n",
    "\n",
    "1. El valor esperado de $X $.\n",
    "2. La varianza de $X $.\n",
    "3. La desviación estándar de $ X $.\n",
    "\n",
    "### Solución\n",
    "\n",
    "1. El valor esperado de  X es:\n",
    "\n",
    "   $\n",
    "   \\mu = E(X) = (1)(0.3) + (2)(0.25) + (3)(0.15) + (4)(0.05) + (5)(0.1) + (6)(0.15) = 2.85\n",
    "   $\n",
    "\n",
    "2. La varianza de $X $ es:\n",
    "$\n",
    "   \\sigma^2 = V(X) = \\sum_{x=1}^6 (x - 2.85)^2 p(x)\n",
    "   $\n",
    "   \n",
    "   Calculando cada término:\n",
    "   \n",
    " $\n",
    "   (1-2.85)^2(0.3) + (2-2.85)^2(0.25) + (3-2.85)^2(0.15) + (4-2.85)^2(0.05) + (5-2.85)^2(0.1) + (6-2.85)^2(0.15)\n",
    "$\n",
    "\n",
    " $\n",
    "   = 3.2275\n",
    " $\n",
    "\n",
    "3. La desviación estándar de $ X$ es:\n",
    "\n",
    "$\n",
    "   \\sigma = \\sqrt{3.2275} = 1.8\n",
    " $\n",
    "\n",
    "En el contexto del problema anterior, el valor esperado y la desviación estándar tienen los siguientes significados:\n",
    "\n",
    "El valor esperado de X es 2.85. Esto significa que, en promedio, un cliente que pide pizzas para llevar solicita aproximadamente 2.85 pizzas.  Una desviación estándar de 1.8 significa que la cantidad de pizzas que los clientes piden suele variar, en promedio, en 1.8 pizzas con respecto al valor esperado. \n",
    "\n",
    "Para comprenderlo mejor podemos observar que:\n",
    "\n",
    "\n",
    "- Si la desviación estándar es pequeña, la mayoría de los pedidos estarán muy cerca del valor esperado de 2.85 pizzas.\n",
    "- Si la desviación estándar es grande, habrá una mayor variabilidad en la cantidad de pizzas pedidas por los clientes, con más pedidos alejándose significativamente de las 2.85 pizzas promedio.\n"
   ]
  },
  {
   "cell_type": "code",
   "execution_count": 5,
   "id": "6fbe2faf",
   "metadata": {},
   "outputs": [
    {
     "name": "stdout",
     "output_type": "stream",
     "text": [
      "2.41\n"
     ]
    }
   ],
   "source": [
    " #Creamos una lista con los valores de X y sus respectivas probabilidades.\n",
    "valores_X = [4, 3, 2, 1, 0]\n",
    "\n",
    "probabilidades_X = [0.15, 0.35, 0.30, 0.16, 0.04]\n",
    "\n",
    "# Calculamos el valor esperado\n",
    "\n",
    "valor_esperado_X = sum(x * p for x, p in zip(valores_X, probabilidades_X))\n",
    "print(valor_esperado_X)\n"
   ]
  },
  {
   "cell_type": "markdown",
   "id": "70d2d64f",
   "metadata": {},
   "source": [
    "## Función de distribución acumulativa (CDF - Cumulative distribution function)\n",
    "\n",
    "La función de distribución cumulativa de una variable aleatoria $X$, evaluada en $x$, es la probabilidad de que $X$ tome valores iguales o menores que $x$. Matemáticamente se denota como\n",
    "\n",
    "\\begin{equation}\n",
    "  F_X(x)=P(X\\leq x)\n",
    "\\end{equation}\n"
   ]
  },
  {
   "cell_type": "markdown",
   "id": "c9f99375",
   "metadata": {},
   "source": [
    "### Distribución de Bernoulli\n",
    "\n",
    "La distribución de Bernoulli es una distribución en la cual hay solo dos posibles resultados para una variable aleatoria discreta: éxito o fracaso. Se denota comúnmente como Ber(p), donde p es la probabilidad de éxito en un único ensayo. \n",
    "\n",
    "\n",
    "Las características clave de la distribución de Bernoulli son:\n",
    "\n",
    "**1. Dos Resultados Posibles:** La variable aleatoria puede tomar solo dos valores posibles: 1 (éxito) o 0 (fracaso).\n",
    "   \n",
    "**2. Parámetro de Probabilidad:** El parámetro $p$ representa la probabilidad de éxito en un solo ensayo.\n",
    "\n",
    "**3. Función de Masa de Probabilidad (FMP):** La función de masa de probabilidad para la distribución de Bernoulli se expresa como:\n",
    " \n",
    " $ P(X = k) = \n",
    "\\begin{cases} \n",
    "p, & \\text{si } k = 1 \\\\\n",
    "1-p, & \\text{si } k = 0 \n",
    "\\end{cases}\n",
    "$\n",
    "\n",
    "\n",
    "Donde X es la variable aleatoria y k es el valor que puede tomar (0 o 1).\n"
   ]
  },
  {
   "cell_type": "markdown",
   "id": "d3d3ee13",
   "metadata": {},
   "source": [
    "## Distribución binomial\n",
    "\n",
    "\n",
    "\n",
    "Una variable aleatoria con una distribución binomial se caracteriza por dos parámetros fundamentales:\n",
    "\n",
    "- El número total de ensayos, representado por $n$, que indica cuántas veces se lleva a cabo el experimento.\n",
    "- La probabilidad de éxito en cada ensayo, denotada por $p$.\n",
    "\n",
    "Si designamos como $X$ a una variable aleatoria con distribución binomial, se representa como $X \\sim B(n, p)$. Además, $B(n, p, k)$ denota la probabilidad de que $X$ sea igual a $k$.\n",
    "\n",
    "Si $X \\sim B(n, p)$, entonces la probabilidad $P(X = k)$ se calcula mediante la fórmula:\n",
    "\n",
    "$$ P(X = k) = \\binom{n}{k} p^k (1 - p)^{n - k} $$\n",
    "\n",
    "donde $k$ toma valores en el rango $0, 1, \\ldots, n$ y  $\\binom{n}{k} $ es el coeficiente binomial, que se calcula mediante\n",
    "\n",
    "$\\binom{n}{k}= \\frac{n!}{k!(n-k)!}$\n",
    "\n",
    "- El **valor esperado** (o media) de una variable aleatoria con distribución binomial es:\n",
    "\n",
    "  $$ E(X) = \\mu = n \\cdot p $$\n",
    "\n",
    "- La **varianza** de una variable aleatoria con distribución binomial es:\n",
    "\n",
    "$$ \\text{Var}(X) = \\sigma^2 = n \\cdot p \\cdot (1 - p) $$\n",
    "\n",
    "- La **desviación estándar** de una variable aleatoria con distribución binomial es:\n",
    "\n",
    "$$ \\sigma = \\sqrt{n \\cdot p \\cdot (1 - p)} $$\n",
    "\n"
   ]
  },
  {
   "cell_type": "markdown",
   "id": "1e31d07b",
   "metadata": {},
   "source": [
    "### Ejemplo: \n",
    "\n",
    "El Servicio de Paquetería en México informa que el 95% de los paquetes comprados por internet y enviados dentro de la misma ciudad se entregan en un plazo de dos días a partir del momento de su envío. Se enviaron seis paquetes de forma aleatoria a distintas ubicaciones.\n",
    "\n",
    "a) ¿Cuál es la probabilidad de que los seis paquetes lleguen dentro de un plazo de dos días?\n",
    "\n",
    "b) ¿Cuál es la probabilidad de que exactamente cinco paquetes lleguen dentro de un plazo de dos días?\n",
    "\n",
    "c) Determine el promedio del número de paquetes que llegarán dentro de un plazo de dos días.\n",
    "\n",
    "d) Calcule la varianza y la desviación estándar del número de paquetes que llegarán dentro de un plazo de dos días."
   ]
  },
  {
   "cell_type": "markdown",
   "id": "a1a6b475",
   "metadata": {},
   "source": [
    "### Solución.\n",
    "\n",
    "Se puede modelar este problema con una distribución binomial. Sea $X$ la variable aleatoria que determina de seis paquetes enviados el número de paquetes que se entregan en el plazo de dos días a partir del momento de su entrega. Entonces $X$ tiene parámetros:\n",
    "- n=6 (# ensayos), \n",
    "- p=0.95 (probabilidad de éxito).\n",
    "\n",
    "a) Debemos determinar P(X=6)\n",
    "\n",
    "b) Debemos hallar P(X=5)\n",
    "\n",
    "c) Se halla el valor esperado $E(X)=np$\n",
    "\n",
    "d) Debemos hallar $V(X)=n * p * (1 - p)$ y $\\sqrt{V(X)}=\\sqrt{n * p * (1 - p)}$\n",
    "\n",
    "e) Ilustre la distribución de probabilidad para $X$ en un diagrama de barras."
   ]
  },
  {
   "cell_type": "code",
   "execution_count": 8,
   "id": "7977aaec",
   "metadata": {},
   "outputs": [
    {
     "name": "stdout",
     "output_type": "stream",
     "text": [
      "Probabilidad de que los seis paquetes lleguen en un plazo de dos días: 0.7351\n",
      "Probabilidad de que exactamente cinco paquetes lleguen en un plazo de dos días: 0.2321\n",
      "Media del número de paquetes que llegarán en un plazo de dos días: 5.70\n",
      "Varianza: 0.29\n",
      "Desviación estándar: 0.53\n"
     ]
    },
    {
     "data": {
      "image/png": "[encoded data removed]",
      "text/plain": [
       "<Figure size 432x288 with 1 Axes>"
      ]
     },
     "metadata": {
      "needs_background": "light"
     },
     "output_type": "display_data"
    }
   ],
   "source": [
    "# Parámetros de la distribución binomial\n",
    "n = 6  # número de paquetes\n",
    "p = 0.95  # probabilidad de que un paquete llegue en dos días\n",
    "\n",
    "# a) Probabilidad de que los seis paquetes lleguen en un plazo de dos días\n",
    "prob_seis = stats.binom.pmf(6, n, p)\n",
    "print(f\"Probabilidad de que los seis paquetes lleguen en un plazo de dos días: {prob_seis:.4f}\")\n",
    "# b) Probabilidad de que exactamente cinco paquetes lleguen en un plazo de dos días\n",
    "prob_cinco = stats.binom.pmf(5, n, p)\n",
    "print(f\"Probabilidad de que exactamente cinco paquetes lleguen en un plazo de dos días: {prob_cinco:.4f}\")\n",
    "\n",
    "# c) Media del número de paquetes que llegarán en un plazo de dos días\n",
    "media = n * p\n",
    "print(f\"Media del número de paquetes que llegarán en un plazo de dos días: {media:.2f}\")\n",
    "\n",
    "# d) Varianza y desviación estándar del número de paquetes que llegarán en un plazo de dos días\n",
    "varianza = n * p * (1 - p)\n",
    "desviacion_estandar = varianza ** 0.5\n",
    "print(f\"Varianza: {varianza:.2f}\")\n",
    "print(f\"Desviación estándar: {desviacion_estandar:.2f}\")\n",
    "\n",
    "#e) ## Diagrama de Barras para la Distribución Binomial\n",
    "\n",
    "# Valores posibles de la variable aleatoria\n",
    "x = np.arange(0, n + 1)\n",
    "\n",
    "# Probabilidades correspondientes a cada valor de X\n",
    "probabilidades = stats.binom.pmf(x, n, p)\n",
    "\n",
    "# Creamos el diagrama de barras\n",
    "plt.bar(x, probabilidades, color='skyblue', alpha=0.7, edgecolor='blue')\n",
    "plt.xlabel('Número de paquetes entregados en dos días')\n",
    "plt.ylabel('Probabilidad')\n",
    "plt.title('Distribución Binomial: Entrega de Paquetes en Dos Días')\n",
    "plt.xticks(x)\n",
    "plt.grid(axis='y')\n",
    "\n",
    "plt.show()\n"
   ]
  },
  {
   "cell_type": "markdown",
   "id": "81a98954",
   "metadata": {},
   "source": [
    "## Distribución de Poisson\n",
    "\n",
    "La distribución de Poisson se utiliza para calcular probabilidades asociadas a eventos en un flujo constante de espacio o tiempo, como \n",
    "\n",
    "- imperfecciones en un rollo de tela, \n",
    "- errores en las páginas de un libro, \n",
    "- llamadas telefónicas a un conmutador en un intervalo o \n",
    "- la cantidad de personas que se acercan a formar una fila en un mostrador de atención al público.\n",
    "\n",
    " Si $X$ es una variable aleatoria cuya distribución se rige por una distribución de Poisson,  su función de masa de probabilidad (FMP) es:\n",
    " \n",
    "   $$P(X = k) = \\frac{\\lambda^k e^{-\\lambda}}{k!}$$\n",
    "\n",
    "\n",
    "Si $X$ es una variable aleatoria de Poisson entonces $E(X)=\\lambda$ y $V(X)=\\lambda$\n",
    "\t  \n"
   ]
  },
  {
   "cell_type": "markdown",
   "id": "400e9d53",
   "metadata": {},
   "source": [
    "### Ejemplo: \n",
    "\n",
    "Gracias a sus conocimientos de estadística,  ha sido contratado por una empresa tecnologíca que te ha pedido modelar la llegada de personas a una sala de urgencias. Se sabe por registros históricos que cinco es el promedio de personas que llegan por hora.  \n",
    "\n",
    "\n",
    "Determinar: \n",
    "\n",
    "1. **Probabilidad de que ocurran exactamente cuatro arribos durante una hora particular**\n",
    "\n",
    "2. **Probabilidad de que por lo menos cuatro personas arriben durante una hora particular**\n",
    "\n",
    "3. **Número esperado de personas que arriben durante un periodo de 45 minutos**\n",
    "\n",
    "#### Solución:\n",
    "\n",
    "Definamos la variable aleatoria $X$ que determina el número de paceientes que llegan a la sala de urgencia por hora. En este caso, podemos modelar $X$ utilizando un proceso de Poisson. Un proceso de Poisson es indicado para modelar eventos que ocurren de manera aleatoria e independiente a una tasa constante. El parámetro $\\lambda$   representa la tasa promedio de eventos por unidad de tiempo.\n",
    "\n",
    "Notemos que  $\\lambda = 5$.\n",
    "\n",
    "\n",
    "1. **Probabilidad de que ocurran exactamente cuatro arribos durante una hora particular:**\n",
    "\n",
    "   Utilizamos la función de masa de probabilidad (PMF) de la distribución de Poisson:\n",
    " \n",
    "   $$P(X = k) =\\frac{\\lambda^k e^{-\\lambda}}{k!}$$\n",
    " \n",
    "Reemplazando el valor de $k = 4$ obtenemos:\n",
    "\n",
    " \n",
    "$P(X=4)=\\frac{5^4}{e^{-5}}{4!}=0.17$\n",
    " \n",
    "\n",
    "2. **Probabilidad de que por lo menos cuatro personas arriben durante una hora particular:**\n",
    "\n",
    "La manera adecuada es realizar el cálculo por el complemento:\n",
    "\n",
    " $P(X \\geq 4)$\n",
    " \n",
    " $= 1 - P(X < 4)$\n",
    " \n",
    " $=  1-( P(X = 0) + P(X = 1) + P(X = 2) + P(X = 3))$\n",
    "   \n",
    " $=0.735$\n",
    "\n",
    "3. **Número esperado de personas que arriben durante un periodo de 45 minutos:**\n",
    "\n",
    "Las llegadas ocurren a una taza de 5 por hora. Equivalentemente,  5 por 60 minutos.   La tasa de arribos por 45 minutos se ajusta por medio de una proporción, obteniendo \n",
    "\n",
    "$$   \\lambda_{\\text{45 min}} = \\lambda \\times \\frac{45}{60} = 5 \\times \\frac{3}{4} = 3.75$$\n",
    "  \n",
    " "
   ]
  },
  {
   "cell_type": "code",
   "execution_count": 17,
   "id": "2c8427dd",
   "metadata": {},
   "outputs": [
    {
     "name": "stdout",
     "output_type": "stream",
     "text": [
      " Probabilidad de que ocurran 4 arribos es,  P(X=4)=: 0.18\n",
      " P(X>=4)= 0.73\n"
     ]
    }
   ],
   "source": [
    "### Cálculos en Python\n",
    "#cargar previamente la función poisson de la libreria stats:\n",
    "from scipy.stats import poisson\n",
    "\n",
    "#1) \n",
    "#P(X=4)\n",
    "prob_X_equal_4=poisson.pmf(k=4,mu=5)\n",
    "print(f' Probabilidad de que ocurran 4 arribos es,  P(X=4)=:{prob_X_equal_4: .2f}')\n",
    "\n",
    "\n",
    "#2) P(X>=4)= 1−𝑃(𝑋<4)\n",
    "prob_X_greater_than_4 = 1- poisson.cdf(k=3,mu=5)\n",
    "print(f' P(X>=4)={prob_X_greater_than_4: .2f}')\n"
   ]
  },
  {
   "cell_type": "markdown",
   "id": "3f08072d",
   "metadata": {},
   "source": [
    "### Aprobación de la Binomial a Poisson\n",
    "\n",
    "Es conveniente emplear la variable aleatoria de Poisson como una aproximación para una variable aleatoria binomial con parámetros $(n, p)$ en situaciones donde $n$ es considerablemente grande y $p$ es lo suficientemente pequeño para que el producto $np$ tenga un valor moderado. Esto es,\n",
    "\n",
    "Una variable aleatoria binomial puede ser aproximada mediante una variable aleatoria de Poisson tomando como parámetro $\\lambda = np$, siempre que $n$ sea significativamente grande y $p$ sea relativamente pequeño.\n",
    "\n",
    "$P(X=i)\\approx \\frac{\\lambda^i}{i!}e^{-\\lambda}$\n",
    "\n"
   ]
  },
  {
   "cell_type": "markdown",
   "id": "c8f8a457",
   "metadata": {},
   "source": [
    "### Ejemplo: Problema de Aproximación Binomial a Poisson\n",
    "\n",
    "Suponga que, en promedio, una persona en 1000 comete un error numérico al preparar su declaración de impuestos. Si se seleccionan 10,000 formas al azar y se examinan, calcule la probabilidad de que 6, 7 u 8 de las formas contengan un error. Respuesta:  0.265\n",
    "\n",
    "\n",
    "\n",
    "\n",
    "\n",
    "Sea $X$ el número de personas que cometen un error en su declaración de impuestos. \n",
    "\n",
    "La probabilidad de que una persona cometa un error en su declaración es $p = 0.001$. Dado que el número total de personas es $n = 10,000$, la variable aleatoria $X$ tiene una distribución binomial con los siguientes parámetros: $X \\sim \\text{Binomial}(n = 10,000, p = 0.001)$.\n",
    "\n",
    "\n",
    "Aproximando con una distribución de Poisson, se tiene:\n",
    "$ \\lambda = np = 10,000 \\times 0.001 = 10 $\n",
    "\n",
    "La probabilidad de interés se puede encontrar   como se muestra a continuación:\n",
    "\n",
    "$ P(6 \\leq X \\leq 8) = \\sum_{x=6}^{8} \\frac{\\lambda^x e^{-\\lambda}}{x!} $\n",
    "$ \\lambda = 10 $\n",
    "$ P(6 \\leq X \\leq 8) = \\frac{10^6 e^{-10}}{6!} + \\frac{10^7 e^{-10}}{7!} + \\frac{10^8 e^{-10}}{8!} $\n",
    "$= \\frac{10^6 e^{-10}}{720} + \\frac{10^7 e^{-10}}{5040} + \\frac{10^8 e^{-10}}{40320}$\n",
    "$ = 0.2657 $"
   ]
  },
  {
   "cell_type": "code",
   "execution_count": 18,
   "id": "c2db08a1",
   "metadata": {},
   "outputs": [
    {
     "name": "stdout",
     "output_type": "stream",
     "text": [
      "0.2657337158716872\n"
     ]
    }
   ],
   "source": [
    "import math\n",
    "from scipy.stats import poisson\n",
    "\n",
    "# Parámetro de la distribución de Poisson\n",
    "lambda_parameter = 10\n",
    "\n",
    "# Cálculo usando la fórmula de cdf de probabilidad de Poisson\n",
    "#P(6<=X<=8) = P(X<=8)-P(X<=5)\n",
    " \n",
    "probabilidad = poisson.cdf(k=8,mu=lambda_parameter)- poisson.cdf(k=5,mu=lambda_parameter)\n",
    "\n",
    "print(probabilidad)\n"
   ]
  },
  {
   "cell_type": "markdown",
   "id": "e029aa2a",
   "metadata": {},
   "source": [
    "## Ejemplos Adicionales:"
   ]
  },
  {
   "cell_type": "markdown",
   "id": "9e226744",
   "metadata": {},
   "source": [
    "### Ejemplo: (Binomial) \n",
    "\n",
    "El  examen  parcial de estadística es un examen de  selección  múltiple que contiene  7  preguntas y  \n",
    "se  dan  5  opciones  a  cada  pregunta,  solo una de ellas es correcta. \n",
    "Si un estudiante responde al azar, hallar la probabilidad que:\n",
    "\n",
    "- a) 7 respuestas estén correctas\n",
    "- b) Al menos 3 respuestas estén correctas\n",
    "- c) Entre 5 y 7 estén correctas.\n",
    "\n",
    "\n",
    "#### Solución: \n",
    "\n",
    "Sea $X=$ el número de respuestas correctas que responde el estudiante al azar. Entonces $X$ tiene distribución binomial con parámetros $n=7$ y $p= 1/5=0.2$ y por tanto,\n",
    "\n",
    "$P(X=k) = \\binom{n}{k} p^k (1-p)^{n-k}$\n",
    "\n",
    "- a) $P(X=7)=\\binom{7}{7} (0.2)^7 (0.8)^0 = 1 \\cdot (0.2)^7 \\cdot 1 = 0.000128 $\n",
    "\n",
    "- b) $P(X\\geq 3)=P(X \\geq 3) = 1 - P(X < 3) = P(X=0) + P(X=1) + P(X=2)$\n",
    "\n",
    "Notemos que \n",
    "\n",
    "$ P(X=0) = \\binom{7}{0} (0.2)^0 \\times (0.8)^7 = 1 \\cdot 1 \\cdot 0.209 = 0.2097 $\n",
    "\n",
    "$ P(X=1) = \\binom{7}{1} (0.2)^1 (0.8)^6 = 7 \\cdot 0.2 \\cdot 0.26 = 0.367 $\n",
    "\n",
    "$ P(X=2) = \\binom{7}{2} (0.2)^2 (0.8)^5 = 21 \\cdot 0.04 \\cdot 0.327 = 0.275$\n",
    "\n",
    "Por tanto,\n",
    "\n",
    "$P(X \\geq 3) = 1 - (0.2097 + 0.367 + 0.275) = 1 - 0.8517 = 0.1483 $\n",
    "\n",
    "\n",
    "-c)  $P(5\\leq X\\leq 7)=P(X=5) + P(X=6) + P(X=7)$\n",
    "\n",
    "$$ P(X=5) = \\binom{7}{5} (0.2)^5 (0.8)^2 = 21 \\cdot 0.00032 \\cdot 0.64 = 0.0043 $$\n",
    "$$ P(X=6) = \\binom{7}{6} (0.2)^6 (0.8)^1 = 7 \\cdot 0.000064 \\cdot 0.8 = 0.00036 $$\n",
    "$$ P(X=7) = 0.000128 $$\n",
    "\n",
    "Finalmente,\n",
    "\n",
    "$$ P(5 \\leq X \\leq 7) = 0.0043 + 0.00036 + 0.000128 = 0.0048 $$\n",
    "\n",
    "\n",
    "\n",
    " \n",
    "\n",
    " \n"
   ]
  },
  {
   "cell_type": "code",
   "execution_count": 5,
   "id": "c31fa0a2",
   "metadata": {},
   "outputs": [
    {
     "name": "stdout",
     "output_type": "stream",
     "text": [
      "P(X=7) = 0.000013\n",
      "P(X>=3) = 0.148\n",
      "P(5<=X<=7) = 0.004672\n"
     ]
    }
   ],
   "source": [
    "# Cálculos en Python:\n",
    "#librerias necesarias\n",
    "import math\n",
    "from scipy.stats import binom\n",
    "#Parámetros de la distribución binomial\n",
    "\n",
    "n=7 # Número de ensayos\n",
    "p=0.2 # Probabilidad de éxito ( obtener una respuesta correcta)\n",
    " \n",
    "\n",
    "#a)  Probabilidad de que exactamente 7 respuestas estén correctas\n",
    "prob_X_equals_7 = binom.pmf(n, 7, p)\n",
    "print(f\"P(X=7) = {prob_X_equals_7:.6f}\")\n",
    "\n",
    "# Probabilidad de que al menos 3 respuestas estén correctas\n",
    "prob_X_greather_3 = 1 - sum(binom.pmf(k, n, p) for k in range(3))\n",
    "print(f\"P(X>=3) = {prob_X_greather_3:.3f}\")\n",
    "\n",
    "# Probabilidad de que entre 5 y 7 respuestas estén correctas\n",
    "prob_X_5_to_7 = sum(binom.pmf(k, n, p) for k in range(5, 8))\n",
    "print(f\"P(5<=X<=7) = {prob_X_5_to_7:.6f}\")\n"
   ]
  },
  {
   "cell_type": "code",
   "execution_count": 13,
   "id": "0b8f5727",
   "metadata": {},
   "outputs": [
    {
     "data": {
      "image/png": "[encoded data removed]",
      "text/plain": [
       "<Figure size 720x432 with 1 Axes>"
      ]
     },
     "metadata": {
      "needs_background": "light"
     },
     "output_type": "display_data"
    }
   ],
   "source": [
    "#Gráfico de la distribución de probabilidad\n",
    "\n",
    "import matplotlib.pyplot as plt\n",
    "import numpy as np\n",
    "\n",
    "# Parámetros de la distribución binomial\n",
    "n = 7\n",
    "p = 0.2\n",
    "\n",
    "# Valores de X (número de respuestas correctas)\n",
    "x = np.arange(0, n + 1)\n",
    "\n",
    "# Probabilidades correspondientes\n",
    "probabilities = binom.pmf(x, n, p)\n",
    "\n",
    "# Crear el diagrama de barras\n",
    "plt.figure(figsize=(10, 6))\n",
    "plt.bar(x, probabilities, color='gray', edgecolor='black')\n",
    "plt.xlabel('Número de Respuestas Correctas')\n",
    "plt.ylabel('Probabilidad')\n",
    "plt.title('Distribución Binomial de Respuestas Correctas en el Examen Parcial')\n",
    "plt.xticks(x)\n",
    "plt.grid(axis='y', linestyle='--', alpha=0.7)\n",
    "\n",
    "# Mostrar el valor de las probabilidades sobre cada barra\n",
    "for i in range(len(x)):\n",
    "    plt.text(x[i], probabilities[i] + 0.005, f'{probabilities[i]*100:.2f}%', ha='center')\n",
    "\n",
    "# Mostrar el gráfico\n",
    "plt.show()\n"
   ]
  },
  {
   "cell_type": "markdown",
   "id": "7b49fe90",
   "metadata": {},
   "source": [
    "### Ejemplo: (Varianza de una variable aleatoria)\n",
    "\n",
    "Dada una variable aleatoria X demuestre que su varianza se puede calcular como\n",
    "\n",
    "$$V(X)= E(X^2)-\\mu^2 $$,\n",
    "\n",
    "donde $\\mu$ denota el valor esperado de $X$."
   ]
  },
  {
   "cell_type": "markdown",
   "id": "6cdcd16b",
   "metadata": {},
   "source": [
    "### Ejemplo: (Distribución binomial)\n",
    "\n",
    "\n",
    "Una aseguradora afirma que uno de cada 10 accidentes automovilísticos son causados por fatiga del conductor. Determine la probabilidad de que más de tres de cinco accidentes automovilísticos no sean causado por fatiga del conductor.\n",
    "\n",
    "#### Solución: \n",
    "\n",
    "Consideraremos la distribución binomial que es la que mejor se ajusta. El número de ensayos es igual a 5 y como deseamos hallar la probabilidad de que más de tres de cinco accidentes automovilísticos no sean causado por fatiga del conductor, denotaremos como X la variable aleatoria que cuenta el número de accidentes automovilísticos que no son causados por fatiga del conductor.\n",
    "\n",
    "Así X tiene distribución binomial con parámetros:\n",
    "\n",
    "Número de ensayos: 5 ( se tomas cinco accidentes para el estudio)\n",
    "\n",
    "Probabilidad de éxito = 0.9 (sabemos que 1 de 10 son causados por fatiga, así 9 de cada 10 no son causados por fatiga)\n",
    "\n",
    "Debemos hallar.\n",
    "$$ P(X>3)= 1- P(X\\leq 3)=1- 0.0814 = 0.918 $$\n"
   ]
  },
  {
   "cell_type": "markdown",
   "id": "756b59c6",
   "metadata": {},
   "source": [
    "### Ejemplo: (Distribución de Poisson y Binomial)\n",
    "\n",
    "Una empresa de software recibe, en promedio, cinco solicitudes de soporte técnico por día. Encontrar la probabilidad de que se reciban más de 5 solicitudes en diferentes escenarios:\n",
    "\n",
    "1. En un día dado.\n",
    "2. En tres de los siguientes cuatro días.\n",
    "\n",
    "Solución:\n",
    "La variable aleatoria $X$, que representa el número de solicitudes de soporte técnico en un día, tiene una distribución de Poisson con parámetro $\\lambda = 5$.\n",
    "\n",
    "1. La probabilidad de que se reciban más de 5 solicitudes en un día dado es:\n",
    "    $$\n",
    "    P(X > 5) = 1 - P(X \\leq 5) = 1 - \\sum_{x=0}^{5} \\frac{e^{-5} \\cdot 5^x}{x!} \\approx 0.385\n",
    "    $$\n",
    "    \n",
    "2. Sea la variable aleatoria $Y$, que representa el número de días en los que se reciben más de 5 solicitudes en tres de los siguientes cuatro días. Esta variable tiene una distribución binomial con 4 ensayos independientes y una probabilidad de éxito igual a la probabilidad de que se reciban más de cinco solicitudes en un día cualquiera:\n",
    "    $$\n",
    "    P(Y = 3) = \\binom{4}{3} \\cdot 0.385^3 \\cdot 0.615^1 \\approx 0.1404\n",
    "    $$"
   ]
  },
  {
   "cell_type": "code",
   "execution_count": null,
   "id": "aba59e8b",
   "metadata": {},
   "outputs": [],
   "source": []
  }
 ],
 "metadata": {
  "kernelspec": {
   "display_name": "Python 3 (ipykernel)",
   "language": "python",
   "name": "python3"
  },
  "language_info": {
   "codemirror_mode": {
    "name": "ipython",
    "version": 3
   },
   "file_extension": ".py",
   "mimetype": "text/x-python",
   "name": "python",
   "nbconvert_exporter": "python",
   "pygments_lexer": "ipython3",
   "version": "3.9.12"
  }
 },
 "nbformat": 4,
 "nbformat_minor": 5
}
