{
 "cells": [
  {
   "cell_type": "code",
   "execution_count": 1,
   "id": "a18cc983",
   "metadata": {},
   "outputs": [],
   "source": [
    "import pandas as pd\n",
    "import numpy as np\n",
    "import matplotlib.pyplot as plt\n",
    "pd.set_option('display.precision', 2) \n",
    "# Configuramos Pandas para mostrar solo dos decimales en los valores numéricos\n"
   ]
  },
  {
   "cell_type": "code",
   "execution_count": 2,
   "id": "a4c23e9c",
   "metadata": {},
   "outputs": [],
   "source": [
    "#Ejemplo:\n",
    "# Datos de ejemplo\n",
    "x = [77, 18, 63, 84, ,34 59, 59, 54, 56, 36, 26, 34, 44,\n",
    "        41, 58, 58, 53, 51, 62, 43, 52, 53, 63, 62, 65, 51, 62, 60, 68, 45, 65, 83, 71, 63, 58, 61]\n",
    "    "
   ]
  },
  {
   "cell_type": "code",
   "execution_count": 16,
   "id": "1258ef70",
   "metadata": {},
   "outputs": [
    {
     "name": "stdout",
     "output_type": "stream",
     "text": [
      "9.428571428571429\n"
     ]
    }
   ],
   "source": [
    "# definimos el número de clases:\n",
    "num_clases = 7\n",
    "\n",
    "# hallamos el valor mínimo:\n",
    "val_min = min(x)\n",
    "\n",
    "# hallamos el valor máximo:\n",
    "val_max = max(x)\n",
    "\n",
    "# hallamos el ancho (amplitud) de la clase\n",
    "A = (val_max - val_min) / num_clases\n",
    "print(A)\n",
    "# Dado que A=9.42, podemos tomar el ancho de clases igual a 10 y considerar el primer intervalo de\n",
    "#clase partiendo de 16 con el fin de que el último intervalo tenga como límite superior a 86.\n",
    "\n",
    "A= 10"
   ]
  },
  {
   "cell_type": "code",
   "execution_count": 24,
   "id": "b3dff04b",
   "metadata": {},
   "outputs": [],
   "source": [
    "# Inciamos la primera clase en 16.\n",
    "# Definir los límites\n",
    "limites = [16+ A*i for i in range(num_clases+1)]   #limites = [16,26,36,...]"
   ]
  },
  {
   "cell_type": "code",
   "execution_count": 37,
   "id": "54c358c3",
   "metadata": {},
   "outputs": [],
   "source": [
    "df = pd.cut(x,bins =limites, include_lowest =True, right = False  )\n",
    "\n",
    "df = pd.value_counts(df,sort = False).reset_index()"
   ]
  },
  {
   "cell_type": "code",
   "execution_count": 38,
   "id": "7506fd99",
   "metadata": {},
   "outputs": [],
   "source": [
    "df.columns = ['Intervalo','Frecuencia']"
   ]
  },
  {
   "cell_type": "code",
   "execution_count": 39,
   "id": "f2ac8a74",
   "metadata": {},
   "outputs": [
    {
     "data": {
      "text/html": [
       "<div>\n",
       "<style scoped>\n",
       "    .dataframe tbody tr th:only-of-type {\n",
       "        vertical-align: middle;\n",
       "    }\n",
       "\n",
       "    .dataframe tbody tr th {\n",
       "        vertical-align: top;\n",
       "    }\n",
       "\n",
       "    .dataframe thead th {\n",
       "        text-align: right;\n",
       "    }\n",
       "</style>\n",
       "<table border=\"1\" class=\"dataframe\">\n",
       "  <thead>\n",
       "    <tr style=\"text-align: right;\">\n",
       "      <th></th>\n",
       "      <th>Intervalo</th>\n",
       "      <th>Frecuencia</th>\n",
       "    </tr>\n",
       "  </thead>\n",
       "  <tbody>\n",
       "    <tr>\n",
       "      <th>0</th>\n",
       "      <td>[16, 26)</td>\n",
       "      <td>1</td>\n",
       "    </tr>\n",
       "    <tr>\n",
       "      <th>1</th>\n",
       "      <td>[26, 36)</td>\n",
       "      <td>3</td>\n",
       "    </tr>\n",
       "    <tr>\n",
       "      <th>2</th>\n",
       "      <td>[36, 46)</td>\n",
       "      <td>5</td>\n",
       "    </tr>\n",
       "    <tr>\n",
       "      <th>3</th>\n",
       "      <td>[46, 56)</td>\n",
       "      <td>6</td>\n",
       "    </tr>\n",
       "    <tr>\n",
       "      <th>4</th>\n",
       "      <td>[56, 66)</td>\n",
       "      <td>16</td>\n",
       "    </tr>\n",
       "    <tr>\n",
       "      <th>5</th>\n",
       "      <td>[66, 76)</td>\n",
       "      <td>2</td>\n",
       "    </tr>\n",
       "    <tr>\n",
       "      <th>6</th>\n",
       "      <td>[76, 86)</td>\n",
       "      <td>3</td>\n",
       "    </tr>\n",
       "  </tbody>\n",
       "</table>\n",
       "</div>"
      ],
      "text/plain": [
       "  Intervalo  Frecuencia\n",
       "0  [16, 26)           1\n",
       "1  [26, 36)           3\n",
       "2  [36, 46)           5\n",
       "3  [46, 56)           6\n",
       "4  [56, 66)          16\n",
       "5  [66, 76)           2\n",
       "6  [76, 86)           3"
      ]
     },
     "execution_count": 39,
     "metadata": {},
     "output_type": "execute_result"
    }
   ],
   "source": [
    "df"
   ]
  },
  {
   "cell_type": "code",
   "execution_count": 40,
   "id": "05774852",
   "metadata": {},
   "outputs": [],
   "source": [
    "df['Frecuencia acumulada'] = df['Frecuencia'].cumsum()"
   ]
  },
  {
   "cell_type": "code",
   "execution_count": 41,
   "id": "d911c31f",
   "metadata": {},
   "outputs": [
    {
     "data": {
      "text/html": [
       "<div>\n",
       "<style scoped>\n",
       "    .dataframe tbody tr th:only-of-type {\n",
       "        vertical-align: middle;\n",
       "    }\n",
       "\n",
       "    .dataframe tbody tr th {\n",
       "        vertical-align: top;\n",
       "    }\n",
       "\n",
       "    .dataframe thead th {\n",
       "        text-align: right;\n",
       "    }\n",
       "</style>\n",
       "<table border=\"1\" class=\"dataframe\">\n",
       "  <thead>\n",
       "    <tr style=\"text-align: right;\">\n",
       "      <th></th>\n",
       "      <th>Intervalo</th>\n",
       "      <th>Frecuencia</th>\n",
       "      <th>Frecuencia acumulada</th>\n",
       "    </tr>\n",
       "  </thead>\n",
       "  <tbody>\n",
       "    <tr>\n",
       "      <th>0</th>\n",
       "      <td>[16, 26)</td>\n",
       "      <td>1</td>\n",
       "      <td>1</td>\n",
       "    </tr>\n",
       "    <tr>\n",
       "      <th>1</th>\n",
       "      <td>[26, 36)</td>\n",
       "      <td>3</td>\n",
       "      <td>4</td>\n",
       "    </tr>\n",
       "    <tr>\n",
       "      <th>2</th>\n",
       "      <td>[36, 46)</td>\n",
       "      <td>5</td>\n",
       "      <td>9</td>\n",
       "    </tr>\n",
       "    <tr>\n",
       "      <th>3</th>\n",
       "      <td>[46, 56)</td>\n",
       "      <td>6</td>\n",
       "      <td>15</td>\n",
       "    </tr>\n",
       "    <tr>\n",
       "      <th>4</th>\n",
       "      <td>[56, 66)</td>\n",
       "      <td>16</td>\n",
       "      <td>31</td>\n",
       "    </tr>\n",
       "    <tr>\n",
       "      <th>5</th>\n",
       "      <td>[66, 76)</td>\n",
       "      <td>2</td>\n",
       "      <td>33</td>\n",
       "    </tr>\n",
       "    <tr>\n",
       "      <th>6</th>\n",
       "      <td>[76, 86)</td>\n",
       "      <td>3</td>\n",
       "      <td>36</td>\n",
       "    </tr>\n",
       "  </tbody>\n",
       "</table>\n",
       "</div>"
      ],
      "text/plain": [
       "  Intervalo  Frecuencia  Frecuencia acumulada\n",
       "0  [16, 26)           1                     1\n",
       "1  [26, 36)           3                     4\n",
       "2  [36, 46)           5                     9\n",
       "3  [46, 56)           6                    15\n",
       "4  [56, 66)          16                    31\n",
       "5  [66, 76)           2                    33\n",
       "6  [76, 86)           3                    36"
      ]
     },
     "execution_count": 41,
     "metadata": {},
     "output_type": "execute_result"
    }
   ],
   "source": [
    "df"
   ]
  },
  {
   "cell_type": "code",
   "execution_count": 42,
   "id": "dfe270cf",
   "metadata": {},
   "outputs": [
    {
     "data": {
      "text/plain": [
       "36"
      ]
     },
     "execution_count": 42,
     "metadata": {},
     "output_type": "execute_result"
    }
   ],
   "source": [
    "len(x)"
   ]
  },
  {
   "cell_type": "code",
   "execution_count": 43,
   "id": "75ff3bc8",
   "metadata": {},
   "outputs": [],
   "source": [
    "df['Frecuencia relativa'] = df['Frecuencia'] / len(x)"
   ]
  },
  {
   "cell_type": "code",
   "execution_count": 44,
   "id": "350ebe2c",
   "metadata": {},
   "outputs": [
    {
     "data": {
      "text/html": [
       "<div>\n",
       "<style scoped>\n",
       "    .dataframe tbody tr th:only-of-type {\n",
       "        vertical-align: middle;\n",
       "    }\n",
       "\n",
       "    .dataframe tbody tr th {\n",
       "        vertical-align: top;\n",
       "    }\n",
       "\n",
       "    .dataframe thead th {\n",
       "        text-align: right;\n",
       "    }\n",
       "</style>\n",
       "<table border=\"1\" class=\"dataframe\">\n",
       "  <thead>\n",
       "    <tr style=\"text-align: right;\">\n",
       "      <th></th>\n",
       "      <th>Intervalo</th>\n",
       "      <th>Frecuencia</th>\n",
       "      <th>Frecuencia acumulada</th>\n",
       "      <th>Frecuencia relativa</th>\n",
       "    </tr>\n",
       "  </thead>\n",
       "  <tbody>\n",
       "    <tr>\n",
       "      <th>0</th>\n",
       "      <td>[16, 26)</td>\n",
       "      <td>1</td>\n",
       "      <td>1</td>\n",
       "      <td>0.027778</td>\n",
       "    </tr>\n",
       "    <tr>\n",
       "      <th>1</th>\n",
       "      <td>[26, 36)</td>\n",
       "      <td>3</td>\n",
       "      <td>4</td>\n",
       "      <td>0.083333</td>\n",
       "    </tr>\n",
       "    <tr>\n",
       "      <th>2</th>\n",
       "      <td>[36, 46)</td>\n",
       "      <td>5</td>\n",
       "      <td>9</td>\n",
       "      <td>0.138889</td>\n",
       "    </tr>\n",
       "    <tr>\n",
       "      <th>3</th>\n",
       "      <td>[46, 56)</td>\n",
       "      <td>6</td>\n",
       "      <td>15</td>\n",
       "      <td>0.166667</td>\n",
       "    </tr>\n",
       "    <tr>\n",
       "      <th>4</th>\n",
       "      <td>[56, 66)</td>\n",
       "      <td>16</td>\n",
       "      <td>31</td>\n",
       "      <td>0.444444</td>\n",
       "    </tr>\n",
       "    <tr>\n",
       "      <th>5</th>\n",
       "      <td>[66, 76)</td>\n",
       "      <td>2</td>\n",
       "      <td>33</td>\n",
       "      <td>0.055556</td>\n",
       "    </tr>\n",
       "    <tr>\n",
       "      <th>6</th>\n",
       "      <td>[76, 86)</td>\n",
       "      <td>3</td>\n",
       "      <td>36</td>\n",
       "      <td>0.083333</td>\n",
       "    </tr>\n",
       "  </tbody>\n",
       "</table>\n",
       "</div>"
      ],
      "text/plain": [
       "  Intervalo  Frecuencia  Frecuencia acumulada  Frecuencia relativa\n",
       "0  [16, 26)           1                     1             0.027778\n",
       "1  [26, 36)           3                     4             0.083333\n",
       "2  [36, 46)           5                     9             0.138889\n",
       "3  [46, 56)           6                    15             0.166667\n",
       "4  [56, 66)          16                    31             0.444444\n",
       "5  [66, 76)           2                    33             0.055556\n",
       "6  [76, 86)           3                    36             0.083333"
      ]
     },
     "execution_count": 44,
     "metadata": {},
     "output_type": "execute_result"
    }
   ],
   "source": [
    "df"
   ]
  },
  {
   "cell_type": "markdown",
   "id": "4b8caef5",
   "metadata": {},
   "source": [
    "# Ejemplo: \n",
    "Considere la base de datos de los indices de peso\n",
    "\n",
    "https://www.kaggle.com/datasets/fatemehmehrparvar/obesity-levels\n",
    "\n",
    "y considere la columna `Weight`.  \n",
    "\n",
    "Calcula una tabla de frecuencias para la variable 'Weight' \n",
    "tomando como límite inferior del primer intervalo el primer cuartil Q1 y como limite superior del último intervalo el tercer cuartil  Q3 el conjunto de datos proporcionado. Considere un número de clases apropiado escogiendo un valor entre 5 y 20.\n",
    "\n",
    "Discute los resultados y preséntalos en un gráfico.\n"
   ]
  },
  {
   "cell_type": "code",
   "execution_count": 45,
   "id": "2718f990",
   "metadata": {},
   "outputs": [],
   "source": [
    "data = pd.read_csv('data.csv')"
   ]
  },
  {
   "cell_type": "code",
   "execution_count": 56,
   "id": "396317c1",
   "metadata": {
    "scrolled": true
   },
   "outputs": [],
   "source": [
    "# Calculemos el primer y el tercer cuartil\n",
    "\n",
    "q1 = np.quantile(data['Weight'],0.25)\n",
    "q3 = np.quantile(data['Weight'],0.75)\n"
   ]
  },
  {
   "cell_type": "code",
   "execution_count": 57,
   "id": "9a80ebea",
   "metadata": {},
   "outputs": [],
   "source": [
    "# datos filtrados\n",
    "\n",
    "filtered_data = data[(data['Weight']>= q1) &  (data['Weight']<= q3)]\n"
   ]
  },
  {
   "cell_type": "code",
   "execution_count": 74,
   "id": "288e3e9e",
   "metadata": {},
   "outputs": [],
   "source": [
    "# definamos el número de clases:\n",
    "num_clases = 10\n",
    "\n",
    "rango = q3 - q1"
   ]
  },
  {
   "cell_type": "code",
   "execution_count": 75,
   "id": "3d452f07",
   "metadata": {},
   "outputs": [],
   "source": [
    "A = rango / num_clases"
   ]
  },
  {
   "cell_type": "code",
   "execution_count": 76,
   "id": "3c725709",
   "metadata": {},
   "outputs": [
    {
     "data": {
      "text/plain": [
       "4.1957339000000005"
      ]
     },
     "execution_count": 76,
     "metadata": {},
     "output_type": "execute_result"
    }
   ],
   "source": [
    "A"
   ]
  },
  {
   "cell_type": "code",
   "execution_count": 77,
   "id": "9d3c46e5",
   "metadata": {},
   "outputs": [],
   "source": [
    "limites = [q1 +A * i for i in range(num_clases+1)]\n",
    "\n",
    "df = pd.cut(filtered_data['Weight'], bins = limites,include_lowest = True, right = False )\n",
    "df= pd.value_counts(df,sort=False).reset_index()"
   ]
  },
  {
   "cell_type": "code",
   "execution_count": 81,
   "id": "feec756a",
   "metadata": {},
   "outputs": [
    {
     "name": "stdout",
     "output_type": "stream",
     "text": [
      "            Intervalo  Frecuencia Marca de clase  Frecuencia acumulada  \\\n",
      "0    [65.473, 69.669)          81          67.57                    81   \n",
      "1    [69.669, 73.865)          88          71.77                   169   \n",
      "2    [73.865, 78.061)         140          75.96                   309   \n",
      "3    [78.061, 82.256)         187          80.16                   496   \n",
      "4    [82.256, 86.452)         142          84.35                   638   \n",
      "5    [86.452, 90.648)         107          88.55                   745   \n",
      "6    [90.648, 94.843)          40          92.75                   785   \n",
      "7    [94.843, 99.039)          64          96.94                   849   \n",
      "8   [99.039, 103.235)          83         101.14                   932   \n",
      "9  [103.235, 107.431)         123         105.33                  1055   \n",
      "\n",
      "   Frecuencia relativa  Frecuencia relativa acumulada  \n",
      "0                 0.04                           0.04  \n",
      "1                 0.04                           0.08  \n",
      "2                 0.07                           0.15  \n",
      "3                 0.09                           0.23  \n",
      "4                 0.07                           0.30  \n",
      "5                 0.05                           0.35  \n",
      "6                 0.02                           0.37  \n",
      "7                 0.03                           0.40  \n",
      "8                 0.04                           0.44  \n",
      "9                 0.06                           0.50  \n"
     ]
    }
   ],
   "source": [
    "df.columns = ['Intervalo', 'Frecuencia']\n",
    "\n",
    "\n",
    "#Calculamos la marca de clase:\n",
    "df['Marca de clase'] = df['Intervalo'].apply(lambda x: (x.left + x.right) / 2)\n",
    "\n",
    "# Calcular la frecuencia acumulada\n",
    "df['Frecuencia acumulada'] = df['Frecuencia'].cumsum()\n",
    "\n",
    "\n",
    "\n",
    "# Calcular la frecuencia relativa\n",
    "df['Frecuencia relativa'] = df['Frecuencia'] / len(data)\n",
    "\n",
    "# Calcular la frecuencia relativa acumulada\n",
    "df['Frecuencia relativa acumulada'] = df['Frecuencia relativa'].cumsum()\n",
    "\n",
    "# Mostrar la tabla de frecuencias\n",
    "print(df)\n"
   ]
  },
  {
   "cell_type": "code",
   "execution_count": 85,
   "id": "106e779d",
   "metadata": {},
   "outputs": [
    {
     "data": {
      "text/html": [
       "<div>\n",
       "<style scoped>\n",
       "    .dataframe tbody tr th:only-of-type {\n",
       "        vertical-align: middle;\n",
       "    }\n",
       "\n",
       "    .dataframe tbody tr th {\n",
       "        vertical-align: top;\n",
       "    }\n",
       "\n",
       "    .dataframe thead th {\n",
       "        text-align: right;\n",
       "    }\n",
       "</style>\n",
       "<table border=\"1\" class=\"dataframe\">\n",
       "  <thead>\n",
       "    <tr style=\"text-align: right;\">\n",
       "      <th></th>\n",
       "      <th>Intervalo</th>\n",
       "      <th>Frecuencia</th>\n",
       "      <th>Marca de clase</th>\n",
       "      <th>Frecuencia acumulada</th>\n",
       "      <th>Frecuencia relativa</th>\n",
       "      <th>Frecuencia relativa acumulada</th>\n",
       "    </tr>\n",
       "  </thead>\n",
       "  <tbody>\n",
       "    <tr>\n",
       "      <th>0</th>\n",
       "      <td>[65.473, 69.669)</td>\n",
       "      <td>81</td>\n",
       "      <td>67.57</td>\n",
       "      <td>81</td>\n",
       "      <td>0.04</td>\n",
       "      <td>0.04</td>\n",
       "    </tr>\n",
       "    <tr>\n",
       "      <th>1</th>\n",
       "      <td>[69.669, 73.865)</td>\n",
       "      <td>88</td>\n",
       "      <td>71.77</td>\n",
       "      <td>169</td>\n",
       "      <td>0.04</td>\n",
       "      <td>0.08</td>\n",
       "    </tr>\n",
       "    <tr>\n",
       "      <th>2</th>\n",
       "      <td>[73.865, 78.061)</td>\n",
       "      <td>140</td>\n",
       "      <td>75.96</td>\n",
       "      <td>309</td>\n",
       "      <td>0.07</td>\n",
       "      <td>0.15</td>\n",
       "    </tr>\n",
       "    <tr>\n",
       "      <th>3</th>\n",
       "      <td>[78.061, 82.256)</td>\n",
       "      <td>187</td>\n",
       "      <td>80.16</td>\n",
       "      <td>496</td>\n",
       "      <td>0.09</td>\n",
       "      <td>0.23</td>\n",
       "    </tr>\n",
       "    <tr>\n",
       "      <th>4</th>\n",
       "      <td>[82.256, 86.452)</td>\n",
       "      <td>142</td>\n",
       "      <td>84.35</td>\n",
       "      <td>638</td>\n",
       "      <td>0.07</td>\n",
       "      <td>0.30</td>\n",
       "    </tr>\n",
       "    <tr>\n",
       "      <th>5</th>\n",
       "      <td>[86.452, 90.648)</td>\n",
       "      <td>107</td>\n",
       "      <td>88.55</td>\n",
       "      <td>745</td>\n",
       "      <td>0.05</td>\n",
       "      <td>0.35</td>\n",
       "    </tr>\n",
       "    <tr>\n",
       "      <th>6</th>\n",
       "      <td>[90.648, 94.843)</td>\n",
       "      <td>40</td>\n",
       "      <td>92.75</td>\n",
       "      <td>785</td>\n",
       "      <td>0.02</td>\n",
       "      <td>0.37</td>\n",
       "    </tr>\n",
       "    <tr>\n",
       "      <th>7</th>\n",
       "      <td>[94.843, 99.039)</td>\n",
       "      <td>64</td>\n",
       "      <td>96.94</td>\n",
       "      <td>849</td>\n",
       "      <td>0.03</td>\n",
       "      <td>0.40</td>\n",
       "    </tr>\n",
       "    <tr>\n",
       "      <th>8</th>\n",
       "      <td>[99.039, 103.235)</td>\n",
       "      <td>83</td>\n",
       "      <td>101.14</td>\n",
       "      <td>932</td>\n",
       "      <td>0.04</td>\n",
       "      <td>0.44</td>\n",
       "    </tr>\n",
       "    <tr>\n",
       "      <th>9</th>\n",
       "      <td>[103.235, 107.431)</td>\n",
       "      <td>123</td>\n",
       "      <td>105.33</td>\n",
       "      <td>1055</td>\n",
       "      <td>0.06</td>\n",
       "      <td>0.50</td>\n",
       "    </tr>\n",
       "  </tbody>\n",
       "</table>\n",
       "</div>"
      ],
      "text/plain": [
       "            Intervalo  Frecuencia Marca de clase  Frecuencia acumulada  \\\n",
       "0    [65.473, 69.669)          81          67.57                    81   \n",
       "1    [69.669, 73.865)          88          71.77                   169   \n",
       "2    [73.865, 78.061)         140          75.96                   309   \n",
       "3    [78.061, 82.256)         187          80.16                   496   \n",
       "4    [82.256, 86.452)         142          84.35                   638   \n",
       "5    [86.452, 90.648)         107          88.55                   745   \n",
       "6    [90.648, 94.843)          40          92.75                   785   \n",
       "7    [94.843, 99.039)          64          96.94                   849   \n",
       "8   [99.039, 103.235)          83         101.14                   932   \n",
       "9  [103.235, 107.431)         123         105.33                  1055   \n",
       "\n",
       "   Frecuencia relativa  Frecuencia relativa acumulada  \n",
       "0                 0.04                           0.04  \n",
       "1                 0.04                           0.08  \n",
       "2                 0.07                           0.15  \n",
       "3                 0.09                           0.23  \n",
       "4                 0.07                           0.30  \n",
       "5                 0.05                           0.35  \n",
       "6                 0.02                           0.37  \n",
       "7                 0.03                           0.40  \n",
       "8                 0.04                           0.44  \n",
       "9                 0.06                           0.50  "
      ]
     },
     "execution_count": 85,
     "metadata": {},
     "output_type": "execute_result"
    }
   ],
   "source": [
    "df"
   ]
  },
  {
   "cell_type": "code",
   "execution_count": 86,
   "id": "f2b3e530",
   "metadata": {},
   "outputs": [
    {
     "data": {
      "image/png": "[encoded data removed]",
      "text/plain": [
       "<Figure size 576x576 with 1 Axes>"
      ]
     },
     "metadata": {
      "needs_background": "light"
     },
     "output_type": "display_data"
    }
   ],
   "source": [
    "bins = df['Marca de clase'].tolist()\n",
    "# Frecuencias para cada bin\n",
    "frequencies = df['Frecuencia'].tolist()\n",
    "\n",
    "plt.figure(figsize=(8, 8))  # tamaño del gráfico\n",
    "plt.bar(bins, frequencies,width=A, edgecolor='black', align='center', color='skyblue')\n",
    "plt.xticks(ticks=bins, labels=bins, rotation=45, ha='right')  # Ajustar los ticks y etiquetas\n",
    "plt.title('Tabla de Frecuencia para la variable Weight')\n",
    "plt.ylabel('Frecuencia')\n",
    "plt.show()"
   ]
  },
  {
   "cell_type": "code",
   "execution_count": 84,
   "id": "e90b2dff",
   "metadata": {},
   "outputs": [
    {
     "data": {
      "text/plain": [
       "[67.571,\n",
       " 71.767,\n",
       " 75.963,\n",
       " 80.1585,\n",
       " 84.354,\n",
       " 88.55,\n",
       " 92.74549999999999,\n",
       " 96.941,\n",
       " 101.137,\n",
       " 105.333]"
      ]
     },
     "execution_count": 84,
     "metadata": {},
     "output_type": "execute_result"
    }
   ],
   "source": [
    "bins"
   ]
  },
  {
   "cell_type": "markdown",
   "id": "cd0198a5",
   "metadata": {},
   "source": [
    "## Diagrama de dispersión X-Y:\n",
    "\n",
    "El diagrama de dispersión o gráfico X-Y representa los pares de datos de dos conjuntos de datos. El eje horizontal x muestra los valores del conjunto x, mientras que el eje vertical y muestra los valores correspondientes del conjunto. Opcionalmente, puedes incluir la línea de regresión y el coeficiente de correlación.\n",
    "\n",
    "# Ejemplo: \n",
    "\n",
    "Considere la base datos  de Kaggle:(Obesity Levels)  \n",
    "\n",
    "https://www.kaggle.com/datasets/fatemehmehrparvar/obesity-levels \n",
    "\n",
    "y analicemos si existe alguna relación entre la altura y el peso."
   ]
  },
  {
   "cell_type": "code",
   "execution_count": 2,
   "id": "710f5d94",
   "metadata": {},
   "outputs": [],
   "source": [
    "df =pd.read_csv('data.csv')"
   ]
  },
  {
   "cell_type": "code",
   "execution_count": 14,
   "id": "15406d06",
   "metadata": {},
   "outputs": [
    {
     "data": {
      "text/html": [
       "<div>\n",
       "<style scoped>\n",
       "    .dataframe tbody tr th:only-of-type {\n",
       "        vertical-align: middle;\n",
       "    }\n",
       "\n",
       "    .dataframe tbody tr th {\n",
       "        vertical-align: top;\n",
       "    }\n",
       "\n",
       "    .dataframe thead th {\n",
       "        text-align: right;\n",
       "    }\n",
       "</style>\n",
       "<table border=\"1\" class=\"dataframe\">\n",
       "  <thead>\n",
       "    <tr style=\"text-align: right;\">\n",
       "      <th></th>\n",
       "      <th>Age</th>\n",
       "      <th>Height</th>\n",
       "      <th>Weight</th>\n",
       "      <th>FCVC</th>\n",
       "      <th>NCP</th>\n",
       "      <th>CH2O</th>\n",
       "      <th>FAF</th>\n",
       "      <th>TUE</th>\n",
       "    </tr>\n",
       "  </thead>\n",
       "  <tbody>\n",
       "    <tr>\n",
       "      <th>count</th>\n",
       "      <td>2111.00</td>\n",
       "      <td>2111.00</td>\n",
       "      <td>2111.00</td>\n",
       "      <td>2111.00</td>\n",
       "      <td>2111.00</td>\n",
       "      <td>2111.00</td>\n",
       "      <td>2111.00</td>\n",
       "      <td>2111.00</td>\n",
       "    </tr>\n",
       "    <tr>\n",
       "      <th>mean</th>\n",
       "      <td>24.31</td>\n",
       "      <td>1.70</td>\n",
       "      <td>86.59</td>\n",
       "      <td>2.42</td>\n",
       "      <td>2.69</td>\n",
       "      <td>2.01</td>\n",
       "      <td>1.01</td>\n",
       "      <td>0.66</td>\n",
       "    </tr>\n",
       "    <tr>\n",
       "      <th>std</th>\n",
       "      <td>6.35</td>\n",
       "      <td>0.09</td>\n",
       "      <td>26.19</td>\n",
       "      <td>0.53</td>\n",
       "      <td>0.78</td>\n",
       "      <td>0.61</td>\n",
       "      <td>0.85</td>\n",
       "      <td>0.61</td>\n",
       "    </tr>\n",
       "    <tr>\n",
       "      <th>min</th>\n",
       "      <td>14.00</td>\n",
       "      <td>1.45</td>\n",
       "      <td>39.00</td>\n",
       "      <td>1.00</td>\n",
       "      <td>1.00</td>\n",
       "      <td>1.00</td>\n",
       "      <td>0.00</td>\n",
       "      <td>0.00</td>\n",
       "    </tr>\n",
       "    <tr>\n",
       "      <th>25%</th>\n",
       "      <td>19.95</td>\n",
       "      <td>1.63</td>\n",
       "      <td>65.47</td>\n",
       "      <td>2.00</td>\n",
       "      <td>2.66</td>\n",
       "      <td>1.58</td>\n",
       "      <td>0.12</td>\n",
       "      <td>0.00</td>\n",
       "    </tr>\n",
       "    <tr>\n",
       "      <th>50%</th>\n",
       "      <td>22.78</td>\n",
       "      <td>1.70</td>\n",
       "      <td>83.00</td>\n",
       "      <td>2.39</td>\n",
       "      <td>3.00</td>\n",
       "      <td>2.00</td>\n",
       "      <td>1.00</td>\n",
       "      <td>0.63</td>\n",
       "    </tr>\n",
       "    <tr>\n",
       "      <th>75%</th>\n",
       "      <td>26.00</td>\n",
       "      <td>1.77</td>\n",
       "      <td>107.43</td>\n",
       "      <td>3.00</td>\n",
       "      <td>3.00</td>\n",
       "      <td>2.48</td>\n",
       "      <td>1.67</td>\n",
       "      <td>1.00</td>\n",
       "    </tr>\n",
       "    <tr>\n",
       "      <th>max</th>\n",
       "      <td>61.00</td>\n",
       "      <td>1.98</td>\n",
       "      <td>173.00</td>\n",
       "      <td>3.00</td>\n",
       "      <td>4.00</td>\n",
       "      <td>3.00</td>\n",
       "      <td>3.00</td>\n",
       "      <td>2.00</td>\n",
       "    </tr>\n",
       "  </tbody>\n",
       "</table>\n",
       "</div>"
      ],
      "text/plain": [
       "           Age   Height   Weight     FCVC      NCP     CH2O      FAF      TUE\n",
       "count  2111.00  2111.00  2111.00  2111.00  2111.00  2111.00  2111.00  2111.00\n",
       "mean     24.31     1.70    86.59     2.42     2.69     2.01     1.01     0.66\n",
       "std       6.35     0.09    26.19     0.53     0.78     0.61     0.85     0.61\n",
       "min      14.00     1.45    39.00     1.00     1.00     1.00     0.00     0.00\n",
       "25%      19.95     1.63    65.47     2.00     2.66     1.58     0.12     0.00\n",
       "50%      22.78     1.70    83.00     2.39     3.00     2.00     1.00     0.63\n",
       "75%      26.00     1.77   107.43     3.00     3.00     2.48     1.67     1.00\n",
       "max      61.00     1.98   173.00     3.00     4.00     3.00     3.00     2.00"
      ]
     },
     "execution_count": 14,
     "metadata": {},
     "output_type": "execute_result"
    }
   ],
   "source": [
    "df.describe()"
   ]
  },
  {
   "cell_type": "code",
   "execution_count": 6,
   "id": "3eabfee6",
   "metadata": {},
   "outputs": [],
   "source": [
    "# Identificamos los valores x y para gráficar el diagrama de dispersión:\n",
    "\n",
    "x=df['Height']\n",
    "y=df['Weight']"
   ]
  },
  {
   "cell_type": "code",
   "execution_count": 9,
   "id": "7678f5f3",
   "metadata": {},
   "outputs": [
    {
     "data": {
      "image/png": "[encoded data removed]",
      "text/plain": [
       "<Figure size 432x288 with 1 Axes>"
      ]
     },
     "metadata": {
      "needs_background": "light"
     },
     "output_type": "display_data"
    }
   ],
   "source": [
    "fig, ax = plt.subplots()\n",
    "ax.plot(x,y,linewidth =0,marker ='o')\n",
    "plt.show()"
   ]
  },
  {
   "cell_type": "code",
   "execution_count": 10,
   "id": "9aef076c",
   "metadata": {},
   "outputs": [],
   "source": [
    "#Que pasa si filtramos los datos y solo hacemos el estudio para mujeres y luego para hombres.\n",
    "df_filtreded = df[df['Gender']=='Female']"
   ]
  },
  {
   "cell_type": "code",
   "execution_count": 12,
   "id": "706013eb",
   "metadata": {},
   "outputs": [
    {
     "data": {
      "image/png": "[encoded data removed]",
      "text/plain": [
       "<Figure size 432x288 with 1 Axes>"
      ]
     },
     "metadata": {
      "needs_background": "light"
     },
     "output_type": "display_data"
    }
   ],
   "source": [
    "\n",
    "\n",
    "\n",
    "# Identificamos los valores x y para gráficar el diagrama de dispersión:\n",
    "\n",
    "x=df_filtreded['Height']\n",
    "y=df_filtreded['Weight']\n",
    "\n",
    "fig, ax = plt.subplots()\n",
    "ax.plot(x,y,linewidth =0,marker ='o')\n",
    "plt.show()"
   ]
  },
  {
   "cell_type": "code",
   "execution_count": 13,
   "id": "4cfb96e1",
   "metadata": {},
   "outputs": [
    {
     "data": {
      "image/png": "[encoded data removed]",
      "text/plain": [
       "<Figure size 432x288 with 1 Axes>"
      ]
     },
     "metadata": {
      "needs_background": "light"
     },
     "output_type": "display_data"
    }
   ],
   "source": [
    "df_filtreded_m = df[df['Gender']=='Male']\n",
    "# Identificamos los valores x y para gráficar el diagrama de dispersión:\n",
    "\n",
    "x=df_filtreded_m['Height']\n",
    "y=df_filtreded_m['Weight']\n",
    "\n",
    "fig, ax = plt.subplots()\n",
    "ax.plot(x,y,linewidth =0,marker ='o')\n",
    "plt.show()"
   ]
  },
  {
   "cell_type": "code",
   "execution_count": 17,
   "id": "e1b69a0c",
   "metadata": {},
   "outputs": [
    {
     "data": {
      "image/png": "[encoded data removed]",
      "text/plain": [
       "<Figure size 432x288 with 1 Axes>"
      ]
     },
     "metadata": {
      "needs_background": "light"
     },
     "output_type": "display_data"
    }
   ],
   "source": [
    "#Relacion entre edad y peso\n",
    "x=df['Age']\n",
    "y=df['Weight']\n",
    "\n",
    "fig, ax = plt.subplots()\n",
    "ax.plot(x,y,linewidth =0,marker ='o')\n",
    "ax.set_xlabel('Age')\n",
    "ax.set_ylabel('Weight')\n",
    "plt.show()"
   ]
  },
  {
   "cell_type": "markdown",
   "id": "2519244e",
   "metadata": {},
   "source": [
    "## Diagrama de Puntos\n",
    "\n",
    "Un diagrama de puntos (dot plot) es útil para representar datos de manera que cada observación se mantiene distinta y visible. Se utiliza una recta numérica horizontal para ubicar los puntos que representan las observaciones individuales, apilando los puntos de observaciones idénticas o cercanas para preservar su identidad y permitir la visualización de la forma de la distribución, así como los valores extremos y acumulativos de los datos. Este tipo de diagrama es especialmente beneficioso para conjuntos de datos pequeños."
   ]
  },
  {
   "cell_type": "markdown",
   "id": "0b1265b2",
   "metadata": {},
   "source": [
    "### Ejemplo: \n",
    "(Tomado de https://proclusacademy.com/blog/practical/dot-plot-python-matplotlib/)\n",
    "\n",
    "Suppose the below list contains the heights (in inches) of 50 high school basketball players:\n",
    "\n",
    "How frequently does each height measurement occur? We can find the answer by drawing the dot plot."
   ]
  },
  {
   "cell_type": "code",
   "execution_count": 18,
   "id": "42e582ec",
   "metadata": {},
   "outputs": [],
   "source": [
    "hs_heights = np.array([\n",
    "    71, 67, 64, 72, 65, 69, 66, 68, 69, 72, \n",
    "    69, 73, 69, 72, 73, 74, 76, 68, 66, 63, \n",
    "    67, 71, 72, 74, 68, 69, 75, 71, 72, 72, \n",
    "    65, 66, 72, 74, 66, 62, 75, 75, 64, 63, \n",
    "    64, 66, 74, 67, 72, 70, 71, 70, 74, 68\n",
    "])"
   ]
  },
  {
   "cell_type": "code",
   "execution_count": 19,
   "id": "5b64f163",
   "metadata": {},
   "outputs": [],
   "source": [
    "# standard numpy and matplotlib library imports\n",
    "import numpy as np\n",
    "import matplotlib.pyplot as plt\n",
    " \n",
    "def dotplot(input_x, **args):\n",
    " \n",
    "    # Count how many times does each value occur\n",
    "    unique_values, counts = np.unique(input_x, return_counts=True)\n",
    "    \n",
    "    # Convert 1D input into 2D array\n",
    "    scatter_x = [] # x values \n",
    "    scatter_y = [] # corresponding y values\n",
    "    for idx, value in enumerate(unique_values):\n",
    "        for counter in range(1, counts[idx]+1):\n",
    "            scatter_x.append(value)\n",
    "            scatter_y.append(counter)\n",
    " \n",
    "    # draw dot plot using scatter() \n",
    "    plt.scatter(scatter_x, scatter_y, **args)\n",
    "    \n",
    "    # Optional - show all unique values on x-axis. \n",
    "    # Matplotlib might hide some of them  \n",
    "    plt.gca().set_xticks(unique_values)"
   ]
  },
  {
   "cell_type": "code",
   "execution_count": 20,
   "id": "b38b1505",
   "metadata": {},
   "outputs": [
    {
     "data": {
      "image/png": "[encoded data removed]",
      "text/plain": [
       "<Figure size 432x288 with 1 Axes>"
      ]
     },
     "metadata": {
      "needs_background": "light"
     },
     "output_type": "display_data"
    }
   ],
   "source": [
    "dotplot(hs_heights)"
   ]
  },
  {
   "cell_type": "code",
   "execution_count": 21,
   "id": "2846f454",
   "metadata": {},
   "outputs": [],
   "source": [
    "#Ejemplo:\n",
    "\n",
    "datos = [96, 93, 88, 117, 127, 95, 113, 96, 108, 94, 148, 156, 139, 142, 94, \n",
    "107, 125, 155, 155, 103, 112, 127, 117, 120, 112, 135, 132, 111, 125, 104, 106, \n",
    "139, 134, 119, 97, 89, 118, 136, 125, 143, 120, 103, 113, 124, 138]"
   ]
  },
  {
   "cell_type": "code",
   "execution_count": 24,
   "id": "ffca1187",
   "metadata": {},
   "outputs": [],
   "source": [
    "import sys\n",
    "import stemgraphic\n"
   ]
  },
  {
   "cell_type": "code",
   "execution_count": 27,
   "id": "7958a06a",
   "metadata": {},
   "outputs": [
    {
     "data": {
      "text/plain": [
       "(<Figure size 540x198 with 1 Axes>, <Axes:>)"
      ]
     },
     "execution_count": 27,
     "metadata": {},
     "output_type": "execute_result"
    },
    {
     "data": {
      "image/png": "[encoded data removed]",
      "text/plain": [
       "<Figure size 540x198 with 1 Axes>"
      ]
     },
     "metadata": {
      "needs_background": "light"
     },
     "output_type": "display_data"
    }
   ],
   "source": [
    "\n",
    "stemgraphic.stem_graphic(datos, scale = 10)"
   ]
  },
  {
   "cell_type": "markdown",
   "id": "eea7d052",
   "metadata": {},
   "source": [
    "### Ejemplo:\n",
    "Supongamos que tenemos una muestra sobre el ritmo cardíaco de 24 hombres,\n",
    "las observaciones son las siguientes:\n",
    "\n",
    "ritmo = [88, 80, 76, 72, 68, 56, 64, 60, 64, 68, 64, 68, 72, 76, 80, 84, 68, 80, 76, 72, 84, 80, 72, 76 ]\n",
    "\n",
    "Graficar el histograma de estas observaciones ( tomar bins = 8) Realizar un diagrama de tallos y hojas Realizar un diagrama de puntos"
   ]
  },
  {
   "cell_type": "code",
   "execution_count": 33,
   "id": "6b855c0c",
   "metadata": {},
   "outputs": [
    {
     "data": {
      "image/png": "[encoded data removed]",
      "text/plain": [
       "<Figure size 432x288 with 1 Axes>"
      ]
     },
     "metadata": {
      "needs_background": "light"
     },
     "output_type": "display_data"
    }
   ],
   "source": [
    "#\n",
    "ritmo = [88, 80, 76, 72, 68, 56, 64, 60, 64, 68, 64, 68, 72,\n",
    "         76, 80, 84, 68, 80, 76, 72, 84, 80, 72, 76 ]\n",
    "#Histograma:\n",
    "plt.hist(ritmo,bins=8,edgecolor= 'black')\n",
    "plt.xlabel('Ritmo')\n",
    "plt.ylabel('Número de hombres')\n",
    "plt.show()"
   ]
  },
  {
   "cell_type": "code",
   "execution_count": 34,
   "id": "052f1e06",
   "metadata": {},
   "outputs": [],
   "source": [
    "#Diagrama de puntos\n",
    "\n",
    "# standard numpy and matplotlib library imports\n",
    "import numpy as np\n",
    "import matplotlib.pyplot as plt\n",
    " \n",
    "def dotplot(input_x, **args):\n",
    " \n",
    "    # Count how many times does each value occur\n",
    "    unique_values, counts = np.unique(input_x, return_counts=True)\n",
    "    \n",
    "    # Convert 1D input into 2D array\n",
    "    scatter_x = [] # x values \n",
    "    scatter_y = [] # corresponding y values\n",
    "    for idx, value in enumerate(unique_values):\n",
    "        for counter in range(1, counts[idx]+1):\n",
    "            scatter_x.append(value)\n",
    "            scatter_y.append(counter)\n",
    " \n",
    "    # draw dot plot using scatter() \n",
    "    plt.scatter(scatter_x, scatter_y, **args)\n",
    "    \n",
    "    # Optional - show all unique values on x-axis. \n",
    "    # Matplotlib might hide some of them  \n",
    "    plt.gca().set_xticks(unique_values)"
   ]
  },
  {
   "cell_type": "code",
   "execution_count": 35,
   "id": "b9c68f95",
   "metadata": {},
   "outputs": [
    {
     "data": {
      "image/png": "[encoded data removed]",
      "text/plain": [
       "<Figure size 432x288 with 1 Axes>"
      ]
     },
     "metadata": {
      "needs_background": "light"
     },
     "output_type": "display_data"
    }
   ],
   "source": [
    "dotplot(ritmo )"
   ]
  },
  {
   "cell_type": "code",
   "execution_count": 37,
   "id": "cf1ce556",
   "metadata": {},
   "outputs": [
    {
     "data": {
      "text/plain": [
       "(<Figure size 540x126 with 1 Axes>, <Axes:>)"
      ]
     },
     "execution_count": 37,
     "metadata": {},
     "output_type": "execute_result"
    },
    {
     "data": {
      "image/png": "[encoded data removed]",
      "text/plain": [
       "<Figure size 540x126 with 1 Axes>"
      ]
     },
     "metadata": {
      "needs_background": "light"
     },
     "output_type": "display_data"
    }
   ],
   "source": [
    "import stemgraphic\n",
    "stemgraphic.stem_graphic(ritmo,scale= 10)"
   ]
  },
  {
   "cell_type": "code",
   "execution_count": 1,
   "id": "9904f320",
   "metadata": {},
   "outputs": [],
   "source": [
    "import pandas as pd\n"
   ]
  },
  {
   "cell_type": "code",
   "execution_count": 2,
   "id": "203c0467",
   "metadata": {},
   "outputs": [],
   "source": [
    "df = pd.read_csv(\"data.csv\")\n"
   ]
  },
  {
   "cell_type": "code",
   "execution_count": 9,
   "id": "75844172",
   "metadata": {},
   "outputs": [
    {
     "data": {
      "text/html": [
       "<div>\n",
       "<style scoped>\n",
       "    .dataframe tbody tr th:only-of-type {\n",
       "        vertical-align: middle;\n",
       "    }\n",
       "\n",
       "    .dataframe tbody tr th {\n",
       "        vertical-align: top;\n",
       "    }\n",
       "\n",
       "    .dataframe thead th {\n",
       "        text-align: right;\n",
       "    }\n",
       "</style>\n",
       "<table border=\"1\" class=\"dataframe\">\n",
       "  <thead>\n",
       "    <tr style=\"text-align: right;\">\n",
       "      <th></th>\n",
       "      <th>Age</th>\n",
       "      <th>Gender</th>\n",
       "      <th>Height</th>\n",
       "      <th>Weight</th>\n",
       "      <th>CALC</th>\n",
       "      <th>FAVC</th>\n",
       "      <th>FCVC</th>\n",
       "      <th>NCP</th>\n",
       "      <th>SCC</th>\n",
       "      <th>SMOKE</th>\n",
       "      <th>CH2O</th>\n",
       "      <th>family_history_with_overweight</th>\n",
       "      <th>FAF</th>\n",
       "      <th>TUE</th>\n",
       "      <th>CAEC</th>\n",
       "      <th>MTRANS</th>\n",
       "      <th>NObeyesdad</th>\n",
       "    </tr>\n",
       "  </thead>\n",
       "  <tbody>\n",
       "    <tr>\n",
       "      <th>0</th>\n",
       "      <td>21.0</td>\n",
       "      <td>Female</td>\n",
       "      <td>1.62</td>\n",
       "      <td>64.0</td>\n",
       "      <td>no</td>\n",
       "      <td>no</td>\n",
       "      <td>2.0</td>\n",
       "      <td>3.0</td>\n",
       "      <td>no</td>\n",
       "      <td>no</td>\n",
       "      <td>2.0</td>\n",
       "      <td>yes</td>\n",
       "      <td>0.0</td>\n",
       "      <td>1.0</td>\n",
       "      <td>Sometimes</td>\n",
       "      <td>Public_Transportation</td>\n",
       "      <td>Normal_Weight</td>\n",
       "    </tr>\n",
       "    <tr>\n",
       "      <th>1</th>\n",
       "      <td>21.0</td>\n",
       "      <td>Female</td>\n",
       "      <td>1.52</td>\n",
       "      <td>56.0</td>\n",
       "      <td>Sometimes</td>\n",
       "      <td>no</td>\n",
       "      <td>3.0</td>\n",
       "      <td>3.0</td>\n",
       "      <td>yes</td>\n",
       "      <td>yes</td>\n",
       "      <td>3.0</td>\n",
       "      <td>yes</td>\n",
       "      <td>3.0</td>\n",
       "      <td>0.0</td>\n",
       "      <td>Sometimes</td>\n",
       "      <td>Public_Transportation</td>\n",
       "      <td>Normal_Weight</td>\n",
       "    </tr>\n",
       "    <tr>\n",
       "      <th>2</th>\n",
       "      <td>23.0</td>\n",
       "      <td>Male</td>\n",
       "      <td>1.80</td>\n",
       "      <td>77.0</td>\n",
       "      <td>Frequently</td>\n",
       "      <td>no</td>\n",
       "      <td>2.0</td>\n",
       "      <td>3.0</td>\n",
       "      <td>no</td>\n",
       "      <td>no</td>\n",
       "      <td>2.0</td>\n",
       "      <td>yes</td>\n",
       "      <td>2.0</td>\n",
       "      <td>1.0</td>\n",
       "      <td>Sometimes</td>\n",
       "      <td>Public_Transportation</td>\n",
       "      <td>Normal_Weight</td>\n",
       "    </tr>\n",
       "    <tr>\n",
       "      <th>3</th>\n",
       "      <td>27.0</td>\n",
       "      <td>Male</td>\n",
       "      <td>1.80</td>\n",
       "      <td>87.0</td>\n",
       "      <td>Frequently</td>\n",
       "      <td>no</td>\n",
       "      <td>3.0</td>\n",
       "      <td>3.0</td>\n",
       "      <td>no</td>\n",
       "      <td>no</td>\n",
       "      <td>2.0</td>\n",
       "      <td>no</td>\n",
       "      <td>2.0</td>\n",
       "      <td>0.0</td>\n",
       "      <td>Sometimes</td>\n",
       "      <td>Walking</td>\n",
       "      <td>Overweight_Level_I</td>\n",
       "    </tr>\n",
       "    <tr>\n",
       "      <th>4</th>\n",
       "      <td>22.0</td>\n",
       "      <td>Male</td>\n",
       "      <td>1.78</td>\n",
       "      <td>89.8</td>\n",
       "      <td>Sometimes</td>\n",
       "      <td>no</td>\n",
       "      <td>2.0</td>\n",
       "      <td>1.0</td>\n",
       "      <td>no</td>\n",
       "      <td>no</td>\n",
       "      <td>2.0</td>\n",
       "      <td>no</td>\n",
       "      <td>0.0</td>\n",
       "      <td>0.0</td>\n",
       "      <td>Sometimes</td>\n",
       "      <td>Public_Transportation</td>\n",
       "      <td>Overweight_Level_II</td>\n",
       "    </tr>\n",
       "    <tr>\n",
       "      <th>5</th>\n",
       "      <td>29.0</td>\n",
       "      <td>Male</td>\n",
       "      <td>1.62</td>\n",
       "      <td>53.0</td>\n",
       "      <td>Sometimes</td>\n",
       "      <td>yes</td>\n",
       "      <td>2.0</td>\n",
       "      <td>3.0</td>\n",
       "      <td>no</td>\n",
       "      <td>no</td>\n",
       "      <td>2.0</td>\n",
       "      <td>no</td>\n",
       "      <td>0.0</td>\n",
       "      <td>0.0</td>\n",
       "      <td>Sometimes</td>\n",
       "      <td>Automobile</td>\n",
       "      <td>Normal_Weight</td>\n",
       "    </tr>\n",
       "    <tr>\n",
       "      <th>6</th>\n",
       "      <td>23.0</td>\n",
       "      <td>Female</td>\n",
       "      <td>1.50</td>\n",
       "      <td>55.0</td>\n",
       "      <td>Sometimes</td>\n",
       "      <td>yes</td>\n",
       "      <td>3.0</td>\n",
       "      <td>3.0</td>\n",
       "      <td>no</td>\n",
       "      <td>no</td>\n",
       "      <td>2.0</td>\n",
       "      <td>yes</td>\n",
       "      <td>1.0</td>\n",
       "      <td>0.0</td>\n",
       "      <td>Sometimes</td>\n",
       "      <td>Motorbike</td>\n",
       "      <td>Normal_Weight</td>\n",
       "    </tr>\n",
       "    <tr>\n",
       "      <th>7</th>\n",
       "      <td>22.0</td>\n",
       "      <td>Male</td>\n",
       "      <td>1.64</td>\n",
       "      <td>53.0</td>\n",
       "      <td>Sometimes</td>\n",
       "      <td>no</td>\n",
       "      <td>2.0</td>\n",
       "      <td>3.0</td>\n",
       "      <td>no</td>\n",
       "      <td>no</td>\n",
       "      <td>2.0</td>\n",
       "      <td>no</td>\n",
       "      <td>3.0</td>\n",
       "      <td>0.0</td>\n",
       "      <td>Sometimes</td>\n",
       "      <td>Public_Transportation</td>\n",
       "      <td>Normal_Weight</td>\n",
       "    </tr>\n",
       "    <tr>\n",
       "      <th>8</th>\n",
       "      <td>24.0</td>\n",
       "      <td>Male</td>\n",
       "      <td>1.78</td>\n",
       "      <td>64.0</td>\n",
       "      <td>Frequently</td>\n",
       "      <td>yes</td>\n",
       "      <td>3.0</td>\n",
       "      <td>3.0</td>\n",
       "      <td>no</td>\n",
       "      <td>no</td>\n",
       "      <td>2.0</td>\n",
       "      <td>yes</td>\n",
       "      <td>1.0</td>\n",
       "      <td>1.0</td>\n",
       "      <td>Sometimes</td>\n",
       "      <td>Public_Transportation</td>\n",
       "      <td>Normal_Weight</td>\n",
       "    </tr>\n",
       "    <tr>\n",
       "      <th>9</th>\n",
       "      <td>22.0</td>\n",
       "      <td>Male</td>\n",
       "      <td>1.72</td>\n",
       "      <td>68.0</td>\n",
       "      <td>no</td>\n",
       "      <td>yes</td>\n",
       "      <td>2.0</td>\n",
       "      <td>3.0</td>\n",
       "      <td>no</td>\n",
       "      <td>no</td>\n",
       "      <td>2.0</td>\n",
       "      <td>yes</td>\n",
       "      <td>1.0</td>\n",
       "      <td>1.0</td>\n",
       "      <td>Sometimes</td>\n",
       "      <td>Public_Transportation</td>\n",
       "      <td>Normal_Weight</td>\n",
       "    </tr>\n",
       "    <tr>\n",
       "      <th>10</th>\n",
       "      <td>26.0</td>\n",
       "      <td>Male</td>\n",
       "      <td>1.85</td>\n",
       "      <td>105.0</td>\n",
       "      <td>Sometimes</td>\n",
       "      <td>yes</td>\n",
       "      <td>3.0</td>\n",
       "      <td>3.0</td>\n",
       "      <td>no</td>\n",
       "      <td>no</td>\n",
       "      <td>3.0</td>\n",
       "      <td>yes</td>\n",
       "      <td>2.0</td>\n",
       "      <td>2.0</td>\n",
       "      <td>Frequently</td>\n",
       "      <td>Public_Transportation</td>\n",
       "      <td>Obesity_Type_I</td>\n",
       "    </tr>\n",
       "    <tr>\n",
       "      <th>11</th>\n",
       "      <td>21.0</td>\n",
       "      <td>Female</td>\n",
       "      <td>1.72</td>\n",
       "      <td>80.0</td>\n",
       "      <td>Sometimes</td>\n",
       "      <td>yes</td>\n",
       "      <td>2.0</td>\n",
       "      <td>3.0</td>\n",
       "      <td>yes</td>\n",
       "      <td>no</td>\n",
       "      <td>2.0</td>\n",
       "      <td>yes</td>\n",
       "      <td>2.0</td>\n",
       "      <td>1.0</td>\n",
       "      <td>Frequently</td>\n",
       "      <td>Public_Transportation</td>\n",
       "      <td>Overweight_Level_II</td>\n",
       "    </tr>\n",
       "    <tr>\n",
       "      <th>12</th>\n",
       "      <td>22.0</td>\n",
       "      <td>Male</td>\n",
       "      <td>1.65</td>\n",
       "      <td>56.0</td>\n",
       "      <td>Sometimes</td>\n",
       "      <td>no</td>\n",
       "      <td>3.0</td>\n",
       "      <td>3.0</td>\n",
       "      <td>no</td>\n",
       "      <td>no</td>\n",
       "      <td>3.0</td>\n",
       "      <td>no</td>\n",
       "      <td>2.0</td>\n",
       "      <td>0.0</td>\n",
       "      <td>Sometimes</td>\n",
       "      <td>Public_Transportation</td>\n",
       "      <td>Normal_Weight</td>\n",
       "    </tr>\n",
       "    <tr>\n",
       "      <th>13</th>\n",
       "      <td>41.0</td>\n",
       "      <td>Male</td>\n",
       "      <td>1.80</td>\n",
       "      <td>99.0</td>\n",
       "      <td>Frequently</td>\n",
       "      <td>yes</td>\n",
       "      <td>2.0</td>\n",
       "      <td>3.0</td>\n",
       "      <td>no</td>\n",
       "      <td>no</td>\n",
       "      <td>2.0</td>\n",
       "      <td>no</td>\n",
       "      <td>2.0</td>\n",
       "      <td>1.0</td>\n",
       "      <td>Sometimes</td>\n",
       "      <td>Automobile</td>\n",
       "      <td>Obesity_Type_I</td>\n",
       "    </tr>\n",
       "    <tr>\n",
       "      <th>14</th>\n",
       "      <td>23.0</td>\n",
       "      <td>Male</td>\n",
       "      <td>1.77</td>\n",
       "      <td>60.0</td>\n",
       "      <td>Sometimes</td>\n",
       "      <td>yes</td>\n",
       "      <td>3.0</td>\n",
       "      <td>1.0</td>\n",
       "      <td>no</td>\n",
       "      <td>no</td>\n",
       "      <td>1.0</td>\n",
       "      <td>yes</td>\n",
       "      <td>1.0</td>\n",
       "      <td>1.0</td>\n",
       "      <td>Sometimes</td>\n",
       "      <td>Public_Transportation</td>\n",
       "      <td>Normal_Weight</td>\n",
       "    </tr>\n",
       "  </tbody>\n",
       "</table>\n",
       "</div>"
      ],
      "text/plain": [
       "     Age  Gender  Height  Weight        CALC FAVC  FCVC  NCP  SCC SMOKE  CH2O  \\\n",
       "0   21.0  Female    1.62    64.0          no   no   2.0  3.0   no    no   2.0   \n",
       "1   21.0  Female    1.52    56.0   Sometimes   no   3.0  3.0  yes   yes   3.0   \n",
       "2   23.0    Male    1.80    77.0  Frequently   no   2.0  3.0   no    no   2.0   \n",
       "3   27.0    Male    1.80    87.0  Frequently   no   3.0  3.0   no    no   2.0   \n",
       "4   22.0    Male    1.78    89.8   Sometimes   no   2.0  1.0   no    no   2.0   \n",
       "5   29.0    Male    1.62    53.0   Sometimes  yes   2.0  3.0   no    no   2.0   \n",
       "6   23.0  Female    1.50    55.0   Sometimes  yes   3.0  3.0   no    no   2.0   \n",
       "7   22.0    Male    1.64    53.0   Sometimes   no   2.0  3.0   no    no   2.0   \n",
       "8   24.0    Male    1.78    64.0  Frequently  yes   3.0  3.0   no    no   2.0   \n",
       "9   22.0    Male    1.72    68.0          no  yes   2.0  3.0   no    no   2.0   \n",
       "10  26.0    Male    1.85   105.0   Sometimes  yes   3.0  3.0   no    no   3.0   \n",
       "11  21.0  Female    1.72    80.0   Sometimes  yes   2.0  3.0  yes    no   2.0   \n",
       "12  22.0    Male    1.65    56.0   Sometimes   no   3.0  3.0   no    no   3.0   \n",
       "13  41.0    Male    1.80    99.0  Frequently  yes   2.0  3.0   no    no   2.0   \n",
       "14  23.0    Male    1.77    60.0   Sometimes  yes   3.0  1.0   no    no   1.0   \n",
       "\n",
       "   family_history_with_overweight  FAF  TUE        CAEC  \\\n",
       "0                             yes  0.0  1.0   Sometimes   \n",
       "1                             yes  3.0  0.0   Sometimes   \n",
       "2                             yes  2.0  1.0   Sometimes   \n",
       "3                              no  2.0  0.0   Sometimes   \n",
       "4                              no  0.0  0.0   Sometimes   \n",
       "5                              no  0.0  0.0   Sometimes   \n",
       "6                             yes  1.0  0.0   Sometimes   \n",
       "7                              no  3.0  0.0   Sometimes   \n",
       "8                             yes  1.0  1.0   Sometimes   \n",
       "9                             yes  1.0  1.0   Sometimes   \n",
       "10                            yes  2.0  2.0  Frequently   \n",
       "11                            yes  2.0  1.0  Frequently   \n",
       "12                             no  2.0  0.0   Sometimes   \n",
       "13                             no  2.0  1.0   Sometimes   \n",
       "14                            yes  1.0  1.0   Sometimes   \n",
       "\n",
       "                   MTRANS           NObeyesdad  \n",
       "0   Public_Transportation        Normal_Weight  \n",
       "1   Public_Transportation        Normal_Weight  \n",
       "2   Public_Transportation        Normal_Weight  \n",
       "3                 Walking   Overweight_Level_I  \n",
       "4   Public_Transportation  Overweight_Level_II  \n",
       "5              Automobile        Normal_Weight  \n",
       "6               Motorbike        Normal_Weight  \n",
       "7   Public_Transportation        Normal_Weight  \n",
       "8   Public_Transportation        Normal_Weight  \n",
       "9   Public_Transportation        Normal_Weight  \n",
       "10  Public_Transportation       Obesity_Type_I  \n",
       "11  Public_Transportation  Overweight_Level_II  \n",
       "12  Public_Transportation        Normal_Weight  \n",
       "13             Automobile       Obesity_Type_I  \n",
       "14  Public_Transportation        Normal_Weight  "
      ]
     },
     "execution_count": 9,
     "metadata": {},
     "output_type": "execute_result"
    }
   ],
   "source": [
    "df.head(15)"
   ]
  },
  {
   "cell_type": "code",
   "execution_count": 5,
   "id": "77603688",
   "metadata": {},
   "outputs": [
    {
     "data": {
      "text/plain": [
       "Male      1068\n",
       "Female    1043\n",
       "Name: Gender, dtype: int64"
      ]
     },
     "execution_count": 5,
     "metadata": {},
     "output_type": "execute_result"
    }
   ],
   "source": [
    "df['Gender'].value_counts()"
   ]
  },
  {
   "cell_type": "code",
   "execution_count": 7,
   "id": "297fa7b7",
   "metadata": {},
   "outputs": [
    {
     "data": {
      "text/plain": [
       "no     2067\n",
       "yes      44\n",
       "Name: SMOKE, dtype: int64"
      ]
     },
     "execution_count": 7,
     "metadata": {},
     "output_type": "execute_result"
    }
   ],
   "source": [
    "df['SMOKE'].value_counts()"
   ]
  },
  {
   "cell_type": "code",
   "execution_count": 8,
   "id": "57a09bb2",
   "metadata": {},
   "outputs": [
    {
     "data": {
      "text/plain": [
       "Sometimes     1401\n",
       "no             639\n",
       "Frequently      70\n",
       "Always           1\n",
       "Name: CALC, dtype: int64"
      ]
     },
     "execution_count": 8,
     "metadata": {},
     "output_type": "execute_result"
    }
   ],
   "source": [
    "df['CALC'].value_counts()"
   ]
  },
  {
   "cell_type": "code",
   "execution_count": 18,
   "id": "81cc3784",
   "metadata": {},
   "outputs": [
    {
     "data": {
      "image/png": "[encoded data removed]",
      "text/plain": [
       "<Figure size 432x288 with 1 Axes>"
      ]
     },
     "metadata": {
      "needs_background": "light"
     },
     "output_type": "display_data"
    }
   ],
   "source": [
    "import matplotlib.pyplot as plt\n",
    "\n",
    "#Datos del gráfico para el diagrama de barras\n",
    "frecuencias = [22,16,12,8]\n",
    "categorias = ['Morado', 'Azul','Blanco','Verde']\n",
    "colores = ['purple','blue', 'white', 'green']\n",
    "\n",
    "\n",
    "#Crear el grafico\n",
    "plt.bar(categorias,frecuencias,color = ['purple','blue', 'white', 'green'],edgecolor= 'black')\n",
    "plt.title('Ventas de Bufanda')\n",
    "plt.xlabel('Colores')\n",
    "plt.ylabel('Cantidad')\n",
    "\n",
    "plt.show()"
   ]
  },
  {
   "cell_type": "code",
   "execution_count": 22,
   "id": "4168c7d6",
   "metadata": {},
   "outputs": [
    {
     "data": {
      "image/png": "[encoded data removed]",
      "text/plain": [
       "<Figure size 432x288 with 1 Axes>"
      ]
     },
     "metadata": {
      "needs_background": "light"
     },
     "output_type": "display_data"
    }
   ],
   "source": [
    "#Datos del gráfico para el diagrama de barras\n",
    "table = df['Gender'].value_counts()\n",
    "\n",
    "#Crear el grafico\n",
    "plt.bar(table.index,table.values, width = 0.1)\n",
    "plt.title('Ventas de Bufanda')\n",
    "plt.xlabel('Colores')\n",
    "plt.ylabel('Cantidad')\n",
    "\n",
    "plt.show()"
   ]
  },
  {
   "cell_type": "code",
   "execution_count": 24,
   "id": "80f88095",
   "metadata": {},
   "outputs": [
    {
     "data": {
      "image/png": "[encoded data removed]",
      "text/plain": [
       "<Figure size 576x432 with 1 Axes>"
      ]
     },
     "metadata": {
      "needs_background": "light"
     },
     "output_type": "display_data"
    }
   ],
   "source": [
    "import pandas as pd\n",
    "import matplotlib.pyplot as plt\n",
    "\n",
    "# Suponiendo que ya tienes el DataFrame cargado como 'df'\n",
    "# Si aún no has cargado el archivo, primero carga el DataFrame usando pd.read_csv o el método adecuado para tu archivo.\n",
    "\n",
    "# Crear la tabla de frecuencia para la variable 'Gender'\n",
    "frequency_table = df['Gender'].value_counts()\n",
    "\n",
    "# Generar el diagrama de barras\n",
    "plt.figure(figsize=(8, 6))\n",
    "frequency_table.plot(kind='bar', color=['skyblue', 'salmon'])\n",
    "plt.title('Distribución de Género')\n",
    "plt.xlabel('Género')\n",
    "plt.ylabel('Frecuencia')\n",
    "plt.xticks(rotation=0)  # Alinear etiquetas en el eje X\n",
    "plt.show()\n"
   ]
  },
  {
   "cell_type": "code",
   "execution_count": 26,
   "id": "409fee36",
   "metadata": {},
   "outputs": [
    {
     "name": "stdout",
     "output_type": "stream",
     "text": [
      "Male      1068\n",
      "Female    1043\n",
      "Name: Gender, dtype: int64\n"
     ]
    }
   ],
   "source": [
    "tabla_Gender = df['Gender'].value_counts()\n",
    "print(tabla_Gender)"
   ]
  },
  {
   "cell_type": "code",
   "execution_count": 29,
   "id": "f5c1c9d5",
   "metadata": {},
   "outputs": [
    {
     "data": {
      "image/png": "[encoded data removed]",
      "text/plain": [
       "<Figure size 432x288 with 1 Axes>"
      ]
     },
     "metadata": {
      "needs_background": "light"
     },
     "output_type": "display_data"
    }
   ],
   "source": [
    "# Creamos el grafico\n",
    "plt.bar(tabla_Gender.index,tabla_Gender.values, color= ['blue','red'])\n",
    "plt.show()"
   ]
  },
  {
   "cell_type": "code",
   "execution_count": 38,
   "id": "99264f8d",
   "metadata": {},
   "outputs": [
    {
     "data": {
      "image/png": "[encoded data removed]",
      "text/plain": [
       "<Figure size 432x288 with 1 Axes>"
      ]
     },
     "metadata": {},
     "output_type": "display_data"
    }
   ],
   "source": [
    "frecuencias = [22,16,12,8]\n",
    "categorias = ['Morado', 'Azul','Blanco','Verde']\n",
    "colores = ['purple','blue', 'white', 'green']\n",
    "\n",
    "#Creamos el diagrama circular\n",
    "plt.pie(frecuencias,labels = categorias,autopct = '%1.1f%%',colors = colores, wedgeprops = {\"edgecolor\" : \"red\", \n",
    "                      'linewidth': 2})\n",
    "plt.title('Ventas de Bufanda')\n",
    "\n",
    "plt.show()"
   ]
  },
  {
   "cell_type": "code",
   "execution_count": 39,
   "id": "544472b0",
   "metadata": {},
   "outputs": [],
   "source": [
    "tabla_Gender = df['Gender'].value_counts()\n"
   ]
  },
  {
   "cell_type": "code",
   "execution_count": 40,
   "id": "a1ff3230",
   "metadata": {},
   "outputs": [
    {
     "data": {
      "text/plain": [
       "Male      1068\n",
       "Female    1043\n",
       "Name: Gender, dtype: int64"
      ]
     },
     "execution_count": 40,
     "metadata": {},
     "output_type": "execute_result"
    }
   ],
   "source": [
    "tabla_Gender"
   ]
  },
  {
   "cell_type": "code",
   "execution_count": 47,
   "id": "030704de",
   "metadata": {},
   "outputs": [
    {
     "data": {
      "image/png": "[encoded data removed]",
      "text/plain": [
       "<Figure size 432x288 with 1 Axes>"
      ]
     },
     "metadata": {},
     "output_type": "display_data"
    }
   ],
   "source": [
    "plt.pie(tabla_Gender,labels =['Hombres', 'Mujeres'], autopct = '%1.1f%%')\n",
    "plt.title('Genero')\n",
    "plt.show()"
   ]
  },
  {
   "cell_type": "code",
   "execution_count": null,
   "id": "09c794e3",
   "metadata": {},
   "outputs": [],
   "source": []
  }
 ],
 "metadata": {
  "kernelspec": {
   "display_name": "Python 3 (ipykernel)",
   "language": "python",
   "name": "python3"
  },
  "language_info": {
   "codemirror_mode": {
    "name": "ipython",
    "version": 3
   },
   "file_extension": ".py",
   "mimetype": "text/x-python",
   "name": "python",
   "nbconvert_exporter": "python",
   "pygments_lexer": "ipython3",
   "version": "3.9.12"
  }
 },
 "nbformat": 4,
 "nbformat_minor": 5
}
