{
 "cells": [
  {
   "cell_type": "markdown",
   "id": "3a52b334",
   "metadata": {},
   "source": [
    "# Distribución Normal: Ejemplo 1\n",
    "\n",
    "En la fabricación de cereales, se contempla el peso de las cajas como una variable aleatoria con distribución normal. Una marca reconocida presenta cajas cuyo peso promedio es de 1000 gramos y una desviación estándar de 20 gramos. Se selecciona una caja al azar con el propósito de realizar un análisis detallado.\n",
    "\n",
    "Determinar la probabilidad de que pese menos de 1025 gramos.\n",
    "\n",
    "Hallar la probabilidad de que pese 989 gramos o más."
   ]
  },
  {
   "cell_type": "code",
   "execution_count": 8,
   "id": "44b13134",
   "metadata": {},
   "outputs": [
    {
     "name": "stdout",
     "output_type": "stream",
     "text": [
      "La probabilidad de que pese  menos de 1025 onzas  es: 89.4%\n"
     ]
    }
   ],
   "source": [
    "#libreria para obtener la función de distribución normal\n",
    "from scipy.stats import norm\n",
    "\n",
    "media =1000\n",
    "desviacion_estandar =20\n",
    "x= 1025\n",
    "prob_menor_1025 = norm.cdf(x,loc =media,scale = desviacion_estandar)\n",
    "print(f\"La probabilidad de que pese  menos de {x} onzas  es: {prob_menor_1025:.1%}\")\n"
   ]
  },
  {
   "cell_type": "code",
   "execution_count": 4,
   "id": "26098104",
   "metadata": {},
   "outputs": [
    {
     "name": "stdout",
     "output_type": "stream",
     "text": [
      "0.8943502263331446\n"
     ]
    }
   ],
   "source": [
    "#Notemos que \n",
    "\n",
    "print(norm.cdf(1.25,0,1))"
   ]
  },
  {
   "cell_type": "code",
   "execution_count": 6,
   "id": "ae5c2cdb",
   "metadata": {},
   "outputs": [
    {
     "name": "stdout",
     "output_type": "stream",
     "text": [
      "La probabilidad de que pese  menos de 989 onzas  es: 29.1%\n"
     ]
    }
   ],
   "source": [
    "#libreria para obtener la función de distribución normal\n",
    "from scipy.stats import norm\n",
    "\n",
    "media =1000\n",
    "desviacion_estandar =20\n",
    "x= 989\n",
    "prob_menor_989 = norm.cdf(x,loc =media,scale = desviacion_estandar)\n",
    "print(f\"La probabilidad de que pese  menos de {x} onzas  es: {prob_menor_989:.1%}\")\n"
   ]
  },
  {
   "cell_type": "code",
   "execution_count": 8,
   "id": "1b2d55d8",
   "metadata": {},
   "outputs": [
    {
     "name": "stdout",
     "output_type": "stream",
     "text": [
      "La probabilidad de que pese  mas de 989 onzas  es: 70.9%\n"
     ]
    }
   ],
   "source": [
    "prob_mayor_989 = 1- prob_menor_989\n",
    "print(f\"La probabilidad de que pese  mas de {x} onzas  es: {prob_mayor_989:.1%}\")\n"
   ]
  },
  {
   "cell_type": "code",
   "execution_count": 1,
   "id": "2b963eae",
   "metadata": {},
   "outputs": [],
   "source": [
    "# importamos las librerias\n",
    "\n",
    "from scipy.stats import norm\n",
    "x= 1025\n",
    "media = 1000\n",
    "desv = 20\n",
    "prob_X_menor_1025 = norm.cdf(x,  loc = media, scale = desv )"
   ]
  },
  {
   "cell_type": "code",
   "execution_count": 2,
   "id": "d1b09b29",
   "metadata": {},
   "outputs": [
    {
     "data": {
      "text/plain": [
       "0.8943502263331446"
      ]
     },
     "execution_count": 2,
     "metadata": {},
     "output_type": "execute_result"
    }
   ],
   "source": [
    "prob_X_menor_1025"
   ]
  },
  {
   "cell_type": "code",
   "execution_count": 1,
   "id": "9c58353c",
   "metadata": {},
   "outputs": [],
   "source": [
    "#importamos paquetes\n",
    "\n",
    "from scipy.stats import poisson"
   ]
  },
  {
   "cell_type": "code",
   "execution_count": 8,
   "id": "c7b31be0",
   "metadata": {},
   "outputs": [
    {
     "name": "stdout",
     "output_type": "stream",
     "text": [
      " La probabilidad de que halla congestion es 7.64%\n"
     ]
    }
   ],
   "source": [
    "x = 480\n",
    "\n",
    "promedio = 450\n",
    "\n",
    "prob_menor_o_igual_que_480 = poisson.cdf(x, mu = promedio)\n",
    "\n",
    "prob_mayor_que_480 = 1 - prob_menor_o_igual_que_480\n",
    "\n",
    "print(f' La probabilidad de que halla congestion es {prob_mayor_que_480*100:.2f}%')"
   ]
  },
  {
   "cell_type": "code",
   "execution_count": 6,
   "id": "fef3a81f",
   "metadata": {},
   "outputs": [
    {
     "data": {
      "text/plain": [
       "0.07639341932355459"
      ]
     },
     "execution_count": 6,
     "metadata": {},
     "output_type": "execute_result"
    }
   ],
   "source": [
    "prob_mayor_que_480"
   ]
  },
  {
   "cell_type": "code",
   "execution_count": 20,
   "id": "b8b842ae",
   "metadata": {},
   "outputs": [],
   "source": [
    "import pandas as pd\n",
    "import numpy as np\n",
    "import matplotlib.pyplot as plt\n",
    "from scipy.stats import norm"
   ]
  },
  {
   "cell_type": "code",
   "execution_count": 10,
   "id": "f0c7fcab",
   "metadata": {},
   "outputs": [],
   "source": [
    "# leemos la base de datos\n",
    "df = pd.read_csv('StudentsPerformance.csv')"
   ]
  },
  {
   "cell_type": "code",
   "execution_count": 11,
   "id": "a1466297",
   "metadata": {},
   "outputs": [
    {
     "data": {
      "text/html": [
       "<div>\n",
       "<style scoped>\n",
       "    .dataframe tbody tr th:only-of-type {\n",
       "        vertical-align: middle;\n",
       "    }\n",
       "\n",
       "    .dataframe tbody tr th {\n",
       "        vertical-align: top;\n",
       "    }\n",
       "\n",
       "    .dataframe thead th {\n",
       "        text-align: right;\n",
       "    }\n",
       "</style>\n",
       "<table border=\"1\" class=\"dataframe\">\n",
       "  <thead>\n",
       "    <tr style=\"text-align: right;\">\n",
       "      <th></th>\n",
       "      <th>gender</th>\n",
       "      <th>race/ethnicity</th>\n",
       "      <th>parental level of education</th>\n",
       "      <th>lunch</th>\n",
       "      <th>test preparation course</th>\n",
       "      <th>math score</th>\n",
       "      <th>reading score</th>\n",
       "      <th>writing score</th>\n",
       "    </tr>\n",
       "  </thead>\n",
       "  <tbody>\n",
       "    <tr>\n",
       "      <th>0</th>\n",
       "      <td>female</td>\n",
       "      <td>group B</td>\n",
       "      <td>bachelor's degree</td>\n",
       "      <td>standard</td>\n",
       "      <td>none</td>\n",
       "      <td>72</td>\n",
       "      <td>72</td>\n",
       "      <td>74</td>\n",
       "    </tr>\n",
       "    <tr>\n",
       "      <th>1</th>\n",
       "      <td>female</td>\n",
       "      <td>group C</td>\n",
       "      <td>some college</td>\n",
       "      <td>standard</td>\n",
       "      <td>completed</td>\n",
       "      <td>69</td>\n",
       "      <td>90</td>\n",
       "      <td>88</td>\n",
       "    </tr>\n",
       "    <tr>\n",
       "      <th>2</th>\n",
       "      <td>female</td>\n",
       "      <td>group B</td>\n",
       "      <td>master's degree</td>\n",
       "      <td>standard</td>\n",
       "      <td>none</td>\n",
       "      <td>90</td>\n",
       "      <td>95</td>\n",
       "      <td>93</td>\n",
       "    </tr>\n",
       "    <tr>\n",
       "      <th>3</th>\n",
       "      <td>male</td>\n",
       "      <td>group A</td>\n",
       "      <td>associate's degree</td>\n",
       "      <td>free/reduced</td>\n",
       "      <td>none</td>\n",
       "      <td>47</td>\n",
       "      <td>57</td>\n",
       "      <td>44</td>\n",
       "    </tr>\n",
       "    <tr>\n",
       "      <th>4</th>\n",
       "      <td>male</td>\n",
       "      <td>group C</td>\n",
       "      <td>some college</td>\n",
       "      <td>standard</td>\n",
       "      <td>none</td>\n",
       "      <td>76</td>\n",
       "      <td>78</td>\n",
       "      <td>75</td>\n",
       "    </tr>\n",
       "  </tbody>\n",
       "</table>\n",
       "</div>"
      ],
      "text/plain": [
       "   gender race/ethnicity parental level of education         lunch  \\\n",
       "0  female        group B           bachelor's degree      standard   \n",
       "1  female        group C                some college      standard   \n",
       "2  female        group B             master's degree      standard   \n",
       "3    male        group A          associate's degree  free/reduced   \n",
       "4    male        group C                some college      standard   \n",
       "\n",
       "  test preparation course  math score  reading score  writing score  \n",
       "0                    none          72             72             74  \n",
       "1               completed          69             90             88  \n",
       "2                    none          90             95             93  \n",
       "3                    none          47             57             44  \n",
       "4                    none          76             78             75  "
      ]
     },
     "execution_count": 11,
     "metadata": {},
     "output_type": "execute_result"
    }
   ],
   "source": [
    "df.head(5)"
   ]
  },
  {
   "cell_type": "code",
   "execution_count": 16,
   "id": "a72f74b5",
   "metadata": {},
   "outputs": [
    {
     "data": {
      "text/plain": [
       "0      72\n",
       "1      69\n",
       "2      90\n",
       "3      47\n",
       "4      76\n",
       "       ..\n",
       "995    88\n",
       "996    62\n",
       "997    59\n",
       "998    68\n",
       "999    77\n",
       "Name: math score, Length: 1000, dtype: int64"
      ]
     },
     "execution_count": 16,
     "metadata": {},
     "output_type": "execute_result"
    }
   ],
   "source": []
  },
  {
   "cell_type": "code",
   "execution_count": 25,
   "id": "faaf76f7",
   "metadata": {
    "scrolled": true
   },
   "outputs": [
    {
     "data": {
      "image/png": "[encoded data removed]",
      "text/plain": [
       "<Figure size 864x432 with 1 Axes>"
      ]
     },
     "metadata": {
      "needs_background": "light"
     },
     "output_type": "display_data"
    }
   ],
   "source": [
    "# histograma de barras para math  score\n",
    "math_column = df['math score']\n",
    "\n",
    " \n",
    "\n",
    "plt.figure(figsize=(12, 6))\n",
    "plt.hist(math_column, bins=20, edgecolor='black',density = True)\n",
    "\n",
    "# Calcular la función de densidad de la distribución normal\n",
    "x = np.linspace(0, 100, 1000)\n",
    "y = norm.pdf(x, loc=66.09, scale=  15.155)\n",
    "plt.plot(x, y, color='red', label='Densidad Normal aproximada')\n",
    "\n",
    "\n",
    "plt.title('Histograma de Puntajes en Matemáticas (20 bins)')\n",
    "plt.xlabel('Puntaje')\n",
    "plt.ylabel('Frecuencia')\n",
    "plt.grid(axis='y', linestyle='--', alpha=0.5)\n",
    " \n",
    "plt.tight_layout()\n",
    "plt.show()"
   ]
  },
  {
   "cell_type": "code",
   "execution_count": 28,
   "id": "c2f45185",
   "metadata": {},
   "outputs": [],
   "source": [
    "math_column = df['math score']\n",
    "\n",
    "media= np.mean(math_column)\n",
    "desv_std = np.std(math_column)"
   ]
  },
  {
   "cell_type": "code",
   "execution_count": 31,
   "id": "ecfa40b9",
   "metadata": {},
   "outputs": [],
   "source": [
    "prob_mayor_80 = 1-norm.cdf(80, media, desv_std)"
   ]
  },
  {
   "cell_type": "code",
   "execution_count": 32,
   "id": "e6024d66",
   "metadata": {},
   "outputs": [
    {
     "data": {
      "text/plain": [
       "0.1793395904323054"
      ]
     },
     "execution_count": 32,
     "metadata": {},
     "output_type": "execute_result"
    }
   ],
   "source": [
    "prob_mayor_80"
   ]
  },
  {
   "cell_type": "code",
   "execution_count": 46,
   "id": "25524c7f",
   "metadata": {},
   "outputs": [],
   "source": [
    "media = 10\n",
    "desv_std = 4\n",
    "n = 500\n",
    "\n",
    "datos = np.random.normal(loc = media, scale = desv_std, size = n)"
   ]
  },
  {
   "cell_type": "code",
   "execution_count": 47,
   "id": "e88551ef",
   "metadata": {},
   "outputs": [
    {
     "data": {
      "text/plain": [
       "9.912042415930827"
      ]
     },
     "execution_count": 47,
     "metadata": {},
     "output_type": "execute_result"
    }
   ],
   "source": [
    "media_muestra  = np.mean(datos)\n",
    "media_muestra"
   ]
  },
  {
   "cell_type": "code",
   "execution_count": 48,
   "id": "81f5b67e",
   "metadata": {},
   "outputs": [
    {
     "data": {
      "image/png": "[encoded data removed]",
      "text/plain": [
       "<Figure size 432x288 with 1 Axes>"
      ]
     },
     "metadata": {
      "needs_background": "light"
     },
     "output_type": "display_data"
    }
   ],
   "source": [
    "plt.hist(datos, bins=20, edgecolor='black',density = True)\n",
    "plt.show()\n"
   ]
  },
  {
   "cell_type": "code",
   "execution_count": 49,
   "id": "68070292",
   "metadata": {},
   "outputs": [],
   "source": [
    "from scipy.stats import poisson\n",
    "x = 2\n",
    "media = 2.5\n",
    "\n",
    "prob = poisson.cdf(x,media)"
   ]
  },
  {
   "cell_type": "code",
   "execution_count": 50,
   "id": "5384f758",
   "metadata": {},
   "outputs": [
    {
     "data": {
      "text/plain": [
       "0.5438131158833297"
      ]
     },
     "execution_count": 50,
     "metadata": {},
     "output_type": "execute_result"
    }
   ],
   "source": [
    "prob"
   ]
  },
  {
   "cell_type": "code",
   "execution_count": 1,
   "id": "62c37f53",
   "metadata": {},
   "outputs": [],
   "source": [
    "import scipy.stats as stats"
   ]
  },
  {
   "cell_type": "code",
   "execution_count": 4,
   "id": "40a70de1",
   "metadata": {},
   "outputs": [],
   "source": [
    "z = stats.norm.ppf(0.5)"
   ]
  },
  {
   "cell_type": "code",
   "execution_count": 5,
   "id": "90fa4681",
   "metadata": {},
   "outputs": [
    {
     "data": {
      "text/plain": [
       "0.0"
      ]
     },
     "execution_count": 5,
     "metadata": {},
     "output_type": "execute_result"
    }
   ],
   "source": [
    "z"
   ]
  },
  {
   "cell_type": "code",
   "execution_count": 6,
   "id": "90c6682f",
   "metadata": {},
   "outputs": [],
   "source": [
    "from scipy.stats import norm\n",
    "\n",
    "media = 1200\n",
    "\n",
    "dev = 50 / (26)**(0.5)"
   ]
  },
  {
   "cell_type": "code",
   "execution_count": 7,
   "id": "637bab40",
   "metadata": {},
   "outputs": [
    {
     "data": {
      "text/plain": [
       "0.02069470200457467"
      ]
     },
     "execution_count": 7,
     "metadata": {},
     "output_type": "execute_result"
    }
   ],
   "source": [
    "norm.cdf(1180, media, dev)"
   ]
  },
  {
   "cell_type": "code",
   "execution_count": null,
   "id": "ab540dfe",
   "metadata": {},
   "outputs": [],
   "source": []
  }
 ],
 "metadata": {
  "kernelspec": {
   "display_name": "Python 3 (ipykernel)",
   "language": "python",
   "name": "python3"
  },
  "language_info": {
   "codemirror_mode": {
    "name": "ipython",
    "version": 3
   },
   "file_extension": ".py",
   "mimetype": "text/x-python",
   "name": "python",
   "nbconvert_exporter": "python",
   "pygments_lexer": "ipython3",
   "version": "3.9.12"
  }
 },
 "nbformat": 4,
 "nbformat_minor": 5
}
